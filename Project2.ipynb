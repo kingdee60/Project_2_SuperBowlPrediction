{
 "cells": [
  {
   "cell_type": "markdown",
   "metadata": {},
   "source": [
    "# Credit Risk Classification\n",
    "\n",
    "Credit risk poses a classification problem that’s inherently imbalanced. This is because healthy loans easily outnumber risky loans. In this Challenge, you’ll use various techniques to train and evaluate models with imbalanced classes. You’ll use a dataset of historical lending activity from a peer-to-peer lending services company to build a model that can identify the creditworthiness of borrowers.\n",
    "\n",
    "## Instructions:\n",
    "\n",
    "This challenge consists of the following subsections:\n",
    "\n",
    "* Split the Data into Training and Testing Sets\n",
    "\n",
    "* Create a Logistic Regression Model with the Original Data\n",
    "\n",
    "* Predict a Logistic Regression Model with Resampled Training Data \n",
    "\n",
    "### Split the Data into Training and Testing Sets\n",
    "\n",
    "Open the starter code notebook and then use it to complete the following steps.\n",
    "\n",
    "1. Read the `lending_data.csv` data from the `Resources` folder into a Pandas DataFrame.\n",
    "\n",
    "2. Create the labels set (`y`)  from the “loan_status” column, and then create the features (`X`) DataFrame from the remaining columns.\n",
    "\n",
    "    > **Note** A value of `0` in the “loan_status” column means that the loan is healthy. A value of `1` means that the loan has a high risk of defaulting.  \n",
    "\n",
    "3. Check the balance of the labels variable (`y`) by using the `value_counts` function.\n",
    "\n",
    "4. Split the data into training and testing datasets by using `train_test_split`.\n",
    "\n",
    "### Create a Logistic Regression Model with the Original Data\n",
    "\n",
    "Employ your knowledge of logistic regression to complete the following steps:\n",
    "\n",
    "1. Fit a logistic regression model by using the training data (`X_train` and `y_train`).\n",
    "\n",
    "2. Save the predictions on the testing data labels by using the testing feature data (`X_test`) and the fitted model.\n",
    "\n",
    "3. Evaluate the model’s performance by doing the following:\n",
    "\n",
    "    * Calculate the accuracy score of the model.\n",
    "\n",
    "    * Generate a confusion matrix.\n",
    "\n",
    "    * Print the classification report.\n",
    "\n",
    "4. Answer the following question: How well does the logistic regression model predict both the `0` (healthy loan) and `1` (high-risk loan) labels?\n",
    "\n",
    "### Predict a Logistic Regression Model with Resampled Training Data\n",
    "\n",
    "Did you notice the small number of high-risk loan labels? Perhaps, a model that uses resampled data will perform better. You’ll thus resample the training data and then reevaluate the model. Specifically, you’ll use `RandomOverSampler`.\n",
    "\n",
    "To do so, complete the following steps:\n",
    "\n",
    "1. Use the `RandomOverSampler` module from the imbalanced-learn library to resample the data. Be sure to confirm that the labels have an equal number of data points. \n",
    "\n",
    "2. Use the `LogisticRegression` classifier and the resampled data to fit the model and make predictions.\n",
    "\n",
    "3. Evaluate the model’s performance by doing the following:\n",
    "\n",
    "    * Calculate the accuracy score of the model.\n",
    "\n",
    "    * Generate a confusion matrix.\n",
    "\n",
    "    * Print the classification report.\n",
    "    \n",
    "4. Answer the following question: How well does the logistic regression model, fit with oversampled data, predict both the `0` (healthy loan) and `1` (high-risk loan) labels?\n",
    "\n",
    "### Write a Credit Risk Analysis Report\n",
    "\n",
    "For this section, you’ll write a brief report that includes a summary and an analysis of the performance of both machine learning models that you used in this challenge. You should write this report as the `README.md` file included in your GitHub repository.\n",
    "\n",
    "Structure your report by using the report template that `Starter_Code.zip` includes, and make sure that it contains the following:\n",
    "\n",
    "1. An overview of the analysis: Explain the purpose of this analysis.\n",
    "\n",
    "\n",
    "2. The results: Using bulleted lists, describe the balanced accuracy scores and the precision and recall scores of both machine learning models.\n",
    "\n",
    "3. A summary: Summarize the results from the machine learning models. Compare the two versions of the dataset predictions. Include your recommendation for the model to use, if any, on the original vs. the resampled data. If you don’t recommend either model, justify your reasoning."
   ]
  },
  {
   "cell_type": "code",
   "execution_count": 1,
   "metadata": {},
   "outputs": [],
   "source": [
    "# Import the modules\n",
    "import numpy as np\n",
    "import pandas as pd\n",
    "from pathlib import Path\n",
    "from sklearn.metrics import balanced_accuracy_score\n",
    "from sklearn.metrics import confusion_matrix\n",
    "from imblearn.metrics import classification_report_imbalanced\n",
    "\n",
    "import warnings\n",
    "warnings.filterwarnings('ignore')"
   ]
  },
  {
   "cell_type": "markdown",
   "metadata": {},
   "source": [
    "---"
   ]
  },
  {
   "cell_type": "markdown",
   "metadata": {},
   "source": [
    "## Split the Data into Training and Testing Sets"
   ]
  },
  {
   "cell_type": "markdown",
   "metadata": {},
   "source": [
    "### Step 1: Read the `lending_data.csv` data from the `Resources` folder into a Pandas DataFrame."
   ]
  },
  {
   "cell_type": "code",
   "execution_count": 2,
   "metadata": {},
   "outputs": [
    {
     "data": {
      "text/html": [
       "<div>\n",
       "<style scoped>\n",
       "    .dataframe tbody tr th:only-of-type {\n",
       "        vertical-align: middle;\n",
       "    }\n",
       "\n",
       "    .dataframe tbody tr th {\n",
       "        vertical-align: top;\n",
       "    }\n",
       "\n",
       "    .dataframe thead th {\n",
       "        text-align: right;\n",
       "    }\n",
       "</style>\n",
       "<table border=\"1\" class=\"dataframe\">\n",
       "  <thead>\n",
       "    <tr style=\"text-align: right;\">\n",
       "      <th></th>\n",
       "      <th>Years</th>\n",
       "      <th>Date</th>\n",
       "      <th>Teams</th>\n",
       "      <th>W</th>\n",
       "      <th>L</th>\n",
       "      <th>T</th>\n",
       "      <th>PCT</th>\n",
       "      <th>PF</th>\n",
       "      <th>PA</th>\n",
       "      <th>Net Pts</th>\n",
       "      <th>Home</th>\n",
       "      <th>Road</th>\n",
       "      <th>Div</th>\n",
       "      <th>Pct</th>\n",
       "      <th>Conf</th>\n",
       "      <th>Pct.1</th>\n",
       "      <th>Non-Conf</th>\n",
       "      <th>Strk</th>\n",
       "      <th>Last 5</th>\n",
       "    </tr>\n",
       "  </thead>\n",
       "  <tbody>\n",
       "    <tr>\n",
       "      <th>0</th>\n",
       "      <td>2021</td>\n",
       "      <td>2021</td>\n",
       "      <td>Bills</td>\n",
       "      <td>11</td>\n",
       "      <td>6</td>\n",
       "      <td>0</td>\n",
       "      <td>0.647</td>\n",
       "      <td>483</td>\n",
       "      <td>289</td>\n",
       "      <td>194</td>\n",
       "      <td>6 - 3 - 0</td>\n",
       "      <td>5 - 3 - 0</td>\n",
       "      <td>5 - 1 - 0</td>\n",
       "      <td>0.833</td>\n",
       "      <td>7 - 5 - 0</td>\n",
       "      <td>0.583</td>\n",
       "      <td>4 - 1 - 0</td>\n",
       "      <td>4W</td>\n",
       "      <td>4 - 1 - 0</td>\n",
       "    </tr>\n",
       "    <tr>\n",
       "      <th>1</th>\n",
       "      <td>2021</td>\n",
       "      <td>2021</td>\n",
       "      <td>Dolphins</td>\n",
       "      <td>9</td>\n",
       "      <td>8</td>\n",
       "      <td>0</td>\n",
       "      <td>0.529</td>\n",
       "      <td>341</td>\n",
       "      <td>373</td>\n",
       "      <td>-32</td>\n",
       "      <td>6 - 3 - 0</td>\n",
       "      <td>3 - 5 - 0</td>\n",
       "      <td>4 - 2 - 0</td>\n",
       "      <td>0.667</td>\n",
       "      <td>6 - 6 - 0</td>\n",
       "      <td>0.500</td>\n",
       "      <td>3 - 2 - 0</td>\n",
       "      <td>1W</td>\n",
       "      <td>4 - 1 - 0</td>\n",
       "    </tr>\n",
       "    <tr>\n",
       "      <th>2</th>\n",
       "      <td>2021</td>\n",
       "      <td>2021</td>\n",
       "      <td>Patriots</td>\n",
       "      <td>10</td>\n",
       "      <td>7</td>\n",
       "      <td>0</td>\n",
       "      <td>0.588</td>\n",
       "      <td>462</td>\n",
       "      <td>303</td>\n",
       "      <td>159</td>\n",
       "      <td>4 - 5 - 0</td>\n",
       "      <td>6 - 2 - 0</td>\n",
       "      <td>3 - 3 - 0</td>\n",
       "      <td>0.500</td>\n",
       "      <td>8 - 4 - 0</td>\n",
       "      <td>0.667</td>\n",
       "      <td>2 - 3 - 0</td>\n",
       "      <td>1L</td>\n",
       "      <td>2 - 3 - 0</td>\n",
       "    </tr>\n",
       "    <tr>\n",
       "      <th>3</th>\n",
       "      <td>2021</td>\n",
       "      <td>2021</td>\n",
       "      <td>Jets</td>\n",
       "      <td>4</td>\n",
       "      <td>13</td>\n",
       "      <td>0</td>\n",
       "      <td>0.235</td>\n",
       "      <td>310</td>\n",
       "      <td>504</td>\n",
       "      <td>-194</td>\n",
       "      <td>3 - 6 - 0</td>\n",
       "      <td>1 - 7 - 0</td>\n",
       "      <td>0 - 6 - 0</td>\n",
       "      <td>0.000</td>\n",
       "      <td>4 - 8 - 0</td>\n",
       "      <td>0.333</td>\n",
       "      <td>0 - 5 - 0</td>\n",
       "      <td>2L</td>\n",
       "      <td>1 - 4 - 0</td>\n",
       "    </tr>\n",
       "    <tr>\n",
       "      <th>4</th>\n",
       "      <td>2021</td>\n",
       "      <td>2021</td>\n",
       "      <td>Bengals</td>\n",
       "      <td>10</td>\n",
       "      <td>7</td>\n",
       "      <td>0</td>\n",
       "      <td>0.588</td>\n",
       "      <td>460</td>\n",
       "      <td>376</td>\n",
       "      <td>84</td>\n",
       "      <td>5 - 4 - 0</td>\n",
       "      <td>5 - 3 - 0</td>\n",
       "      <td>4 - 2 - 0</td>\n",
       "      <td>0.667</td>\n",
       "      <td>8 - 4 - 0</td>\n",
       "      <td>0.667</td>\n",
       "      <td>2 - 3 - 0</td>\n",
       "      <td>1L</td>\n",
       "      <td>3 - 2 - 0</td>\n",
       "    </tr>\n",
       "  </tbody>\n",
       "</table>\n",
       "</div>"
      ],
      "text/plain": [
       "   Years  Date     Teams   W   L  T    PCT   PF   PA  Net Pts       Home  \\\n",
       "0   2021  2021     Bills  11   6  0  0.647  483  289      194  6 - 3 - 0   \n",
       "1   2021  2021  Dolphins   9   8  0  0.529  341  373      -32  6 - 3 - 0   \n",
       "2   2021  2021  Patriots  10   7  0  0.588  462  303      159  4 - 5 - 0   \n",
       "3   2021  2021      Jets   4  13  0  0.235  310  504     -194  3 - 6 - 0   \n",
       "4   2021  2021   Bengals  10   7  0  0.588  460  376       84  5 - 4 - 0   \n",
       "\n",
       "        Road        Div    Pct       Conf  Pct.1   Non-Conf Strk     Last 5  \n",
       "0  5 - 3 - 0  5 - 1 - 0  0.833  7 - 5 - 0  0.583  4 - 1 - 0   4W  4 - 1 - 0  \n",
       "1  3 - 5 - 0  4 - 2 - 0  0.667  6 - 6 - 0  0.500  3 - 2 - 0   1W  4 - 1 - 0  \n",
       "2  6 - 2 - 0  3 - 3 - 0  0.500  8 - 4 - 0  0.667  2 - 3 - 0   1L  2 - 3 - 0  \n",
       "3  1 - 7 - 0  0 - 6 - 0  0.000  4 - 8 - 0  0.333  0 - 5 - 0   2L  1 - 4 - 0  \n",
       "4  5 - 3 - 0  4 - 2 - 0  0.667  8 - 4 - 0  0.667  2 - 3 - 0   1L  3 - 2 - 0  "
      ]
     },
     "execution_count": 2,
     "metadata": {},
     "output_type": "execute_result"
    }
   ],
   "source": [
    "# Read the CSV file from the Resources folder into a Pandas DataFrame\n",
    "df_SuperBowl = pd.read_csv(\n",
    "    Path(\"./Resources/2021_2011_regular_ season_1.csv\")\n",
    ")\n",
    "# Review the DataFrame\n",
    "df_SuperBowl.head()"
   ]
  },
  {
   "cell_type": "markdown",
   "metadata": {},
   "source": [
    "### Step 2: Create the labels set (`y`)  from the “loan_status” column, and then create the features (`X`) DataFrame from the remaining columns."
   ]
  },
  {
   "cell_type": "code",
   "execution_count": 5,
   "metadata": {},
   "outputs": [],
   "source": [
    "# Separate the data into labels and features\n",
    "# Separate the y variable, the labels\n",
    "y = df_SuperBowl[\"Teams\"]\n",
    "\n",
    "# Separate the X variable, the features\n",
    "X = df_SuperBowl.drop(columns=\"Teams\")"
   ]
  },
  {
   "cell_type": "code",
   "execution_count": 6,
   "metadata": {},
   "outputs": [
    {
     "data": {
      "text/plain": [
       "0       Bills\n",
       "1    Dolphins\n",
       "2    Patriots\n",
       "3        Jets\n",
       "4     Bengals\n",
       "Name: Teams, dtype: object"
      ]
     },
     "execution_count": 6,
     "metadata": {},
     "output_type": "execute_result"
    }
   ],
   "source": [
    "# Review the y variable Series\n",
    "y.head()"
   ]
  },
  {
   "cell_type": "code",
   "execution_count": 7,
   "metadata": {},
   "outputs": [
    {
     "data": {
      "text/html": [
       "<div>\n",
       "<style scoped>\n",
       "    .dataframe tbody tr th:only-of-type {\n",
       "        vertical-align: middle;\n",
       "    }\n",
       "\n",
       "    .dataframe tbody tr th {\n",
       "        vertical-align: top;\n",
       "    }\n",
       "\n",
       "    .dataframe thead th {\n",
       "        text-align: right;\n",
       "    }\n",
       "</style>\n",
       "<table border=\"1\" class=\"dataframe\">\n",
       "  <thead>\n",
       "    <tr style=\"text-align: right;\">\n",
       "      <th></th>\n",
       "      <th>Years</th>\n",
       "      <th>Date</th>\n",
       "      <th>W</th>\n",
       "      <th>L</th>\n",
       "      <th>T</th>\n",
       "      <th>PCT</th>\n",
       "      <th>PF</th>\n",
       "      <th>PA</th>\n",
       "      <th>Net Pts</th>\n",
       "      <th>Home</th>\n",
       "      <th>Road</th>\n",
       "      <th>Div</th>\n",
       "      <th>Pct</th>\n",
       "      <th>Conf</th>\n",
       "      <th>Pct.1</th>\n",
       "      <th>Non-Conf</th>\n",
       "      <th>Strk</th>\n",
       "      <th>Last 5</th>\n",
       "    </tr>\n",
       "  </thead>\n",
       "  <tbody>\n",
       "    <tr>\n",
       "      <th>0</th>\n",
       "      <td>2021</td>\n",
       "      <td>2021</td>\n",
       "      <td>11</td>\n",
       "      <td>6</td>\n",
       "      <td>0</td>\n",
       "      <td>0.647</td>\n",
       "      <td>483</td>\n",
       "      <td>289</td>\n",
       "      <td>194</td>\n",
       "      <td>6 - 3 - 0</td>\n",
       "      <td>5 - 3 - 0</td>\n",
       "      <td>5 - 1 - 0</td>\n",
       "      <td>0.833</td>\n",
       "      <td>7 - 5 - 0</td>\n",
       "      <td>0.583</td>\n",
       "      <td>4 - 1 - 0</td>\n",
       "      <td>4W</td>\n",
       "      <td>4 - 1 - 0</td>\n",
       "    </tr>\n",
       "    <tr>\n",
       "      <th>1</th>\n",
       "      <td>2021</td>\n",
       "      <td>2021</td>\n",
       "      <td>9</td>\n",
       "      <td>8</td>\n",
       "      <td>0</td>\n",
       "      <td>0.529</td>\n",
       "      <td>341</td>\n",
       "      <td>373</td>\n",
       "      <td>-32</td>\n",
       "      <td>6 - 3 - 0</td>\n",
       "      <td>3 - 5 - 0</td>\n",
       "      <td>4 - 2 - 0</td>\n",
       "      <td>0.667</td>\n",
       "      <td>6 - 6 - 0</td>\n",
       "      <td>0.500</td>\n",
       "      <td>3 - 2 - 0</td>\n",
       "      <td>1W</td>\n",
       "      <td>4 - 1 - 0</td>\n",
       "    </tr>\n",
       "    <tr>\n",
       "      <th>2</th>\n",
       "      <td>2021</td>\n",
       "      <td>2021</td>\n",
       "      <td>10</td>\n",
       "      <td>7</td>\n",
       "      <td>0</td>\n",
       "      <td>0.588</td>\n",
       "      <td>462</td>\n",
       "      <td>303</td>\n",
       "      <td>159</td>\n",
       "      <td>4 - 5 - 0</td>\n",
       "      <td>6 - 2 - 0</td>\n",
       "      <td>3 - 3 - 0</td>\n",
       "      <td>0.500</td>\n",
       "      <td>8 - 4 - 0</td>\n",
       "      <td>0.667</td>\n",
       "      <td>2 - 3 - 0</td>\n",
       "      <td>1L</td>\n",
       "      <td>2 - 3 - 0</td>\n",
       "    </tr>\n",
       "    <tr>\n",
       "      <th>3</th>\n",
       "      <td>2021</td>\n",
       "      <td>2021</td>\n",
       "      <td>4</td>\n",
       "      <td>13</td>\n",
       "      <td>0</td>\n",
       "      <td>0.235</td>\n",
       "      <td>310</td>\n",
       "      <td>504</td>\n",
       "      <td>-194</td>\n",
       "      <td>3 - 6 - 0</td>\n",
       "      <td>1 - 7 - 0</td>\n",
       "      <td>0 - 6 - 0</td>\n",
       "      <td>0.000</td>\n",
       "      <td>4 - 8 - 0</td>\n",
       "      <td>0.333</td>\n",
       "      <td>0 - 5 - 0</td>\n",
       "      <td>2L</td>\n",
       "      <td>1 - 4 - 0</td>\n",
       "    </tr>\n",
       "    <tr>\n",
       "      <th>4</th>\n",
       "      <td>2021</td>\n",
       "      <td>2021</td>\n",
       "      <td>10</td>\n",
       "      <td>7</td>\n",
       "      <td>0</td>\n",
       "      <td>0.588</td>\n",
       "      <td>460</td>\n",
       "      <td>376</td>\n",
       "      <td>84</td>\n",
       "      <td>5 - 4 - 0</td>\n",
       "      <td>5 - 3 - 0</td>\n",
       "      <td>4 - 2 - 0</td>\n",
       "      <td>0.667</td>\n",
       "      <td>8 - 4 - 0</td>\n",
       "      <td>0.667</td>\n",
       "      <td>2 - 3 - 0</td>\n",
       "      <td>1L</td>\n",
       "      <td>3 - 2 - 0</td>\n",
       "    </tr>\n",
       "  </tbody>\n",
       "</table>\n",
       "</div>"
      ],
      "text/plain": [
       "   Years  Date   W   L  T    PCT   PF   PA  Net Pts       Home       Road  \\\n",
       "0   2021  2021  11   6  0  0.647  483  289      194  6 - 3 - 0  5 - 3 - 0   \n",
       "1   2021  2021   9   8  0  0.529  341  373      -32  6 - 3 - 0  3 - 5 - 0   \n",
       "2   2021  2021  10   7  0  0.588  462  303      159  4 - 5 - 0  6 - 2 - 0   \n",
       "3   2021  2021   4  13  0  0.235  310  504     -194  3 - 6 - 0  1 - 7 - 0   \n",
       "4   2021  2021  10   7  0  0.588  460  376       84  5 - 4 - 0  5 - 3 - 0   \n",
       "\n",
       "         Div    Pct       Conf  Pct.1   Non-Conf Strk     Last 5  \n",
       "0  5 - 1 - 0  0.833  7 - 5 - 0  0.583  4 - 1 - 0   4W  4 - 1 - 0  \n",
       "1  4 - 2 - 0  0.667  6 - 6 - 0  0.500  3 - 2 - 0   1W  4 - 1 - 0  \n",
       "2  3 - 3 - 0  0.500  8 - 4 - 0  0.667  2 - 3 - 0   1L  2 - 3 - 0  \n",
       "3  0 - 6 - 0  0.000  4 - 8 - 0  0.333  0 - 5 - 0   2L  1 - 4 - 0  \n",
       "4  4 - 2 - 0  0.667  8 - 4 - 0  0.667  2 - 3 - 0   1L  3 - 2 - 0  "
      ]
     },
     "execution_count": 7,
     "metadata": {},
     "output_type": "execute_result"
    }
   ],
   "source": [
    "# Review the X variable DataFrame\n",
    "X.head()"
   ]
  },
  {
   "cell_type": "markdown",
   "metadata": {},
   "source": [
    "### Step 3: Check the balance of the labels variable (`y`) by using the `value_counts` function."
   ]
  },
  {
   "cell_type": "code",
   "execution_count": 8,
   "metadata": {},
   "outputs": [
    {
     "data": {
      "text/plain": [
       "Bills         11\n",
       "Dolphins      11\n",
       "49ers         11\n",
       "Cardinals     11\n",
       "Rams          11\n",
       "Panthers      11\n",
       "Falcons       11\n",
       "Saints        11\n",
       "Buccaneers    11\n",
       "Lions         11\n",
       "Bears         11\n",
       "Vikings       11\n",
       "Packers       11\n",
       "Giants        11\n",
       "Redskins      11\n",
       "Eagles        11\n",
       "Cowboys       11\n",
       "Broncos       11\n",
       "Chargers      11\n",
       "Raiders       11\n",
       "Chiefs        11\n",
       "Jaguars       11\n",
       "Texans        11\n",
       "Colts         11\n",
       "Titans        11\n",
       "Ravens        11\n",
       "Browns        11\n",
       "Steelers      11\n",
       "Bengals       11\n",
       "Jets          11\n",
       "Patriots      11\n",
       "Seahawks      11\n",
       "Name: Teams, dtype: int64"
      ]
     },
     "execution_count": 8,
     "metadata": {},
     "output_type": "execute_result"
    }
   ],
   "source": [
    "# Check the balance of our target values\n",
    "y.value_counts()"
   ]
  },
  {
   "cell_type": "markdown",
   "metadata": {},
   "source": [
    "### Step 4: Split the data into training and testing datasets by using `train_test_split`."
   ]
  },
  {
   "cell_type": "code",
   "execution_count": null,
   "metadata": {},
   "outputs": [],
   "source": [
    "# Import the train_test_learn module\n",
    "from sklearn.model_selection import train_test_split\n",
    "\n",
    "# Split the data using train_test_split\n",
    "# Assign a random_state of 1 to the function\n",
    "\n",
    "X_train, X_test, y_train, y_test = train_test_split(X, \n",
    "                                                    y, \n",
    "                                                    random_state=1, \n",
    "                                                    stratify=y)\n",
    "X_train.shape"
   ]
  },
  {
   "cell_type": "markdown",
   "metadata": {},
   "source": [
    "---"
   ]
  },
  {
   "cell_type": "markdown",
   "metadata": {},
   "source": [
    "## Create a Logistic Regression Model with the Original Data"
   ]
  },
  {
   "cell_type": "markdown",
   "metadata": {},
   "source": [
    "###  Step 1: Fit a logistic regression model by using the training data (`X_train` and `y_train`)."
   ]
  },
  {
   "cell_type": "code",
   "execution_count": null,
   "metadata": {},
   "outputs": [],
   "source": [
    "# Import the LogisticRegression module from SKLearn\n",
    "from sklearn.linear_model import LogisticRegression\n",
    "\n",
    "# Instantiate the Logistic Regression model\n",
    "classifier = LogisticRegression(solver='lbfgs', random_state=1)\n",
    "classifier"
   ]
  },
  {
   "cell_type": "code",
   "execution_count": null,
   "metadata": {},
   "outputs": [],
   "source": [
    "# Fit the model using training data\n",
    "classifier.fit(X_train, y_train)"
   ]
  },
  {
   "cell_type": "markdown",
   "metadata": {},
   "source": [
    "### Step 2: Save the predictions on the testing data labels by using the testing feature data (`X_test`) and the fitted model."
   ]
  },
  {
   "cell_type": "code",
   "execution_count": null,
   "metadata": {},
   "outputs": [],
   "source": [
    "# Make a prediction using the testing data\n",
    "from sklearn.svm import SVC\n",
    "\n",
    "predictions = classifier.predict(X_test)\n",
    "results = pd.DataFrame({\n",
    "    \"Prediction\": predictions, \n",
    "    \"Actual\": y_test\n",
    "}).reset_index(drop=True)\n",
    "results.head()"
   ]
  },
  {
   "cell_type": "markdown",
   "metadata": {},
   "source": [
    "### Step 3: Evaluate the model’s performance by doing the following:\n",
    "\n",
    "* Calculate the accuracy score of the model.\n",
    "\n",
    "* Generate a confusion matrix.\n",
    "\n",
    "* Print the classification report."
   ]
  },
  {
   "cell_type": "code",
   "execution_count": null,
   "metadata": {},
   "outputs": [],
   "source": [
    "# Print the balanced_accuracy score of the model\n",
    "from sklearn.metrics import accuracy_score\n",
    "\n",
    "# Display the accuracy score for the test dataset.\n",
    "accuracy_score(y_test, predictions)"
   ]
  },
  {
   "cell_type": "code",
   "execution_count": null,
   "metadata": {},
   "outputs": [],
   "source": [
    "# Generate a confusion matrix for the model\n",
    "from sklearn.metrics import confusion_matrix\n",
    "\n",
    "confusion_matrix(y_test, predictions)"
   ]
  },
  {
   "cell_type": "code",
   "execution_count": null,
   "metadata": {},
   "outputs": [],
   "source": [
    "# Print the classification report for the model\n",
    "from sklearn.metrics import classification_report\n",
    "\n",
    "target_names = [\"0\", \"1\"]\n",
    "print(classification_report(y_test, predictions, target_names=target_names))"
   ]
  },
  {
   "cell_type": "markdown",
   "metadata": {},
   "source": [
    "### Step 4: Answer the following question."
   ]
  },
  {
   "cell_type": "markdown",
   "metadata": {
    "tags": []
   },
   "source": [
    "**Question:** How well does the logistic regression model predict both the `0` (healthy loan) and `1` (high-risk loan) labels?\n",
    "\n",
    "**Answer:** The logistic regression model predicts with 100% precision for 'healthy loans' and 87% precision for 'high-risk loans'. Overall accuracy is ~99.2% for categorized loans in the test data."
   ]
  },
  {
   "cell_type": "markdown",
   "metadata": {},
   "source": [
    "---"
   ]
  },
  {
   "cell_type": "markdown",
   "metadata": {},
   "source": [
    "## Predict a Logistic Regression Model with Resampled Training Data"
   ]
  },
  {
   "cell_type": "markdown",
   "metadata": {},
   "source": [
    "### Step 1: Use the `RandomOverSampler` module from the imbalanced-learn library to resample the data. Be sure to confirm that the labels have an equal number of data points. "
   ]
  },
  {
   "cell_type": "code",
   "execution_count": null,
   "metadata": {},
   "outputs": [],
   "source": [
    "# Import the RandomOverSampler module form imbalanced-learn\n",
    "from imblearn.over_sampling import RandomOverSampler\n",
    "\n",
    "# Instantiate the random oversampler model\n",
    "# # Assign a random_state parameter of 1 to the model\n",
    "random_oversampler = RandomOverSampler(random_state=1)\n",
    "\n",
    "# Fit the original training data to the random_oversampler model\n",
    "X_resampled, y_resampled = random_oversampler.fit_resample(X_train, y_train)"
   ]
  },
  {
   "cell_type": "code",
   "execution_count": null,
   "metadata": {},
   "outputs": [],
   "source": [
    "# Count the distinct values of the resampled labels data\n",
    "y_resampled.value_counts()"
   ]
  },
  {
   "cell_type": "markdown",
   "metadata": {},
   "source": [
    "### Step 2: Use the `LogisticRegression` classifier and the resampled data to fit the model and make predictions."
   ]
  },
  {
   "cell_type": "code",
   "execution_count": null,
   "metadata": {},
   "outputs": [],
   "source": [
    "# Instantiate the Logistic Regression model\n",
    "# Assign a random_state parameter of 1 to the model\n",
    "resampled_classifier = LogisticRegression(solver='lbfgs', random_state=1)\n",
    "resampled_classifier\n",
    "\n",
    "# Fit the model using the resampled training data\n",
    "resampled_classifier.fit(X_resampled, y_resampled)\n",
    "\n",
    "# Make a prediction using the testing data\n",
    "from sklearn.svm import SVC\n",
    "\n",
    "resampled_predictions = resampled_classifier.predict(X_resampled)\n",
    "results = pd.DataFrame({\n",
    "    \"Prediction\": resampled_predictions, \n",
    "    \"Actual\": y_resampled\n",
    "}).reset_index(drop=True)\n",
    "results.head()"
   ]
  },
  {
   "cell_type": "markdown",
   "metadata": {},
   "source": [
    "### Step 3: Evaluate the model’s performance by doing the following:\n",
    "\n",
    "* Calculate the accuracy score of the model.\n",
    "\n",
    "* Generate a confusion matrix.\n",
    "\n",
    "* Print the classification report."
   ]
  },
  {
   "cell_type": "code",
   "execution_count": null,
   "metadata": {},
   "outputs": [],
   "source": [
    "# Print the balanced_accuracy score of the model \n",
    "from sklearn.metrics import accuracy_score\n",
    "\n",
    "# Display the resampled accuracy score for the test dataset.\n",
    "accuracy_score(y_resampled, resampled_predictions)"
   ]
  },
  {
   "cell_type": "code",
   "execution_count": null,
   "metadata": {},
   "outputs": [],
   "source": [
    "# Generate a resampled confusion matrix for the model\n",
    "from sklearn.metrics import confusion_matrix\n",
    "\n",
    "confusion_matrix(y_resampled, resampled_predictions)"
   ]
  },
  {
   "cell_type": "code",
   "execution_count": null,
   "metadata": {},
   "outputs": [],
   "source": [
    "# Print the classification report for the model\n",
    "from sklearn.metrics import classification_report\n",
    "\n",
    "target_names = [\"0\", \"1\"]\n",
    "print(classification_report(y_resampled, resampled_predictions, target_names=target_names))"
   ]
  },
  {
   "cell_type": "markdown",
   "metadata": {},
   "source": [
    "### Step 4: Answer the following question"
   ]
  },
  {
   "cell_type": "markdown",
   "metadata": {},
   "source": [
    "**Question:** How well does the logistic regression model, fit with oversampled data, predict both the `0` (healthy loan) and `1` (high-risk loan) labels?\n",
    "\n",
    "**Answer:** The logistic regression model predicts with 99% precision for 'healthy loans' and 99% precision for 'high-risk loans'. Overall accuracy is ~99.4% for categorized loans in the test data."
   ]
  },
  {
   "cell_type": "code",
   "execution_count": null,
   "metadata": {},
   "outputs": [],
   "source": []
  }
 ],
 "metadata": {
  "kernelspec": {
   "display_name": "Python 3 (ipykernel)",
   "language": "python",
   "name": "python3"
  },
  "language_info": {
   "codemirror_mode": {
    "name": "ipython",
    "version": 3
   },
   "file_extension": ".py",
   "mimetype": "text/x-python",
   "name": "python",
   "nbconvert_exporter": "python",
   "pygments_lexer": "ipython3",
   "version": "3.9.12"
  }
 },
 "nbformat": 4,
 "nbformat_minor": 4
}
