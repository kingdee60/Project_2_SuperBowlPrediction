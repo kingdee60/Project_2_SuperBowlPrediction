{
 "cells": [
  {
   "cell_type": "code",
   "execution_count": 1,
   "id": "443df8ef-6005-48e2-8e91-cbb758ab4672",
   "metadata": {},
   "outputs": [],
   "source": [
    "# Initial imports\n",
    "import pandas as pd\n",
    "import numpy as np\n",
    "from sklearn.datasets import make_moons\n",
    "from sklearn.model_selection import train_test_split\n",
    "from sklearn.preprocessing import StandardScaler\n",
    "from tensorflow.keras.models import Sequential\n",
    "from tensorflow.keras.layers import Dense\n"
   ]
  },
  {
   "cell_type": "code",
   "execution_count": 60,
   "id": "2c07ee99-1b3c-4c2d-8588-5fa4b092331a",
   "metadata": {},
   "outputs": [],
   "source": [
    "season_2021_2011= pd.read_csv(\"2021_2011_regular_ season_1.csv\", \n",
    "                          index_col=\"Years\",\n",
    "                          parse_dates = True, \n",
    "                          infer_datetime_format = True\n",
    ")"
   ]
  },
  {
   "cell_type": "code",
   "execution_count": 61,
   "id": "722f478f-ad5e-4765-a983-e11a516d81a7",
   "metadata": {},
   "outputs": [],
   "source": [
    "# # # Create a list of categorical variables \n",
    "teams_variables = list(season_2021_2011.dtypes[season_2021_2011.dtypes == \"object\"].index)\n"
   ]
  },
  {
   "cell_type": "code",
   "execution_count": 62,
   "id": "f89262dd-6183-4e93-85b9-da4480e3f2b5",
   "metadata": {},
   "outputs": [],
   "source": [
    "# # Imports\n",
    "# from sklearn.preprocessing import OneHotEncoder"
   ]
  },
  {
   "cell_type": "code",
   "execution_count": 63,
   "id": "6427a685-c236-48e7-994e-5c0ff871fefa",
   "metadata": {},
   "outputs": [],
   "source": [
    "# # Create a OneHotEncoder instance\n",
    "# enc = OneHotEncoder(sparse=False)"
   ]
  },
  {
   "cell_type": "code",
   "execution_count": 64,
   "id": "927d301c-c90b-4df7-8e7b-cd77dafe3563",
   "metadata": {},
   "outputs": [],
   "source": [
    "# # Use the fit_transform method from the OneHotEncoder to encode the data\n",
    "# encoded_data = enc.fit_transform(season_2021_2011[teams_variables])"
   ]
  },
  {
   "cell_type": "code",
   "execution_count": 66,
   "id": "ad5447bb-ffd4-4731-9494-1e7a6057a340",
   "metadata": {},
   "outputs": [],
   "source": [
    "# encoded_df"
   ]
  },
  {
   "cell_type": "code",
   "execution_count": 67,
   "id": "ff8b9b26-830f-4dea-b3fe-377aff5a4201",
   "metadata": {},
   "outputs": [],
   "source": [
    "# Create a DataFrame with the columnns containing numerical variables from the original dataset\n",
    "numerical_variables_df = season_2021_2011.drop(columns = teams_variables)\n"
   ]
  },
  {
   "cell_type": "code",
   "execution_count": 68,
   "id": "f2df5778-261d-45c1-8d63-8f7f25139f15",
   "metadata": {},
   "outputs": [],
   "source": [
    "# numerical_variables_df"
   ]
  },
  {
   "cell_type": "code",
   "execution_count": 71,
   "id": "9a719f9e-017a-4b79-adf9-bddd8c92aaf6",
   "metadata": {},
   "outputs": [],
   "source": [
    "season_2021_2011[\"Teams_code\"]= season_2021_2011[\"Teams\"].astype(\"category\").cat.codes\n",
    "teams_code = season_2021_2011[\"Teams_code\"]"
   ]
  },
  {
   "cell_type": "code",
   "execution_count": 74,
   "id": "9e0760f0-153b-4c78-a9b1-ce997816e5eb",
   "metadata": {},
   "outputs": [],
   "source": [
    "# # Create a DataFrame with the encoded variables\n",
    "# encoded_df = pd.DataFrame(\n",
    "#     encoded_data,\n",
    "#     columns = enc.get_feature_names(teams_code)\n",
    "# )"
   ]
  },
  {
   "cell_type": "code",
   "execution_count": 76,
   "id": "eb018832-88b7-473a-be03-7c71a0d1994b",
   "metadata": {},
   "outputs": [
    {
     "data": {
      "text/html": [
       "<div>\n",
       "<style scoped>\n",
       "    .dataframe tbody tr th:only-of-type {\n",
       "        vertical-align: middle;\n",
       "    }\n",
       "\n",
       "    .dataframe tbody tr th {\n",
       "        vertical-align: top;\n",
       "    }\n",
       "\n",
       "    .dataframe thead th {\n",
       "        text-align: right;\n",
       "    }\n",
       "</style>\n",
       "<table border=\"1\" class=\"dataframe\">\n",
       "  <thead>\n",
       "    <tr style=\"text-align: right;\">\n",
       "      <th></th>\n",
       "      <th>Teams_code</th>\n",
       "      <th>Date</th>\n",
       "      <th>W</th>\n",
       "      <th>L</th>\n",
       "      <th>T</th>\n",
       "      <th>PCT</th>\n",
       "      <th>PF</th>\n",
       "      <th>PA</th>\n",
       "      <th>Net Pts</th>\n",
       "      <th>Pct</th>\n",
       "      <th>Pct.1</th>\n",
       "    </tr>\n",
       "    <tr>\n",
       "      <th>Years</th>\n",
       "      <th></th>\n",
       "      <th></th>\n",
       "      <th></th>\n",
       "      <th></th>\n",
       "      <th></th>\n",
       "      <th></th>\n",
       "      <th></th>\n",
       "      <th></th>\n",
       "      <th></th>\n",
       "      <th></th>\n",
       "      <th></th>\n",
       "    </tr>\n",
       "  </thead>\n",
       "  <tbody>\n",
       "    <tr>\n",
       "      <th>2021-01-01</th>\n",
       "      <td>3</td>\n",
       "      <td>2021</td>\n",
       "      <td>11</td>\n",
       "      <td>6</td>\n",
       "      <td>0</td>\n",
       "      <td>0.647</td>\n",
       "      <td>483</td>\n",
       "      <td>289</td>\n",
       "      <td>194</td>\n",
       "      <td>0.833</td>\n",
       "      <td>0.583</td>\n",
       "    </tr>\n",
       "    <tr>\n",
       "      <th>2021-01-01</th>\n",
       "      <td>12</td>\n",
       "      <td>2021</td>\n",
       "      <td>9</td>\n",
       "      <td>8</td>\n",
       "      <td>0</td>\n",
       "      <td>0.529</td>\n",
       "      <td>341</td>\n",
       "      <td>373</td>\n",
       "      <td>-32</td>\n",
       "      <td>0.667</td>\n",
       "      <td>0.500</td>\n",
       "    </tr>\n",
       "    <tr>\n",
       "      <th>2021-01-01</th>\n",
       "      <td>21</td>\n",
       "      <td>2021</td>\n",
       "      <td>10</td>\n",
       "      <td>7</td>\n",
       "      <td>0</td>\n",
       "      <td>0.588</td>\n",
       "      <td>462</td>\n",
       "      <td>303</td>\n",
       "      <td>159</td>\n",
       "      <td>0.500</td>\n",
       "      <td>0.667</td>\n",
       "    </tr>\n",
       "    <tr>\n",
       "      <th>2021-01-01</th>\n",
       "      <td>17</td>\n",
       "      <td>2021</td>\n",
       "      <td>4</td>\n",
       "      <td>13</td>\n",
       "      <td>0</td>\n",
       "      <td>0.235</td>\n",
       "      <td>310</td>\n",
       "      <td>504</td>\n",
       "      <td>-194</td>\n",
       "      <td>0.000</td>\n",
       "      <td>0.333</td>\n",
       "    </tr>\n",
       "    <tr>\n",
       "      <th>2021-01-01</th>\n",
       "      <td>2</td>\n",
       "      <td>2021</td>\n",
       "      <td>10</td>\n",
       "      <td>7</td>\n",
       "      <td>0</td>\n",
       "      <td>0.588</td>\n",
       "      <td>460</td>\n",
       "      <td>376</td>\n",
       "      <td>84</td>\n",
       "      <td>0.667</td>\n",
       "      <td>0.667</td>\n",
       "    </tr>\n",
       "  </tbody>\n",
       "</table>\n",
       "</div>"
      ],
      "text/plain": [
       "            Teams_code  Date   W   L  T    PCT   PF   PA  Net Pts    Pct  \\\n",
       "Years                                                                      \n",
       "2021-01-01           3  2021  11   6  0  0.647  483  289      194  0.833   \n",
       "2021-01-01          12  2021   9   8  0  0.529  341  373      -32  0.667   \n",
       "2021-01-01          21  2021  10   7  0  0.588  462  303      159  0.500   \n",
       "2021-01-01          17  2021   4  13  0  0.235  310  504     -194  0.000   \n",
       "2021-01-01           2  2021  10   7  0  0.588  460  376       84  0.667   \n",
       "\n",
       "            Pct.1  \n",
       "Years              \n",
       "2021-01-01  0.583  \n",
       "2021-01-01  0.500  \n",
       "2021-01-01  0.667  \n",
       "2021-01-01  0.333  \n",
       "2021-01-01  0.667  "
      ]
     },
     "execution_count": 76,
     "metadata": {},
     "output_type": "execute_result"
    }
   ],
   "source": [
    "# Using the Pandas concat function, combine the DataFrames the contain the encoded categorical data and the numerical data\n",
    "attition_df = pd.concat(\n",
    "    [\n",
    "        teams_code,\n",
    "        numerical_variables_df\n",
    "    ],\n",
    "    axis=1\n",
    ")\n",
    "\n",
    "# Reveiw the DataFrame\n",
    "attition_df.head()"
   ]
  },
  {
   "cell_type": "code",
   "execution_count": 78,
   "id": "5409a9a7-096c-4b1f-8c55-f2f52cbb965b",
   "metadata": {},
   "outputs": [],
   "source": [
    "y = (season_2021_2011[\"W\"] >= 8).astype(\"int\")"
   ]
  },
  {
   "cell_type": "code",
   "execution_count": 80,
   "id": "e2ce88b0-a782-4658-861a-030e34819866",
   "metadata": {},
   "outputs": [
    {
     "data": {
      "text/html": [
       "<div>\n",
       "<style scoped>\n",
       "    .dataframe tbody tr th:only-of-type {\n",
       "        vertical-align: middle;\n",
       "    }\n",
       "\n",
       "    .dataframe tbody tr th {\n",
       "        vertical-align: top;\n",
       "    }\n",
       "\n",
       "    .dataframe thead th {\n",
       "        text-align: right;\n",
       "    }\n",
       "</style>\n",
       "<table border=\"1\" class=\"dataframe\">\n",
       "  <thead>\n",
       "    <tr style=\"text-align: right;\">\n",
       "      <th></th>\n",
       "      <th>Teams_code</th>\n",
       "      <th>W</th>\n",
       "    </tr>\n",
       "    <tr>\n",
       "      <th>Years</th>\n",
       "      <th></th>\n",
       "      <th></th>\n",
       "    </tr>\n",
       "  </thead>\n",
       "  <tbody>\n",
       "    <tr>\n",
       "      <th>2021-01-01</th>\n",
       "      <td>3</td>\n",
       "      <td>11</td>\n",
       "    </tr>\n",
       "    <tr>\n",
       "      <th>2021-01-01</th>\n",
       "      <td>12</td>\n",
       "      <td>9</td>\n",
       "    </tr>\n",
       "    <tr>\n",
       "      <th>2021-01-01</th>\n",
       "      <td>21</td>\n",
       "      <td>10</td>\n",
       "    </tr>\n",
       "    <tr>\n",
       "      <th>2021-01-01</th>\n",
       "      <td>17</td>\n",
       "      <td>4</td>\n",
       "    </tr>\n",
       "    <tr>\n",
       "      <th>2021-01-01</th>\n",
       "      <td>2</td>\n",
       "      <td>10</td>\n",
       "    </tr>\n",
       "  </tbody>\n",
       "</table>\n",
       "</div>"
      ],
      "text/plain": [
       "            Teams_code   W\n",
       "Years                     \n",
       "2021-01-01           3  11\n",
       "2021-01-01          12   9\n",
       "2021-01-01          21  10\n",
       "2021-01-01          17   4\n",
       "2021-01-01           2  10"
      ]
     },
     "execution_count": 80,
     "metadata": {},
     "output_type": "execute_result"
    }
   ],
   "source": [
    "# Define features set X by selecting all columns but W\n",
    "X = attition_df.drop(columns=[\"Date\", \"L\", \"T\", \"PCT\", \"PF\", \"PA\", \"Net Pts\", \"Pct\", \"Pct.1\"])\n",
    "\n",
    "# Review the features DataFrame\n",
    "X.head()"
   ]
  },
  {
   "cell_type": "code",
   "execution_count": 81,
   "id": "4009af76-5cd4-4232-9e23-593977d91ce7",
   "metadata": {},
   "outputs": [],
   "source": [
    "# Split the data into training and testing datasets\n",
    "# Assign the function a random_state equal to 1\n",
    "X_train, X_test, y_train, y_test = train_test_split(X, y, random_state=1)"
   ]
  },
  {
   "cell_type": "code",
   "execution_count": null,
   "id": "017d94f2-cfa3-413a-bc9e-9f37b9e721b1",
   "metadata": {},
   "outputs": [],
   "source": []
  }
 ],
 "metadata": {
  "kernelspec": {
   "display_name": "Python 3 (ipykernel)",
   "language": "python",
   "name": "python3"
  },
  "language_info": {
   "codemirror_mode": {
    "name": "ipython",
    "version": 3
   },
   "file_extension": ".py",
   "mimetype": "text/x-python",
   "name": "python",
   "nbconvert_exporter": "python",
   "pygments_lexer": "ipython3",
   "version": "3.9.12"
  }
 },
 "nbformat": 4,
 "nbformat_minor": 5
}
