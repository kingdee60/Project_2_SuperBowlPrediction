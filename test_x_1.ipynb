{
 "cells": [
  {
   "cell_type": "code",
   "execution_count": 1,
   "id": "fe8e680d-9d66-45a6-aa14-14466ff8a3f2",
   "metadata": {},
   "outputs": [],
   "source": [
    "# Initial imports\n",
    "import pandas as pd\n",
    "import numpy as np\n",
    "from sklearn.datasets import make_moons\n",
    "from sklearn.model_selection import train_test_split\n",
    "from sklearn.preprocessing import StandardScaler\n",
    "from tensorflow.keras.models import Sequential\n",
    "from tensorflow.keras.layers import Dense\n",
    "import h5py\n",
    "import tensorflow as tf"
   ]
  },
  {
   "cell_type": "code",
   "execution_count": 27,
   "id": "f72a83d3-eb5c-4c5e-8ae3-91905ca98bea",
   "metadata": {},
   "outputs": [],
   "source": [
    "season_2021_2011= pd.read_csv(\"2021_2011_regular_season_super_bowl.csv\", \n",
    "                          index_col=\"Years\",\n",
    "                          parse_dates = True, \n",
    "                          infer_datetime_format = True\n",
    ")"
   ]
  },
  {
   "cell_type": "code",
   "execution_count": 28,
   "id": "8d2a06b2-35f3-4ea0-a3fb-9bf465a90b5f",
   "metadata": {},
   "outputs": [
    {
     "data": {
      "text/plain": [
       "Date            int64\n",
       "Teams          object\n",
       "W               int64\n",
       "L               int64\n",
       "T               int64\n",
       "Super Bowl      int64\n",
       "PCT           float64\n",
       "PF              int64\n",
       "PA              int64\n",
       "Net Pts         int64\n",
       "Home           object\n",
       "Road           object\n",
       "Div            object\n",
       "Pct           float64\n",
       "Conf           object\n",
       "Pct.1         float64\n",
       "Non-Conf       object\n",
       "Strk           object\n",
       "Last 5         object\n",
       "dtype: object"
      ]
     },
     "execution_count": 28,
     "metadata": {},
     "output_type": "execute_result"
    }
   ],
   "source": [
    "# Review the data types associated with the columns\n",
    "season_2021_2011.dtypes"
   ]
  },
  {
   "cell_type": "code",
   "execution_count": 29,
   "id": "04649249-5ed3-474e-b30a-e3860a41a3c5",
   "metadata": {},
   "outputs": [
    {
     "data": {
      "text/plain": [
       "Index(['Date', 'Teams', 'W', 'L', 'T', 'Super Bowl', 'PCT', 'PF', 'PA',\n",
       "       'Net Pts', 'Home', 'Road', 'Div', 'Pct', 'Conf', 'Pct.1', 'Non-Conf',\n",
       "       'Strk', 'Last 5'],\n",
       "      dtype='object')"
      ]
     },
     "execution_count": 29,
     "metadata": {},
     "output_type": "execute_result"
    }
   ],
   "source": [
    "season_2021_2011.columns"
   ]
  },
  {
   "cell_type": "code",
   "execution_count": 31,
   "id": "632f422a-3bd0-4904-9a2f-41c8513589cf",
   "metadata": {},
   "outputs": [
    {
     "data": {
      "text/html": [
       "<div>\n",
       "<style scoped>\n",
       "    .dataframe tbody tr th:only-of-type {\n",
       "        vertical-align: middle;\n",
       "    }\n",
       "\n",
       "    .dataframe tbody tr th {\n",
       "        vertical-align: top;\n",
       "    }\n",
       "\n",
       "    .dataframe thead th {\n",
       "        text-align: right;\n",
       "    }\n",
       "</style>\n",
       "<table border=\"1\" class=\"dataframe\">\n",
       "  <thead>\n",
       "    <tr style=\"text-align: right;\">\n",
       "      <th></th>\n",
       "      <th>Teams</th>\n",
       "      <th>Home</th>\n",
       "      <th>Road</th>\n",
       "      <th>Div</th>\n",
       "      <th>Conf</th>\n",
       "      <th>Non-Conf</th>\n",
       "      <th>Strk</th>\n",
       "      <th>Last 5</th>\n",
       "    </tr>\n",
       "    <tr>\n",
       "      <th>Years</th>\n",
       "      <th></th>\n",
       "      <th></th>\n",
       "      <th></th>\n",
       "      <th></th>\n",
       "      <th></th>\n",
       "      <th></th>\n",
       "      <th></th>\n",
       "      <th></th>\n",
       "    </tr>\n",
       "  </thead>\n",
       "  <tbody>\n",
       "    <tr>\n",
       "      <th>2021-01-01</th>\n",
       "      <td>Bills</td>\n",
       "      <td>6 - 3 - 0</td>\n",
       "      <td>5 - 3 - 0</td>\n",
       "      <td>5 - 1 - 0</td>\n",
       "      <td>7 - 5 - 0</td>\n",
       "      <td>4 - 1 - 0</td>\n",
       "      <td>4W</td>\n",
       "      <td>4 - 1 - 0</td>\n",
       "    </tr>\n",
       "    <tr>\n",
       "      <th>2021-01-01</th>\n",
       "      <td>Dolphins</td>\n",
       "      <td>6 - 3 - 0</td>\n",
       "      <td>3 - 5 - 0</td>\n",
       "      <td>4 - 2 - 0</td>\n",
       "      <td>6 - 6 - 0</td>\n",
       "      <td>3 - 2 - 0</td>\n",
       "      <td>1W</td>\n",
       "      <td>4 - 1 - 0</td>\n",
       "    </tr>\n",
       "    <tr>\n",
       "      <th>2021-01-01</th>\n",
       "      <td>Patriots</td>\n",
       "      <td>4 - 5 - 0</td>\n",
       "      <td>6 - 2 - 0</td>\n",
       "      <td>3 - 3 - 0</td>\n",
       "      <td>8 - 4 - 0</td>\n",
       "      <td>2 - 3 - 0</td>\n",
       "      <td>1L</td>\n",
       "      <td>2 - 3 - 0</td>\n",
       "    </tr>\n",
       "    <tr>\n",
       "      <th>2021-01-01</th>\n",
       "      <td>Jets</td>\n",
       "      <td>3 - 6 - 0</td>\n",
       "      <td>1 - 7 - 0</td>\n",
       "      <td>0 - 6 - 0</td>\n",
       "      <td>4 - 8 - 0</td>\n",
       "      <td>0 - 5 - 0</td>\n",
       "      <td>2L</td>\n",
       "      <td>1 - 4 - 0</td>\n",
       "    </tr>\n",
       "    <tr>\n",
       "      <th>2021-01-01</th>\n",
       "      <td>Bengals</td>\n",
       "      <td>5 - 4 - 0</td>\n",
       "      <td>5 - 3 - 0</td>\n",
       "      <td>4 - 2 - 0</td>\n",
       "      <td>8 - 4 - 0</td>\n",
       "      <td>2 - 3 - 0</td>\n",
       "      <td>1L</td>\n",
       "      <td>3 - 2 - 0</td>\n",
       "    </tr>\n",
       "    <tr>\n",
       "      <th>...</th>\n",
       "      <td>...</td>\n",
       "      <td>...</td>\n",
       "      <td>...</td>\n",
       "      <td>...</td>\n",
       "      <td>...</td>\n",
       "      <td>...</td>\n",
       "      <td>...</td>\n",
       "      <td>...</td>\n",
       "    </tr>\n",
       "    <tr>\n",
       "      <th>2011-01-01</th>\n",
       "      <td>Buccaneers</td>\n",
       "      <td>3 - 5 - 0</td>\n",
       "      <td>1 - 7 - 0</td>\n",
       "      <td>2 - 4 - 0</td>\n",
       "      <td>3 - 9 - 0</td>\n",
       "      <td>1 - 3 - 0</td>\n",
       "      <td>10L</td>\n",
       "      <td>0 - 5 - 0</td>\n",
       "    </tr>\n",
       "    <tr>\n",
       "      <th>2011-01-01</th>\n",
       "      <td>49ers</td>\n",
       "      <td>7 - 1 - 0</td>\n",
       "      <td>6 - 2 - 0</td>\n",
       "      <td>5 - 1 - 0</td>\n",
       "      <td>10 - 2 - 0</td>\n",
       "      <td>3 - 1 - 0</td>\n",
       "      <td>3W</td>\n",
       "      <td>4 - 1 - 0</td>\n",
       "    </tr>\n",
       "    <tr>\n",
       "      <th>2011-01-01</th>\n",
       "      <td>Cardinals</td>\n",
       "      <td>6 - 2 - 0</td>\n",
       "      <td>2 - 6 - 0</td>\n",
       "      <td>4 - 2 - 0</td>\n",
       "      <td>7 - 5 - 0</td>\n",
       "      <td>1 - 3 - 0</td>\n",
       "      <td>1W</td>\n",
       "      <td>4 - 1 - 0</td>\n",
       "    </tr>\n",
       "    <tr>\n",
       "      <th>2011-01-01</th>\n",
       "      <td>Seahawks</td>\n",
       "      <td>4 - 4 - 0</td>\n",
       "      <td>3 - 5 - 0</td>\n",
       "      <td>3 - 3 - 0</td>\n",
       "      <td>6 - 6 - 0</td>\n",
       "      <td>1 - 3 - 0</td>\n",
       "      <td>2L</td>\n",
       "      <td>3 - 2 - 0</td>\n",
       "    </tr>\n",
       "    <tr>\n",
       "      <th>2011-01-01</th>\n",
       "      <td>Rams</td>\n",
       "      <td>1 - 7 - 0</td>\n",
       "      <td>1 - 7 - 0</td>\n",
       "      <td>0 - 6 - 0</td>\n",
       "      <td>1 - 11 - 0</td>\n",
       "      <td>1 - 3 - 0</td>\n",
       "      <td>7L</td>\n",
       "      <td>0 - 5 - 0</td>\n",
       "    </tr>\n",
       "  </tbody>\n",
       "</table>\n",
       "<p>352 rows × 8 columns</p>\n",
       "</div>"
      ],
      "text/plain": [
       "                 Teams       Home       Road        Div        Conf  \\\n",
       "Years                                                                 \n",
       "2021-01-01       Bills  6 - 3 - 0  5 - 3 - 0  5 - 1 - 0   7 - 5 - 0   \n",
       "2021-01-01    Dolphins  6 - 3 - 0  3 - 5 - 0  4 - 2 - 0   6 - 6 - 0   \n",
       "2021-01-01    Patriots  4 - 5 - 0  6 - 2 - 0  3 - 3 - 0   8 - 4 - 0   \n",
       "2021-01-01        Jets  3 - 6 - 0  1 - 7 - 0  0 - 6 - 0   4 - 8 - 0   \n",
       "2021-01-01     Bengals  5 - 4 - 0  5 - 3 - 0  4 - 2 - 0   8 - 4 - 0   \n",
       "...                ...        ...        ...        ...         ...   \n",
       "2011-01-01  Buccaneers  3 - 5 - 0  1 - 7 - 0  2 - 4 - 0   3 - 9 - 0   \n",
       "2011-01-01       49ers  7 - 1 - 0  6 - 2 - 0  5 - 1 - 0  10 - 2 - 0   \n",
       "2011-01-01   Cardinals  6 - 2 - 0  2 - 6 - 0  4 - 2 - 0   7 - 5 - 0   \n",
       "2011-01-01    Seahawks  4 - 4 - 0  3 - 5 - 0  3 - 3 - 0   6 - 6 - 0   \n",
       "2011-01-01        Rams  1 - 7 - 0  1 - 7 - 0  0 - 6 - 0  1 - 11 - 0   \n",
       "\n",
       "             Non-Conf Strk     Last 5  \n",
       "Years                                  \n",
       "2021-01-01  4 - 1 - 0   4W  4 - 1 - 0  \n",
       "2021-01-01  3 - 2 - 0   1W  4 - 1 - 0  \n",
       "2021-01-01  2 - 3 - 0   1L  2 - 3 - 0  \n",
       "2021-01-01  0 - 5 - 0   2L  1 - 4 - 0  \n",
       "2021-01-01  2 - 3 - 0   1L  3 - 2 - 0  \n",
       "...               ...  ...        ...  \n",
       "2011-01-01  1 - 3 - 0  10L  0 - 5 - 0  \n",
       "2011-01-01  3 - 1 - 0   3W  4 - 1 - 0  \n",
       "2011-01-01  1 - 3 - 0   1W  4 - 1 - 0  \n",
       "2011-01-01  1 - 3 - 0   2L  3 - 2 - 0  \n",
       "2011-01-01  1 - 3 - 0   7L  0 - 5 - 0  \n",
       "\n",
       "[352 rows x 8 columns]"
      ]
     },
     "execution_count": 31,
     "metadata": {},
     "output_type": "execute_result"
    }
   ],
   "source": [
    "# Drop the 'Date' 'W', 'L', 'T', 'PCT',  'NAME' columns from the DataFrame\n",
    "season_2021_2011_obj = season_2021_2011.drop(\n",
    "    columns = [\"Super Bowl\", \"Date\",\"W\", \"L\", \"T\", \"PCT\", \"PF\", \"PA\", \"Pct\", \"Pct.1\", \"Net Pts\"]\n",
    ")\n",
    "\n",
    "# Review the DataFrame\n",
    "season_2021_2011_obj"
   ]
  },
  {
   "cell_type": "code",
   "execution_count": 32,
   "id": "5e11242f-9526-4dae-b3dc-49e54efe9783",
   "metadata": {},
   "outputs": [],
   "source": [
    "# Create a list of categorical variables \n",
    "teams_variables = list(season_2021_2011.dtypes[season_2021_2011.dtypes == \"object\"].index)\n"
   ]
  },
  {
   "cell_type": "code",
   "execution_count": 33,
   "id": "cb975a7f-5a05-49d4-bbb6-8b7daee810d2",
   "metadata": {},
   "outputs": [],
   "source": [
    "from sklearn.preprocessing import OneHotEncoder"
   ]
  },
  {
   "cell_type": "code",
   "execution_count": 34,
   "id": "566e80cb-3b56-4c76-9024-9aeceba4bb3b",
   "metadata": {},
   "outputs": [],
   "source": [
    "# Create a OneHotEncoder instance (Takes non-numerical data into 0 or 1)\n",
    "enc =  OneHotEncoder(sparse=False)"
   ]
  },
  {
   "cell_type": "code",
   "execution_count": 35,
   "id": "f40c9ec0-1d33-4399-96c8-670e0258a537",
   "metadata": {},
   "outputs": [
    {
     "data": {
      "text/plain": [
       "array([[0., 0., 0., ..., 0., 1., 0.],\n",
       "       [0., 0., 0., ..., 0., 1., 0.],\n",
       "       [0., 0., 0., ..., 0., 0., 0.],\n",
       "       ...,\n",
       "       [0., 0., 0., ..., 0., 1., 0.],\n",
       "       [0., 0., 0., ..., 1., 0., 0.],\n",
       "       [0., 0., 0., ..., 0., 0., 0.]])"
      ]
     },
     "execution_count": 35,
     "metadata": {},
     "output_type": "execute_result"
    }
   ],
   "source": [
    "# Encode the categorcal variables using OneHotEncoder\n",
    "encoded_data = enc.fit_transform(season_2021_2011[teams_variables])\n",
    "encoded_data"
   ]
  },
  {
   "cell_type": "code",
   "execution_count": 36,
   "id": "2c9bb02a-5a64-4515-a3f2-17ebc890a82b",
   "metadata": {},
   "outputs": [],
   "source": [
    "# Create a DataFrame with the encoded variables\n",
    "encoded_df = pd.DataFrame(\n",
    "    encoded_data,\n",
    "    columns = enc.get_feature_names_out(teams_variables)\n",
    ")\n",
    "# # Review the DataFrame\n",
    "# encoded_df"
   ]
  },
  {
   "cell_type": "code",
   "execution_count": 37,
   "id": "c8a0a35f-7544-4240-9e58-322e733f3891",
   "metadata": {},
   "outputs": [
    {
     "data": {
      "text/plain": [
       "Index(['Teams_49ers', 'Teams_Bears', 'Teams_Bengals', 'Teams_Bills',\n",
       "       'Teams_Broncos', 'Teams_Browns', 'Teams_Buccaneers', 'Teams_Cardinals',\n",
       "       'Teams_Chargers', 'Teams_Chiefs',\n",
       "       ...\n",
       "       'Strk_7W', 'Strk_8L', 'Strk_8W', 'Strk_9L', 'Last 5_0 - 5 - 0',\n",
       "       'Last 5_1 - 4 - 0', 'Last 5_2 - 3 - 0', 'Last 5_3 - 2 - 0',\n",
       "       'Last 5_4 - 1 - 0', 'Last 5_5 - 0 - 0'],\n",
       "      dtype='object', length=151)"
      ]
     },
     "execution_count": 37,
     "metadata": {},
     "output_type": "execute_result"
    }
   ],
   "source": [
    "encoded_df.columns"
   ]
  },
  {
   "cell_type": "code",
   "execution_count": 38,
   "id": "f7ed6f16-70eb-4563-96bb-86c3592e0026",
   "metadata": {},
   "outputs": [],
   "source": [
    "# Create a DataFrame with the columnns containing numerical variables from the original dataset\n",
    "numerical_variables_df = season_2021_2011.drop(columns = teams_variables)\n"
   ]
  },
  {
   "cell_type": "code",
   "execution_count": 39,
   "id": "d1fcb6cc-b67a-4de6-b323-164afbba27d0",
   "metadata": {},
   "outputs": [
    {
     "data": {
      "text/html": [
       "<div>\n",
       "<style scoped>\n",
       "    .dataframe tbody tr th:only-of-type {\n",
       "        vertical-align: middle;\n",
       "    }\n",
       "\n",
       "    .dataframe tbody tr th {\n",
       "        vertical-align: top;\n",
       "    }\n",
       "\n",
       "    .dataframe thead th {\n",
       "        text-align: right;\n",
       "    }\n",
       "</style>\n",
       "<table border=\"1\" class=\"dataframe\">\n",
       "  <thead>\n",
       "    <tr style=\"text-align: right;\">\n",
       "      <th></th>\n",
       "      <th>Date</th>\n",
       "      <th>W</th>\n",
       "      <th>L</th>\n",
       "      <th>T</th>\n",
       "      <th>Super Bowl</th>\n",
       "      <th>PCT</th>\n",
       "      <th>PF</th>\n",
       "      <th>PA</th>\n",
       "      <th>Net Pts</th>\n",
       "      <th>Pct</th>\n",
       "      <th>Pct.1</th>\n",
       "    </tr>\n",
       "    <tr>\n",
       "      <th>Years</th>\n",
       "      <th></th>\n",
       "      <th></th>\n",
       "      <th></th>\n",
       "      <th></th>\n",
       "      <th></th>\n",
       "      <th></th>\n",
       "      <th></th>\n",
       "      <th></th>\n",
       "      <th></th>\n",
       "      <th></th>\n",
       "      <th></th>\n",
       "    </tr>\n",
       "  </thead>\n",
       "  <tbody>\n",
       "    <tr>\n",
       "      <th>2021-01-01</th>\n",
       "      <td>2021</td>\n",
       "      <td>11</td>\n",
       "      <td>6</td>\n",
       "      <td>0</td>\n",
       "      <td>0</td>\n",
       "      <td>0.647</td>\n",
       "      <td>483</td>\n",
       "      <td>289</td>\n",
       "      <td>194</td>\n",
       "      <td>0.833</td>\n",
       "      <td>0.583</td>\n",
       "    </tr>\n",
       "    <tr>\n",
       "      <th>2021-01-01</th>\n",
       "      <td>2021</td>\n",
       "      <td>9</td>\n",
       "      <td>8</td>\n",
       "      <td>0</td>\n",
       "      <td>0</td>\n",
       "      <td>0.529</td>\n",
       "      <td>341</td>\n",
       "      <td>373</td>\n",
       "      <td>-32</td>\n",
       "      <td>0.667</td>\n",
       "      <td>0.500</td>\n",
       "    </tr>\n",
       "    <tr>\n",
       "      <th>2021-01-01</th>\n",
       "      <td>2021</td>\n",
       "      <td>10</td>\n",
       "      <td>7</td>\n",
       "      <td>0</td>\n",
       "      <td>0</td>\n",
       "      <td>0.588</td>\n",
       "      <td>462</td>\n",
       "      <td>303</td>\n",
       "      <td>159</td>\n",
       "      <td>0.500</td>\n",
       "      <td>0.667</td>\n",
       "    </tr>\n",
       "    <tr>\n",
       "      <th>2021-01-01</th>\n",
       "      <td>2021</td>\n",
       "      <td>4</td>\n",
       "      <td>13</td>\n",
       "      <td>0</td>\n",
       "      <td>0</td>\n",
       "      <td>0.235</td>\n",
       "      <td>310</td>\n",
       "      <td>504</td>\n",
       "      <td>-194</td>\n",
       "      <td>0.000</td>\n",
       "      <td>0.333</td>\n",
       "    </tr>\n",
       "    <tr>\n",
       "      <th>2021-01-01</th>\n",
       "      <td>2021</td>\n",
       "      <td>10</td>\n",
       "      <td>7</td>\n",
       "      <td>0</td>\n",
       "      <td>0</td>\n",
       "      <td>0.588</td>\n",
       "      <td>460</td>\n",
       "      <td>376</td>\n",
       "      <td>84</td>\n",
       "      <td>0.667</td>\n",
       "      <td>0.667</td>\n",
       "    </tr>\n",
       "    <tr>\n",
       "      <th>...</th>\n",
       "      <td>...</td>\n",
       "      <td>...</td>\n",
       "      <td>...</td>\n",
       "      <td>...</td>\n",
       "      <td>...</td>\n",
       "      <td>...</td>\n",
       "      <td>...</td>\n",
       "      <td>...</td>\n",
       "      <td>...</td>\n",
       "      <td>...</td>\n",
       "      <td>...</td>\n",
       "    </tr>\n",
       "    <tr>\n",
       "      <th>2011-01-01</th>\n",
       "      <td>2011</td>\n",
       "      <td>4</td>\n",
       "      <td>12</td>\n",
       "      <td>0</td>\n",
       "      <td>0</td>\n",
       "      <td>0.250</td>\n",
       "      <td>287</td>\n",
       "      <td>494</td>\n",
       "      <td>-207</td>\n",
       "      <td>0.333</td>\n",
       "      <td>0.250</td>\n",
       "    </tr>\n",
       "    <tr>\n",
       "      <th>2011-01-01</th>\n",
       "      <td>2011</td>\n",
       "      <td>13</td>\n",
       "      <td>3</td>\n",
       "      <td>0</td>\n",
       "      <td>0</td>\n",
       "      <td>0.813</td>\n",
       "      <td>380</td>\n",
       "      <td>229</td>\n",
       "      <td>151</td>\n",
       "      <td>0.833</td>\n",
       "      <td>0.833</td>\n",
       "    </tr>\n",
       "    <tr>\n",
       "      <th>2011-01-01</th>\n",
       "      <td>2011</td>\n",
       "      <td>8</td>\n",
       "      <td>8</td>\n",
       "      <td>0</td>\n",
       "      <td>0</td>\n",
       "      <td>0.500</td>\n",
       "      <td>312</td>\n",
       "      <td>348</td>\n",
       "      <td>-36</td>\n",
       "      <td>0.667</td>\n",
       "      <td>0.583</td>\n",
       "    </tr>\n",
       "    <tr>\n",
       "      <th>2011-01-01</th>\n",
       "      <td>2011</td>\n",
       "      <td>7</td>\n",
       "      <td>9</td>\n",
       "      <td>0</td>\n",
       "      <td>0</td>\n",
       "      <td>0.438</td>\n",
       "      <td>321</td>\n",
       "      <td>315</td>\n",
       "      <td>6</td>\n",
       "      <td>0.500</td>\n",
       "      <td>0.500</td>\n",
       "    </tr>\n",
       "    <tr>\n",
       "      <th>2011-01-01</th>\n",
       "      <td>2011</td>\n",
       "      <td>2</td>\n",
       "      <td>14</td>\n",
       "      <td>0</td>\n",
       "      <td>0</td>\n",
       "      <td>0.125</td>\n",
       "      <td>193</td>\n",
       "      <td>407</td>\n",
       "      <td>-214</td>\n",
       "      <td>0.000</td>\n",
       "      <td>0.083</td>\n",
       "    </tr>\n",
       "  </tbody>\n",
       "</table>\n",
       "<p>352 rows × 11 columns</p>\n",
       "</div>"
      ],
      "text/plain": [
       "            Date   W   L  T  Super Bowl    PCT   PF   PA  Net Pts    Pct  \\\n",
       "Years                                                                      \n",
       "2021-01-01  2021  11   6  0           0  0.647  483  289      194  0.833   \n",
       "2021-01-01  2021   9   8  0           0  0.529  341  373      -32  0.667   \n",
       "2021-01-01  2021  10   7  0           0  0.588  462  303      159  0.500   \n",
       "2021-01-01  2021   4  13  0           0  0.235  310  504     -194  0.000   \n",
       "2021-01-01  2021  10   7  0           0  0.588  460  376       84  0.667   \n",
       "...          ...  ..  .. ..         ...    ...  ...  ...      ...    ...   \n",
       "2011-01-01  2011   4  12  0           0  0.250  287  494     -207  0.333   \n",
       "2011-01-01  2011  13   3  0           0  0.813  380  229      151  0.833   \n",
       "2011-01-01  2011   8   8  0           0  0.500  312  348      -36  0.667   \n",
       "2011-01-01  2011   7   9  0           0  0.438  321  315        6  0.500   \n",
       "2011-01-01  2011   2  14  0           0  0.125  193  407     -214  0.000   \n",
       "\n",
       "            Pct.1  \n",
       "Years              \n",
       "2021-01-01  0.583  \n",
       "2021-01-01  0.500  \n",
       "2021-01-01  0.667  \n",
       "2021-01-01  0.333  \n",
       "2021-01-01  0.667  \n",
       "...           ...  \n",
       "2011-01-01  0.250  \n",
       "2011-01-01  0.833  \n",
       "2011-01-01  0.583  \n",
       "2011-01-01  0.500  \n",
       "2011-01-01  0.083  \n",
       "\n",
       "[352 rows x 11 columns]"
      ]
     },
     "execution_count": 39,
     "metadata": {},
     "output_type": "execute_result"
    }
   ],
   "source": [
    "numerical_variables_df"
   ]
  },
  {
   "cell_type": "code",
   "execution_count": 40,
   "id": "c47d836d-172e-414b-934f-8788a7cd0751",
   "metadata": {},
   "outputs": [],
   "source": [
    "x = season_2021_2011.loc[:,season_2021_2011.columns != \"Super Bowl\"]\n",
    "X = pd.get_dummies(x)\n",
    "y = season_2021_2011['Super Bowl'].astype(\"int\")"
   ]
  },
  {
   "cell_type": "code",
   "execution_count": 41,
   "id": "8c7d85cc-823e-4a11-9bf3-6d45e990144c",
   "metadata": {},
   "outputs": [],
   "source": [
    "# Split into testing and training sets using train_test_split\n",
    "X_train, X_test, y_train, y_test = train_test_split(X, y, random_state=1)"
   ]
  },
  {
   "cell_type": "code",
   "execution_count": 42,
   "id": "1b6cee5d-ad83-4067-91e4-6ac804096fc9",
   "metadata": {},
   "outputs": [],
   "source": [
    "# Create a list of the columns with categorical variables\n",
    "Teams_code = season_2021_2011[\"Teams\"]\n",
    "\n",
    "# Use the fit_transform method from the OneHotEncoder to encode the data\n",
    "encoded_data = enc.fit_transform([Teams_code])"
   ]
  },
  {
   "cell_type": "code",
   "execution_count": 65,
   "id": "2f772d43-53c3-443c-a1b1-98c6305988b6",
   "metadata": {},
   "outputs": [
    {
     "data": {
      "text/html": [
       "<div>\n",
       "<style scoped>\n",
       "    .dataframe tbody tr th:only-of-type {\n",
       "        vertical-align: middle;\n",
       "    }\n",
       "\n",
       "    .dataframe tbody tr th {\n",
       "        vertical-align: top;\n",
       "    }\n",
       "\n",
       "    .dataframe thead th {\n",
       "        text-align: right;\n",
       "    }\n",
       "</style>\n",
       "<table border=\"1\" class=\"dataframe\">\n",
       "  <thead>\n",
       "    <tr style=\"text-align: right;\">\n",
       "      <th></th>\n",
       "      <th>Date</th>\n",
       "      <th>Teams</th>\n",
       "      <th>W</th>\n",
       "      <th>L</th>\n",
       "      <th>T</th>\n",
       "      <th>PCT</th>\n",
       "      <th>PF</th>\n",
       "      <th>PA</th>\n",
       "    </tr>\n",
       "    <tr>\n",
       "      <th>Years</th>\n",
       "      <th></th>\n",
       "      <th></th>\n",
       "      <th></th>\n",
       "      <th></th>\n",
       "      <th></th>\n",
       "      <th></th>\n",
       "      <th></th>\n",
       "      <th></th>\n",
       "    </tr>\n",
       "  </thead>\n",
       "  <tbody>\n",
       "    <tr>\n",
       "      <th>2021-01-01</th>\n",
       "      <td>2021</td>\n",
       "      <td>Bills</td>\n",
       "      <td>11</td>\n",
       "      <td>6</td>\n",
       "      <td>0</td>\n",
       "      <td>0.647</td>\n",
       "      <td>483</td>\n",
       "      <td>289</td>\n",
       "    </tr>\n",
       "    <tr>\n",
       "      <th>2021-01-01</th>\n",
       "      <td>2021</td>\n",
       "      <td>Dolphins</td>\n",
       "      <td>9</td>\n",
       "      <td>8</td>\n",
       "      <td>0</td>\n",
       "      <td>0.529</td>\n",
       "      <td>341</td>\n",
       "      <td>373</td>\n",
       "    </tr>\n",
       "    <tr>\n",
       "      <th>2021-01-01</th>\n",
       "      <td>2021</td>\n",
       "      <td>Patriots</td>\n",
       "      <td>10</td>\n",
       "      <td>7</td>\n",
       "      <td>0</td>\n",
       "      <td>0.588</td>\n",
       "      <td>462</td>\n",
       "      <td>303</td>\n",
       "    </tr>\n",
       "    <tr>\n",
       "      <th>2021-01-01</th>\n",
       "      <td>2021</td>\n",
       "      <td>Jets</td>\n",
       "      <td>4</td>\n",
       "      <td>13</td>\n",
       "      <td>0</td>\n",
       "      <td>0.235</td>\n",
       "      <td>310</td>\n",
       "      <td>504</td>\n",
       "    </tr>\n",
       "    <tr>\n",
       "      <th>2021-01-01</th>\n",
       "      <td>2021</td>\n",
       "      <td>Bengals</td>\n",
       "      <td>10</td>\n",
       "      <td>7</td>\n",
       "      <td>0</td>\n",
       "      <td>0.588</td>\n",
       "      <td>460</td>\n",
       "      <td>376</td>\n",
       "    </tr>\n",
       "  </tbody>\n",
       "</table>\n",
       "</div>"
      ],
      "text/plain": [
       "            Date     Teams   W   L  T    PCT   PF   PA\n",
       "Years                                                 \n",
       "2021-01-01  2021     Bills  11   6  0  0.647  483  289\n",
       "2021-01-01  2021  Dolphins   9   8  0  0.529  341  373\n",
       "2021-01-01  2021  Patriots  10   7  0  0.588  462  303\n",
       "2021-01-01  2021      Jets   4  13  0  0.235  310  504\n",
       "2021-01-01  2021   Bengals  10   7  0  0.588  460  376"
      ]
     },
     "execution_count": 65,
     "metadata": {},
     "output_type": "execute_result"
    }
   ],
   "source": [
    "test = season_2021_2011.copy()\n",
    "test_for_dummies = test[['Date','Teams','W','L','T', 'PCT', 'PF', 'PA']]\n",
    "test_for_dummies.head()"
   ]
  },
  {
   "cell_type": "code",
   "execution_count": 66,
   "id": "f6d76258-03f5-4465-ac85-62e268f17e0b",
   "metadata": {},
   "outputs": [],
   "source": [
    "# Create a StandardScaler instance\n",
    "scaler = StandardScaler().fit(X_train)\n",
    "\n",
    "# Fit the scaler to the features training dataset\n",
    "X_scaler = scaler.fit(X_train)\n",
    "\n",
    "# Fit the scaler to the features training dataset\n",
    "X_train_scaled = X_scaler.transform(X_train)\n",
    "X_test_scaled = X_scaler.transform(X_test)"
   ]
  },
  {
   "cell_type": "code",
   "execution_count": 67,
   "id": "0a7278c9-d7fc-4494-93f9-5d1c4ef744d5",
   "metadata": {},
   "outputs": [],
   "source": [
    "from sklearn.linear_model import LogisticRegression"
   ]
  },
  {
   "cell_type": "code",
   "execution_count": 68,
   "id": "5b90692f-a9ee-43cf-92c8-637df6979529",
   "metadata": {},
   "outputs": [
    {
     "name": "stderr",
     "output_type": "stream",
     "text": [
      "C:\\Users\\Chiny\\anaconda3\\lib\\site-packages\\sklearn\\linear_model\\_logistic.py:814: ConvergenceWarning: lbfgs failed to converge (status=1):\n",
      "STOP: TOTAL NO. of ITERATIONS REACHED LIMIT.\n",
      "\n",
      "Increase the number of iterations (max_iter) or scale the data as shown in:\n",
      "    https://scikit-learn.org/stable/modules/preprocessing.html\n",
      "Please also refer to the documentation for alternative solver options:\n",
      "    https://scikit-learn.org/stable/modules/linear_model.html#logistic-regression\n",
      "  n_iter_i = _check_optimize_result(\n"
     ]
    }
   ],
   "source": [
    "# Declare a logistic regression model.\n",
    "# Apply a random_state of 9 to the model\n",
    "logistic_regression_model = LogisticRegression(random_state=9)\n",
    "\n",
    "# Fit and save the logistic regression model using the training data\n",
    "lr_model = logistic_regression_model.fit(X_train, y_train)"
   ]
  },
  {
   "cell_type": "code",
   "execution_count": 69,
   "id": "3fd56bb7-e467-416f-9d1e-644dbb9d3ed3",
   "metadata": {},
   "outputs": [
    {
     "data": {
      "text/plain": [
       "161"
      ]
     },
     "execution_count": 69,
     "metadata": {},
     "output_type": "execute_result"
    }
   ],
   "source": [
    "# Define the the number of inputs (features) to the model\n",
    "number_input_features = len(X_train.iloc[1])\n",
    "\n",
    "# Review the number of features\n",
    "number_input_features"
   ]
  },
  {
   "cell_type": "code",
   "execution_count": 70,
   "id": "b5135de1-057d-4bff-8c43-dbff2ab4a757",
   "metadata": {},
   "outputs": [],
   "source": [
    "# Define the number of neurons in the output layer\n",
    "number_output_neurons = 1"
   ]
  },
  {
   "cell_type": "code",
   "execution_count": 71,
   "id": "eb2c0fe1-145b-405c-8abb-409d11d65621",
   "metadata": {},
   "outputs": [
    {
     "data": {
      "text/plain": [
       "417"
      ]
     },
     "execution_count": 71,
     "metadata": {},
     "output_type": "execute_result"
    }
   ],
   "source": [
    "# Define the number of hidden nodes for the first hidden layer\n",
    "hidden_nodes_layer1 =  (number_input_features + 674) // 2 \n",
    "\n",
    "# Review the number hidden nodes in the first layer\n",
    "hidden_nodes_layer1"
   ]
  },
  {
   "cell_type": "code",
   "execution_count": 72,
   "id": "4a573522-8a03-4a36-87be-477ed9ed8048",
   "metadata": {},
   "outputs": [
    {
     "data": {
      "text/plain": [
       "224"
      ]
     },
     "execution_count": 72,
     "metadata": {},
     "output_type": "execute_result"
    }
   ],
   "source": [
    "# Define the number of hidden nodes for the second hidden layer\n",
    "hidden_nodes_layer2 =  (hidden_nodes_layer1 + 32) // 2\n",
    "\n",
    "# Review the number hidden nodes in the second layer\n",
    "hidden_nodes_layer2"
   ]
  },
  {
   "cell_type": "code",
   "execution_count": 73,
   "id": "482f1078-26b8-468e-9136-4f4009ec291c",
   "metadata": {},
   "outputs": [],
   "source": [
    "# Create the Sequential model instance\n",
    "nn = Sequential()"
   ]
  },
  {
   "cell_type": "code",
   "execution_count": 74,
   "id": "aaf230f7-90e8-4ac2-a34a-5d2c1ee785bb",
   "metadata": {},
   "outputs": [],
   "source": [
    "# Add the first hidden layer\n",
    "nn.add(Dense(units=hidden_nodes_layer1, input_dim=number_input_features, activation=\"relu\"))"
   ]
  },
  {
   "cell_type": "code",
   "execution_count": 75,
   "id": "31c90711-c9dc-4d57-88e8-f5f7208341a7",
   "metadata": {},
   "outputs": [],
   "source": [
    "# Add the second hidden layer\n",
    "nn.add(Dense(units=hidden_nodes_layer2, activation=\"relu\"))"
   ]
  },
  {
   "cell_type": "code",
   "execution_count": 76,
   "id": "fc65c5ea-87e8-48f9-b3a6-38410984ef24",
   "metadata": {},
   "outputs": [],
   "source": [
    "# Add the output layer to the model specifying the number of output neurons and activation function\n",
    "nn.add(Dense(units=1, activation=\"sigmoid\"))"
   ]
  },
  {
   "cell_type": "code",
   "execution_count": 77,
   "id": "45c44b59-8ea0-4781-a893-ed41f2134b0c",
   "metadata": {},
   "outputs": [
    {
     "name": "stdout",
     "output_type": "stream",
     "text": [
      "Model: \"sequential_1\"\n",
      "_________________________________________________________________\n",
      " Layer (type)                Output Shape              Param #   \n",
      "=================================================================\n",
      " dense_3 (Dense)             (None, 417)               67554     \n",
      "                                                                 \n",
      " dense_4 (Dense)             (None, 224)               93632     \n",
      "                                                                 \n",
      " dense_5 (Dense)             (None, 1)                 225       \n",
      "                                                                 \n",
      "=================================================================\n",
      "Total params: 161,411\n",
      "Trainable params: 161,411\n",
      "Non-trainable params: 0\n",
      "_________________________________________________________________\n"
     ]
    }
   ],
   "source": [
    "# Display the Sequential model summary\n",
    "nn.summary()"
   ]
  },
  {
   "cell_type": "code",
   "execution_count": 78,
   "id": "99f1761d-121b-475f-b3dd-fb846f703fa0",
   "metadata": {},
   "outputs": [],
   "source": [
    "# Compile the Sequential model\n",
    "nn.compile(loss=\"binary_crossentropy\",optimizer=\"adam\",metrics=[\"accuracy\"])"
   ]
  },
  {
   "cell_type": "code",
   "execution_count": 79,
   "id": "9229e0e7-b017-4593-a1c3-21a5d77a2e51",
   "metadata": {},
   "outputs": [
    {
     "name": "stdout",
     "output_type": "stream",
     "text": [
      "Epoch 1/50\n",
      "2/2 [==============================] - 1s 155ms/step - loss: 0.5312 - accuracy: 0.7062 - val_loss: 0.1962 - val_accuracy: 0.9623\n",
      "Epoch 2/50\n",
      "2/2 [==============================] - 0s 23ms/step - loss: 0.1643 - accuracy: 0.9621 - val_loss: 0.1799 - val_accuracy: 0.9623\n",
      "Epoch 3/50\n",
      "2/2 [==============================] - 0s 24ms/step - loss: 0.1550 - accuracy: 0.9621 - val_loss: 0.1990 - val_accuracy: 0.9623\n",
      "Epoch 4/50\n",
      "2/2 [==============================] - 0s 32ms/step - loss: 0.1518 - accuracy: 0.9621 - val_loss: 0.2058 - val_accuracy: 0.9623\n",
      "Epoch 5/50\n",
      "2/2 [==============================] - 0s 22ms/step - loss: 0.1339 - accuracy: 0.9621 - val_loss: 0.2013 - val_accuracy: 0.9623\n",
      "Epoch 6/50\n",
      "2/2 [==============================] - 0s 21ms/step - loss: 0.1058 - accuracy: 0.9621 - val_loss: 0.1908 - val_accuracy: 0.9623\n",
      "Epoch 7/50\n",
      "2/2 [==============================] - 0s 22ms/step - loss: 0.0779 - accuracy: 0.9621 - val_loss: 0.1792 - val_accuracy: 0.9623\n",
      "Epoch 8/50\n",
      "2/2 [==============================] - 0s 22ms/step - loss: 0.0588 - accuracy: 0.9668 - val_loss: 0.1687 - val_accuracy: 0.9623\n",
      "Epoch 9/50\n",
      "2/2 [==============================] - 0s 23ms/step - loss: 0.0480 - accuracy: 0.9716 - val_loss: 0.1617 - val_accuracy: 0.9623\n",
      "Epoch 10/50\n",
      "2/2 [==============================] - 0s 24ms/step - loss: 0.0391 - accuracy: 0.9905 - val_loss: 0.1586 - val_accuracy: 0.9623\n",
      "Epoch 11/50\n",
      "2/2 [==============================] - 0s 21ms/step - loss: 0.0356 - accuracy: 0.9905 - val_loss: 0.1580 - val_accuracy: 0.9623\n",
      "Epoch 12/50\n",
      "2/2 [==============================] - 0s 24ms/step - loss: 0.0331 - accuracy: 0.9905 - val_loss: 0.1599 - val_accuracy: 0.9623\n",
      "Epoch 13/50\n",
      "2/2 [==============================] - 0s 23ms/step - loss: 0.0293 - accuracy: 0.9905 - val_loss: 0.1639 - val_accuracy: 0.9623\n",
      "Epoch 14/50\n",
      "2/2 [==============================] - 0s 23ms/step - loss: 0.0255 - accuracy: 0.9905 - val_loss: 0.1701 - val_accuracy: 0.9623\n",
      "Epoch 15/50\n",
      "2/2 [==============================] - 0s 24ms/step - loss: 0.0217 - accuracy: 0.9953 - val_loss: 0.1779 - val_accuracy: 0.9623\n",
      "Epoch 16/50\n",
      "2/2 [==============================] - 0s 24ms/step - loss: 0.0184 - accuracy: 0.9953 - val_loss: 0.1874 - val_accuracy: 0.9623\n",
      "Epoch 17/50\n",
      "2/2 [==============================] - 0s 21ms/step - loss: 0.0155 - accuracy: 1.0000 - val_loss: 0.1982 - val_accuracy: 0.9623\n",
      "Epoch 18/50\n",
      "2/2 [==============================] - 0s 23ms/step - loss: 0.0136 - accuracy: 1.0000 - val_loss: 0.2096 - val_accuracy: 0.9623\n",
      "Epoch 19/50\n",
      "2/2 [==============================] - 0s 24ms/step - loss: 0.0116 - accuracy: 1.0000 - val_loss: 0.2207 - val_accuracy: 0.9623\n",
      "Epoch 20/50\n",
      "2/2 [==============================] - 0s 21ms/step - loss: 0.0103 - accuracy: 1.0000 - val_loss: 0.2311 - val_accuracy: 0.9623\n",
      "Epoch 21/50\n",
      "2/2 [==============================] - 0s 23ms/step - loss: 0.0092 - accuracy: 1.0000 - val_loss: 0.2404 - val_accuracy: 0.9623\n",
      "Epoch 22/50\n",
      "2/2 [==============================] - 0s 22ms/step - loss: 0.0082 - accuracy: 1.0000 - val_loss: 0.2487 - val_accuracy: 0.9623\n",
      "Epoch 23/50\n",
      "2/2 [==============================] - 0s 23ms/step - loss: 0.0074 - accuracy: 1.0000 - val_loss: 0.2556 - val_accuracy: 0.9623\n",
      "Epoch 24/50\n",
      "2/2 [==============================] - 0s 23ms/step - loss: 0.0065 - accuracy: 1.0000 - val_loss: 0.2617 - val_accuracy: 0.9623\n",
      "Epoch 25/50\n",
      "2/2 [==============================] - 0s 21ms/step - loss: 0.0060 - accuracy: 1.0000 - val_loss: 0.2666 - val_accuracy: 0.9623\n",
      "Epoch 26/50\n",
      "2/2 [==============================] - 0s 23ms/step - loss: 0.0053 - accuracy: 1.0000 - val_loss: 0.2710 - val_accuracy: 0.9623\n",
      "Epoch 27/50\n",
      "2/2 [==============================] - 0s 23ms/step - loss: 0.0048 - accuracy: 1.0000 - val_loss: 0.2745 - val_accuracy: 0.9623\n",
      "Epoch 28/50\n",
      "2/2 [==============================] - 0s 21ms/step - loss: 0.0044 - accuracy: 1.0000 - val_loss: 0.2776 - val_accuracy: 0.9623\n",
      "Epoch 29/50\n",
      "2/2 [==============================] - 0s 22ms/step - loss: 0.0040 - accuracy: 1.0000 - val_loss: 0.2801 - val_accuracy: 0.9623\n",
      "Epoch 30/50\n",
      "2/2 [==============================] - 0s 24ms/step - loss: 0.0037 - accuracy: 1.0000 - val_loss: 0.2826 - val_accuracy: 0.9623\n",
      "Epoch 31/50\n",
      "2/2 [==============================] - 0s 21ms/step - loss: 0.0034 - accuracy: 1.0000 - val_loss: 0.2849 - val_accuracy: 0.9623\n",
      "Epoch 32/50\n",
      "2/2 [==============================] - 0s 23ms/step - loss: 0.0031 - accuracy: 1.0000 - val_loss: 0.2871 - val_accuracy: 0.9623\n",
      "Epoch 33/50\n",
      "2/2 [==============================] - 0s 24ms/step - loss: 0.0028 - accuracy: 1.0000 - val_loss: 0.2893 - val_accuracy: 0.9623\n",
      "Epoch 34/50\n",
      "2/2 [==============================] - 0s 23ms/step - loss: 0.0026 - accuracy: 1.0000 - val_loss: 0.2913 - val_accuracy: 0.9623\n",
      "Epoch 35/50\n",
      "2/2 [==============================] - 0s 22ms/step - loss: 0.0025 - accuracy: 1.0000 - val_loss: 0.2933 - val_accuracy: 0.9623\n",
      "Epoch 36/50\n",
      "2/2 [==============================] - 0s 23ms/step - loss: 0.0023 - accuracy: 1.0000 - val_loss: 0.2952 - val_accuracy: 0.9623\n",
      "Epoch 37/50\n",
      "2/2 [==============================] - 0s 23ms/step - loss: 0.0021 - accuracy: 1.0000 - val_loss: 0.2971 - val_accuracy: 0.9623\n",
      "Epoch 38/50\n",
      "2/2 [==============================] - 0s 23ms/step - loss: 0.0020 - accuracy: 1.0000 - val_loss: 0.2990 - val_accuracy: 0.9623\n",
      "Epoch 39/50\n",
      "2/2 [==============================] - 0s 23ms/step - loss: 0.0019 - accuracy: 1.0000 - val_loss: 0.3009 - val_accuracy: 0.9623\n",
      "Epoch 40/50\n",
      "2/2 [==============================] - 0s 22ms/step - loss: 0.0017 - accuracy: 1.0000 - val_loss: 0.3028 - val_accuracy: 0.9623\n",
      "Epoch 41/50\n",
      "2/2 [==============================] - 0s 23ms/step - loss: 0.0016 - accuracy: 1.0000 - val_loss: 0.3047 - val_accuracy: 0.9623\n",
      "Epoch 42/50\n",
      "2/2 [==============================] - 0s 23ms/step - loss: 0.0015 - accuracy: 1.0000 - val_loss: 0.3066 - val_accuracy: 0.9623\n",
      "Epoch 43/50\n",
      "2/2 [==============================] - 0s 23ms/step - loss: 0.0014 - accuracy: 1.0000 - val_loss: 0.3085 - val_accuracy: 0.9623\n",
      "Epoch 44/50\n",
      "2/2 [==============================] - 0s 22ms/step - loss: 0.0014 - accuracy: 1.0000 - val_loss: 0.3104 - val_accuracy: 0.9623\n",
      "Epoch 45/50\n",
      "2/2 [==============================] - 0s 23ms/step - loss: 0.0013 - accuracy: 1.0000 - val_loss: 0.3122 - val_accuracy: 0.9623\n",
      "Epoch 46/50\n",
      "2/2 [==============================] - 0s 22ms/step - loss: 0.0012 - accuracy: 1.0000 - val_loss: 0.3140 - val_accuracy: 0.9623\n",
      "Epoch 47/50\n",
      "2/2 [==============================] - 0s 22ms/step - loss: 0.0012 - accuracy: 1.0000 - val_loss: 0.3158 - val_accuracy: 0.9623\n",
      "Epoch 48/50\n",
      "2/2 [==============================] - 0s 25ms/step - loss: 0.0011 - accuracy: 1.0000 - val_loss: 0.3176 - val_accuracy: 0.9623\n",
      "Epoch 49/50\n",
      "2/2 [==============================] - 0s 24ms/step - loss: 0.0010 - accuracy: 1.0000 - val_loss: 0.3192 - val_accuracy: 0.9623\n",
      "Epoch 50/50\n",
      "2/2 [==============================] - 0s 22ms/step - loss: 9.8980e-04 - accuracy: 1.0000 - val_loss: 0.3208 - val_accuracy: 0.9623\n"
     ]
    }
   ],
   "source": [
    "# Fit the model using epochs and the training data\n",
    "history=nn.fit(X_train_scaled, y_train, epochs=50, batch_size=128, validation_split=0.2)\n"
   ]
  },
  {
   "cell_type": "code",
   "execution_count": 81,
   "id": "cb36f59c-49e0-4c12-bc32-9ab45247ef5b",
   "metadata": {},
   "outputs": [
    {
     "name": "stdout",
     "output_type": "stream",
     "text": [
      "3/3 - 0s - loss: 0.0954 - accuracy: 0.9886 - 20ms/epoch - 7ms/step\n",
      "Loss: 0.09538919478654861, Accuracy: 0.9886363744735718\n"
     ]
    }
   ],
   "source": [
    "# Evaluate the model loss and accuracy metrics using the evaluate method and the test data\n",
    "model_loss, model_accuracy = nn.evaluate(X_test_scaled, y_test, verbose=2)\n",
    "\n",
    "# Display the model loss and accuracy results\n",
    "print(f\"Loss: {model_loss}, Accuracy: {model_accuracy}\")"
   ]
  },
  {
   "cell_type": "code",
   "execution_count": null,
   "id": "47c8b08c-2768-4a83-bc22-b571cb0fb725",
   "metadata": {},
   "outputs": [],
   "source": []
  },
  {
   "cell_type": "code",
   "execution_count": null,
   "id": "b7a19d06-c60a-48fc-aec1-30fcfd2aa093",
   "metadata": {},
   "outputs": [],
   "source": []
  },
  {
   "cell_type": "code",
   "execution_count": null,
   "id": "040f2d22-ec50-4a42-904e-32eae47ab2bf",
   "metadata": {},
   "outputs": [],
   "source": []
  },
  {
   "cell_type": "code",
   "execution_count": null,
   "id": "028be05d-20e2-4335-8a2b-9530316e2013",
   "metadata": {},
   "outputs": [],
   "source": []
  }
 ],
 "metadata": {
  "kernelspec": {
   "display_name": "Python 3 (ipykernel)",
   "language": "python",
   "name": "python3"
  },
  "language_info": {
   "codemirror_mode": {
    "name": "ipython",
    "version": 3
   },
   "file_extension": ".py",
   "mimetype": "text/x-python",
   "name": "python",
   "nbconvert_exporter": "python",
   "pygments_lexer": "ipython3",
   "version": "3.9.12"
  }
 },
 "nbformat": 4,
 "nbformat_minor": 5
}
