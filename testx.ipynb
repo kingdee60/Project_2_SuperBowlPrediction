{
 "cells": [
  {
   "cell_type": "code",
   "execution_count": 103,
   "id": "c482f2be-72b7-44f1-9689-2032413c215a",
   "metadata": {},
   "outputs": [],
   "source": [
    "# Initial imports\n",
    "import pandas as pd\n",
    "import numpy as np\n",
    "import hvplot.pandas\n",
    "from sklearn.datasets import make_moons\n",
    "from sklearn.model_selection import train_test_split\n",
    "from sklearn.preprocessing import StandardScaler\n",
    "from tensorflow.keras.models import Sequential\n",
    "from tensorflow.keras.layers import Dense\n"
   ]
  },
  {
   "cell_type": "code",
   "execution_count": 5,
   "id": "5d642f8c-2f66-46fa-9076-f669f3e913a4",
   "metadata": {},
   "outputs": [],
   "source": [
    "# # Create a OneHotEncoder instance\n",
    "# enc = OneHotEncoder(sparse=False)"
   ]
  },
  {
   "cell_type": "code",
   "execution_count": 48,
   "id": "502370d3-22ec-460e-bea1-afdc6aa97e19",
   "metadata": {},
   "outputs": [
    {
     "data": {
      "text/html": [
       "<div>\n",
       "<style scoped>\n",
       "    .dataframe tbody tr th:only-of-type {\n",
       "        vertical-align: middle;\n",
       "    }\n",
       "\n",
       "    .dataframe tbody tr th {\n",
       "        vertical-align: top;\n",
       "    }\n",
       "\n",
       "    .dataframe thead th {\n",
       "        text-align: right;\n",
       "    }\n",
       "</style>\n",
       "<table border=\"1\" class=\"dataframe\">\n",
       "  <thead>\n",
       "    <tr style=\"text-align: right;\">\n",
       "      <th></th>\n",
       "      <th>Date</th>\n",
       "      <th>Teams</th>\n",
       "      <th>W</th>\n",
       "      <th>L</th>\n",
       "      <th>T</th>\n",
       "      <th>PCT</th>\n",
       "      <th>PF</th>\n",
       "      <th>PA</th>\n",
       "      <th>Net Pts</th>\n",
       "      <th>Home</th>\n",
       "      <th>Road</th>\n",
       "      <th>Div</th>\n",
       "      <th>Pct</th>\n",
       "      <th>Conf</th>\n",
       "      <th>Pct.1</th>\n",
       "      <th>Non-Conf</th>\n",
       "      <th>Strk</th>\n",
       "      <th>Last 5</th>\n",
       "    </tr>\n",
       "    <tr>\n",
       "      <th>Years</th>\n",
       "      <th></th>\n",
       "      <th></th>\n",
       "      <th></th>\n",
       "      <th></th>\n",
       "      <th></th>\n",
       "      <th></th>\n",
       "      <th></th>\n",
       "      <th></th>\n",
       "      <th></th>\n",
       "      <th></th>\n",
       "      <th></th>\n",
       "      <th></th>\n",
       "      <th></th>\n",
       "      <th></th>\n",
       "      <th></th>\n",
       "      <th></th>\n",
       "      <th></th>\n",
       "      <th></th>\n",
       "    </tr>\n",
       "  </thead>\n",
       "  <tbody>\n",
       "    <tr>\n",
       "      <th>2021-01-01</th>\n",
       "      <td>2021</td>\n",
       "      <td>Bills</td>\n",
       "      <td>11</td>\n",
       "      <td>6</td>\n",
       "      <td>0</td>\n",
       "      <td>0.647</td>\n",
       "      <td>483</td>\n",
       "      <td>289</td>\n",
       "      <td>194</td>\n",
       "      <td>6 - 3 - 0</td>\n",
       "      <td>5 - 3 - 0</td>\n",
       "      <td>5 - 1 - 0</td>\n",
       "      <td>0.833</td>\n",
       "      <td>7 - 5 - 0</td>\n",
       "      <td>0.583</td>\n",
       "      <td>4 - 1 - 0</td>\n",
       "      <td>4W</td>\n",
       "      <td>4 - 1 - 0</td>\n",
       "    </tr>\n",
       "    <tr>\n",
       "      <th>2021-01-01</th>\n",
       "      <td>2021</td>\n",
       "      <td>Dolphins</td>\n",
       "      <td>9</td>\n",
       "      <td>8</td>\n",
       "      <td>0</td>\n",
       "      <td>0.529</td>\n",
       "      <td>341</td>\n",
       "      <td>373</td>\n",
       "      <td>-32</td>\n",
       "      <td>6 - 3 - 0</td>\n",
       "      <td>3 - 5 - 0</td>\n",
       "      <td>4 - 2 - 0</td>\n",
       "      <td>0.667</td>\n",
       "      <td>6 - 6 - 0</td>\n",
       "      <td>0.500</td>\n",
       "      <td>3 - 2 - 0</td>\n",
       "      <td>1W</td>\n",
       "      <td>4 - 1 - 0</td>\n",
       "    </tr>\n",
       "    <tr>\n",
       "      <th>2021-01-01</th>\n",
       "      <td>2021</td>\n",
       "      <td>Patriots</td>\n",
       "      <td>10</td>\n",
       "      <td>7</td>\n",
       "      <td>0</td>\n",
       "      <td>0.588</td>\n",
       "      <td>462</td>\n",
       "      <td>303</td>\n",
       "      <td>159</td>\n",
       "      <td>4 - 5 - 0</td>\n",
       "      <td>6 - 2 - 0</td>\n",
       "      <td>3 - 3 - 0</td>\n",
       "      <td>0.500</td>\n",
       "      <td>8 - 4 - 0</td>\n",
       "      <td>0.667</td>\n",
       "      <td>2 - 3 - 0</td>\n",
       "      <td>1L</td>\n",
       "      <td>2 - 3 - 0</td>\n",
       "    </tr>\n",
       "    <tr>\n",
       "      <th>2021-01-01</th>\n",
       "      <td>2021</td>\n",
       "      <td>Jets</td>\n",
       "      <td>4</td>\n",
       "      <td>13</td>\n",
       "      <td>0</td>\n",
       "      <td>0.235</td>\n",
       "      <td>310</td>\n",
       "      <td>504</td>\n",
       "      <td>-194</td>\n",
       "      <td>3 - 6 - 0</td>\n",
       "      <td>1 - 7 - 0</td>\n",
       "      <td>0 - 6 - 0</td>\n",
       "      <td>0.000</td>\n",
       "      <td>4 - 8 - 0</td>\n",
       "      <td>0.333</td>\n",
       "      <td>0 - 5 - 0</td>\n",
       "      <td>2L</td>\n",
       "      <td>1 - 4 - 0</td>\n",
       "    </tr>\n",
       "    <tr>\n",
       "      <th>2021-01-01</th>\n",
       "      <td>2021</td>\n",
       "      <td>Bengals</td>\n",
       "      <td>10</td>\n",
       "      <td>7</td>\n",
       "      <td>0</td>\n",
       "      <td>0.588</td>\n",
       "      <td>460</td>\n",
       "      <td>376</td>\n",
       "      <td>84</td>\n",
       "      <td>5 - 4 - 0</td>\n",
       "      <td>5 - 3 - 0</td>\n",
       "      <td>4 - 2 - 0</td>\n",
       "      <td>0.667</td>\n",
       "      <td>8 - 4 - 0</td>\n",
       "      <td>0.667</td>\n",
       "      <td>2 - 3 - 0</td>\n",
       "      <td>1L</td>\n",
       "      <td>3 - 2 - 0</td>\n",
       "    </tr>\n",
       "    <tr>\n",
       "      <th>...</th>\n",
       "      <td>...</td>\n",
       "      <td>...</td>\n",
       "      <td>...</td>\n",
       "      <td>...</td>\n",
       "      <td>...</td>\n",
       "      <td>...</td>\n",
       "      <td>...</td>\n",
       "      <td>...</td>\n",
       "      <td>...</td>\n",
       "      <td>...</td>\n",
       "      <td>...</td>\n",
       "      <td>...</td>\n",
       "      <td>...</td>\n",
       "      <td>...</td>\n",
       "      <td>...</td>\n",
       "      <td>...</td>\n",
       "      <td>...</td>\n",
       "      <td>...</td>\n",
       "    </tr>\n",
       "    <tr>\n",
       "      <th>2011-01-01</th>\n",
       "      <td>2011</td>\n",
       "      <td>Buccaneers</td>\n",
       "      <td>4</td>\n",
       "      <td>12</td>\n",
       "      <td>0</td>\n",
       "      <td>0.250</td>\n",
       "      <td>287</td>\n",
       "      <td>494</td>\n",
       "      <td>-207</td>\n",
       "      <td>3 - 5 - 0</td>\n",
       "      <td>1 - 7 - 0</td>\n",
       "      <td>2 - 4 - 0</td>\n",
       "      <td>0.333</td>\n",
       "      <td>3 - 9 - 0</td>\n",
       "      <td>0.250</td>\n",
       "      <td>1 - 3 - 0</td>\n",
       "      <td>10L</td>\n",
       "      <td>0 - 5 - 0</td>\n",
       "    </tr>\n",
       "    <tr>\n",
       "      <th>2011-01-01</th>\n",
       "      <td>2011</td>\n",
       "      <td>49ers</td>\n",
       "      <td>13</td>\n",
       "      <td>3</td>\n",
       "      <td>0</td>\n",
       "      <td>0.813</td>\n",
       "      <td>380</td>\n",
       "      <td>229</td>\n",
       "      <td>151</td>\n",
       "      <td>7 - 1 - 0</td>\n",
       "      <td>6 - 2 - 0</td>\n",
       "      <td>5 - 1 - 0</td>\n",
       "      <td>0.833</td>\n",
       "      <td>10 - 2 - 0</td>\n",
       "      <td>0.833</td>\n",
       "      <td>3 - 1 - 0</td>\n",
       "      <td>3W</td>\n",
       "      <td>4 - 1 - 0</td>\n",
       "    </tr>\n",
       "    <tr>\n",
       "      <th>2011-01-01</th>\n",
       "      <td>2011</td>\n",
       "      <td>Cardinals</td>\n",
       "      <td>8</td>\n",
       "      <td>8</td>\n",
       "      <td>0</td>\n",
       "      <td>0.500</td>\n",
       "      <td>312</td>\n",
       "      <td>348</td>\n",
       "      <td>-36</td>\n",
       "      <td>6 - 2 - 0</td>\n",
       "      <td>2 - 6 - 0</td>\n",
       "      <td>4 - 2 - 0</td>\n",
       "      <td>0.667</td>\n",
       "      <td>7 - 5 - 0</td>\n",
       "      <td>0.583</td>\n",
       "      <td>1 - 3 - 0</td>\n",
       "      <td>1W</td>\n",
       "      <td>4 - 1 - 0</td>\n",
       "    </tr>\n",
       "    <tr>\n",
       "      <th>2011-01-01</th>\n",
       "      <td>2011</td>\n",
       "      <td>Seahawks</td>\n",
       "      <td>7</td>\n",
       "      <td>9</td>\n",
       "      <td>0</td>\n",
       "      <td>0.438</td>\n",
       "      <td>321</td>\n",
       "      <td>315</td>\n",
       "      <td>6</td>\n",
       "      <td>4 - 4 - 0</td>\n",
       "      <td>3 - 5 - 0</td>\n",
       "      <td>3 - 3 - 0</td>\n",
       "      <td>0.500</td>\n",
       "      <td>6 - 6 - 0</td>\n",
       "      <td>0.500</td>\n",
       "      <td>1 - 3 - 0</td>\n",
       "      <td>2L</td>\n",
       "      <td>3 - 2 - 0</td>\n",
       "    </tr>\n",
       "    <tr>\n",
       "      <th>2011-01-01</th>\n",
       "      <td>2011</td>\n",
       "      <td>Rams</td>\n",
       "      <td>2</td>\n",
       "      <td>14</td>\n",
       "      <td>0</td>\n",
       "      <td>0.125</td>\n",
       "      <td>193</td>\n",
       "      <td>407</td>\n",
       "      <td>-214</td>\n",
       "      <td>1 - 7 - 0</td>\n",
       "      <td>1 - 7 - 0</td>\n",
       "      <td>0 - 6 - 0</td>\n",
       "      <td>0.000</td>\n",
       "      <td>1 - 11 - 0</td>\n",
       "      <td>0.083</td>\n",
       "      <td>1 - 3 - 0</td>\n",
       "      <td>7L</td>\n",
       "      <td>0 - 5 - 0</td>\n",
       "    </tr>\n",
       "  </tbody>\n",
       "</table>\n",
       "<p>352 rows × 18 columns</p>\n",
       "</div>"
      ],
      "text/plain": [
       "            Date       Teams   W   L  T    PCT   PF   PA  Net Pts       Home  \\\n",
       "Years                                                                          \n",
       "2021-01-01  2021       Bills  11   6  0  0.647  483  289      194  6 - 3 - 0   \n",
       "2021-01-01  2021    Dolphins   9   8  0  0.529  341  373      -32  6 - 3 - 0   \n",
       "2021-01-01  2021    Patriots  10   7  0  0.588  462  303      159  4 - 5 - 0   \n",
       "2021-01-01  2021        Jets   4  13  0  0.235  310  504     -194  3 - 6 - 0   \n",
       "2021-01-01  2021     Bengals  10   7  0  0.588  460  376       84  5 - 4 - 0   \n",
       "...          ...         ...  ..  .. ..    ...  ...  ...      ...        ...   \n",
       "2011-01-01  2011  Buccaneers   4  12  0  0.250  287  494     -207  3 - 5 - 0   \n",
       "2011-01-01  2011       49ers  13   3  0  0.813  380  229      151  7 - 1 - 0   \n",
       "2011-01-01  2011   Cardinals   8   8  0  0.500  312  348      -36  6 - 2 - 0   \n",
       "2011-01-01  2011    Seahawks   7   9  0  0.438  321  315        6  4 - 4 - 0   \n",
       "2011-01-01  2011        Rams   2  14  0  0.125  193  407     -214  1 - 7 - 0   \n",
       "\n",
       "                 Road        Div    Pct        Conf  Pct.1   Non-Conf Strk  \\\n",
       "Years                                                                        \n",
       "2021-01-01  5 - 3 - 0  5 - 1 - 0  0.833   7 - 5 - 0  0.583  4 - 1 - 0   4W   \n",
       "2021-01-01  3 - 5 - 0  4 - 2 - 0  0.667   6 - 6 - 0  0.500  3 - 2 - 0   1W   \n",
       "2021-01-01  6 - 2 - 0  3 - 3 - 0  0.500   8 - 4 - 0  0.667  2 - 3 - 0   1L   \n",
       "2021-01-01  1 - 7 - 0  0 - 6 - 0  0.000   4 - 8 - 0  0.333  0 - 5 - 0   2L   \n",
       "2021-01-01  5 - 3 - 0  4 - 2 - 0  0.667   8 - 4 - 0  0.667  2 - 3 - 0   1L   \n",
       "...               ...        ...    ...         ...    ...        ...  ...   \n",
       "2011-01-01  1 - 7 - 0  2 - 4 - 0  0.333   3 - 9 - 0  0.250  1 - 3 - 0  10L   \n",
       "2011-01-01  6 - 2 - 0  5 - 1 - 0  0.833  10 - 2 - 0  0.833  3 - 1 - 0   3W   \n",
       "2011-01-01  2 - 6 - 0  4 - 2 - 0  0.667   7 - 5 - 0  0.583  1 - 3 - 0   1W   \n",
       "2011-01-01  3 - 5 - 0  3 - 3 - 0  0.500   6 - 6 - 0  0.500  1 - 3 - 0   2L   \n",
       "2011-01-01  1 - 7 - 0  0 - 6 - 0  0.000  1 - 11 - 0  0.083  1 - 3 - 0   7L   \n",
       "\n",
       "               Last 5  \n",
       "Years                  \n",
       "2021-01-01  4 - 1 - 0  \n",
       "2021-01-01  4 - 1 - 0  \n",
       "2021-01-01  2 - 3 - 0  \n",
       "2021-01-01  1 - 4 - 0  \n",
       "2021-01-01  3 - 2 - 0  \n",
       "...               ...  \n",
       "2011-01-01  0 - 5 - 0  \n",
       "2011-01-01  4 - 1 - 0  \n",
       "2011-01-01  4 - 1 - 0  \n",
       "2011-01-01  3 - 2 - 0  \n",
       "2011-01-01  0 - 5 - 0  \n",
       "\n",
       "[352 rows x 18 columns]"
      ]
     },
     "execution_count": 48,
     "metadata": {},
     "output_type": "execute_result"
    }
   ],
   "source": [
    "season_2021_2011= pd.read_csv(\"2021_2011_regular_ season_1.csv\", \n",
    "                          index_col = 'Years',\n",
    "                          parse_dates = True, \n",
    "                          infer_datetime_format = True\n",
    ")\n",
    "season_2021_2011"
   ]
  },
  {
   "cell_type": "code",
   "execution_count": 49,
   "id": "a0a100e5",
   "metadata": {},
   "outputs": [],
   "source": [
    "df_season = season_2021_2011[[\"W\", \"L\", \"PCT\"]]"
   ]
  },
  {
   "cell_type": "code",
   "execution_count": 50,
   "id": "699cac17",
   "metadata": {},
   "outputs": [],
   "source": [
    "from sklearn.cluster import KMeans"
   ]
  },
  {
   "cell_type": "code",
   "execution_count": 51,
   "id": "e985dbf6",
   "metadata": {},
   "outputs": [],
   "source": [
    "# Create a a list to store inertia values and the values of k\n",
    "inertia = []\n",
    "k = list(range(1, 11))"
   ]
  },
  {
   "cell_type": "code",
   "execution_count": 52,
   "id": "9ead30bf",
   "metadata": {},
   "outputs": [
    {
     "name": "stderr",
     "output_type": "stream",
     "text": [
      "C:\\Users\\Dronp\\anaconda3\\lib\\site-packages\\sklearn\\cluster\\_kmeans.py:1332: UserWarning: KMeans is known to have a memory leak on Windows with MKL, when there are less chunks than available threads. You can avoid it by setting the environment variable OMP_NUM_THREADS=2.\n",
      "  warnings.warn(\n",
      "C:\\Users\\Dronp\\anaconda3\\lib\\site-packages\\sklearn\\cluster\\_kmeans.py:1332: UserWarning: KMeans is known to have a memory leak on Windows with MKL, when there are less chunks than available threads. You can avoid it by setting the environment variable OMP_NUM_THREADS=2.\n",
      "  warnings.warn(\n",
      "C:\\Users\\Dronp\\anaconda3\\lib\\site-packages\\sklearn\\cluster\\_kmeans.py:1332: UserWarning: KMeans is known to have a memory leak on Windows with MKL, when there are less chunks than available threads. You can avoid it by setting the environment variable OMP_NUM_THREADS=2.\n",
      "  warnings.warn(\n",
      "C:\\Users\\Dronp\\anaconda3\\lib\\site-packages\\sklearn\\cluster\\_kmeans.py:1332: UserWarning: KMeans is known to have a memory leak on Windows with MKL, when there are less chunks than available threads. You can avoid it by setting the environment variable OMP_NUM_THREADS=2.\n",
      "  warnings.warn(\n",
      "C:\\Users\\Dronp\\anaconda3\\lib\\site-packages\\sklearn\\cluster\\_kmeans.py:1332: UserWarning: KMeans is known to have a memory leak on Windows with MKL, when there are less chunks than available threads. You can avoid it by setting the environment variable OMP_NUM_THREADS=2.\n",
      "  warnings.warn(\n",
      "C:\\Users\\Dronp\\anaconda3\\lib\\site-packages\\sklearn\\cluster\\_kmeans.py:1332: UserWarning: KMeans is known to have a memory leak on Windows with MKL, when there are less chunks than available threads. You can avoid it by setting the environment variable OMP_NUM_THREADS=2.\n",
      "  warnings.warn(\n",
      "C:\\Users\\Dronp\\anaconda3\\lib\\site-packages\\sklearn\\cluster\\_kmeans.py:1332: UserWarning: KMeans is known to have a memory leak on Windows with MKL, when there are less chunks than available threads. You can avoid it by setting the environment variable OMP_NUM_THREADS=2.\n",
      "  warnings.warn(\n",
      "C:\\Users\\Dronp\\anaconda3\\lib\\site-packages\\sklearn\\cluster\\_kmeans.py:1332: UserWarning: KMeans is known to have a memory leak on Windows with MKL, when there are less chunks than available threads. You can avoid it by setting the environment variable OMP_NUM_THREADS=2.\n",
      "  warnings.warn(\n",
      "C:\\Users\\Dronp\\anaconda3\\lib\\site-packages\\sklearn\\cluster\\_kmeans.py:1332: UserWarning: KMeans is known to have a memory leak on Windows with MKL, when there are less chunks than available threads. You can avoid it by setting the environment variable OMP_NUM_THREADS=2.\n",
      "  warnings.warn(\n",
      "C:\\Users\\Dronp\\anaconda3\\lib\\site-packages\\sklearn\\cluster\\_kmeans.py:1332: UserWarning: KMeans is known to have a memory leak on Windows with MKL, when there are less chunks than available threads. You can avoid it by setting the environment variable OMP_NUM_THREADS=2.\n",
      "  warnings.warn(\n"
     ]
    }
   ],
   "source": [
    "# Create a for-loop where each value of k is evaluated using the K-means algorithm\n",
    "# Fit the model using the spread_df DataFrame\n",
    "# Append the value of the computed inertia from the `inertia_` attribute of the KMeans model instance\n",
    "for i in k:\n",
    "    k_model = KMeans(n_clusters=i, random_state=1)\n",
    "    k_model.fit(df_season)\n",
    "    inertia.append(k_model.inertia_)"
   ]
  },
  {
   "cell_type": "code",
   "execution_count": 53,
   "id": "f0eac933",
   "metadata": {},
   "outputs": [
    {
     "data": {
      "text/html": [
       "<div>\n",
       "<style scoped>\n",
       "    .dataframe tbody tr th:only-of-type {\n",
       "        vertical-align: middle;\n",
       "    }\n",
       "\n",
       "    .dataframe tbody tr th {\n",
       "        vertical-align: top;\n",
       "    }\n",
       "\n",
       "    .dataframe thead th {\n",
       "        text-align: right;\n",
       "    }\n",
       "</style>\n",
       "<table border=\"1\" class=\"dataframe\">\n",
       "  <thead>\n",
       "    <tr style=\"text-align: right;\">\n",
       "      <th></th>\n",
       "      <th>k</th>\n",
       "      <th>inertia</th>\n",
       "    </tr>\n",
       "  </thead>\n",
       "  <tbody>\n",
       "    <tr>\n",
       "      <th>0</th>\n",
       "      <td>1</td>\n",
       "      <td>6764.824730</td>\n",
       "    </tr>\n",
       "    <tr>\n",
       "      <th>1</th>\n",
       "      <td>2</td>\n",
       "      <td>2115.105140</td>\n",
       "    </tr>\n",
       "    <tr>\n",
       "      <th>2</th>\n",
       "      <td>3</td>\n",
       "      <td>959.911591</td>\n",
       "    </tr>\n",
       "    <tr>\n",
       "      <th>3</th>\n",
       "      <td>4</td>\n",
       "      <td>584.463066</td>\n",
       "    </tr>\n",
       "    <tr>\n",
       "      <th>4</th>\n",
       "      <td>5</td>\n",
       "      <td>426.677968</td>\n",
       "    </tr>\n",
       "  </tbody>\n",
       "</table>\n",
       "</div>"
      ],
      "text/plain": [
       "   k      inertia\n",
       "0  1  6764.824730\n",
       "1  2  2115.105140\n",
       "2  3   959.911591\n",
       "3  4   584.463066\n",
       "4  5   426.677968"
      ]
     },
     "execution_count": 53,
     "metadata": {},
     "output_type": "execute_result"
    }
   ],
   "source": [
    "# Create a Dictionary that holds the list values for k and inertia\n",
    "elbow_data = {\"k\": k, \"inertia\": inertia}\n",
    "\n",
    "# Create a DataFrame using the elbow_data Dictionary\n",
    "df_elbow = pd.DataFrame(elbow_data)\n",
    "\n",
    "# Review the DataFrame\n",
    "df_elbow.head()"
   ]
  },
  {
   "cell_type": "code",
   "execution_count": 54,
   "id": "cc10f319",
   "metadata": {},
   "outputs": [
    {
     "data": {},
     "metadata": {},
     "output_type": "display_data"
    },
    {
     "data": {
      "application/vnd.holoviews_exec.v0+json": "",
      "text/html": [
       "<div id='2690'>\n",
       "\n",
       "\n",
       "\n",
       "\n",
       "\n",
       "  <div class=\"bk-root\" id=\"9149b8b6-d147-42ae-84ec-b2ef3dce884f\" data-root-id=\"2690\"></div>\n",
       "</div>\n",
       "<script type=\"application/javascript\">(function(root) {\n",
       "  function embed_document(root) {\n",
       "    var docs_json = {\"fb82045c-b617-45cd-9102-8201435e6af1\":{\"defs\":[{\"extends\":null,\"module\":null,\"name\":\"ReactiveHTML1\",\"overrides\":[],\"properties\":[]},{\"extends\":null,\"module\":null,\"name\":\"FlexBox1\",\"overrides\":[],\"properties\":[{\"default\":\"flex-start\",\"kind\":null,\"name\":\"align_content\"},{\"default\":\"flex-start\",\"kind\":null,\"name\":\"align_items\"},{\"default\":\"row\",\"kind\":null,\"name\":\"flex_direction\"},{\"default\":\"wrap\",\"kind\":null,\"name\":\"flex_wrap\"},{\"default\":\"flex-start\",\"kind\":null,\"name\":\"justify_content\"}]},{\"extends\":null,\"module\":null,\"name\":\"GridStack1\",\"overrides\":[],\"properties\":[{\"default\":\"warn\",\"kind\":null,\"name\":\"mode\"},{\"default\":null,\"kind\":null,\"name\":\"ncols\"},{\"default\":null,\"kind\":null,\"name\":\"nrows\"},{\"default\":true,\"kind\":null,\"name\":\"allow_resize\"},{\"default\":true,\"kind\":null,\"name\":\"allow_drag\"},{\"default\":[],\"kind\":null,\"name\":\"state\"}]},{\"extends\":null,\"module\":null,\"name\":\"click1\",\"overrides\":[],\"properties\":[{\"default\":\"\",\"kind\":null,\"name\":\"terminal_output\"},{\"default\":\"\",\"kind\":null,\"name\":\"debug_name\"},{\"default\":0,\"kind\":null,\"name\":\"clears\"}]},{\"extends\":null,\"module\":null,\"name\":\"TemplateActions1\",\"overrides\":[],\"properties\":[{\"default\":0,\"kind\":null,\"name\":\"open_modal\"},{\"default\":0,\"kind\":null,\"name\":\"close_modal\"}]},{\"extends\":null,\"module\":null,\"name\":\"MaterialTemplateActions1\",\"overrides\":[],\"properties\":[{\"default\":0,\"kind\":null,\"name\":\"open_modal\"},{\"default\":0,\"kind\":null,\"name\":\"close_modal\"}]}],\"roots\":{\"references\":[{\"attributes\":{},\"id\":\"2749\",\"type\":\"UnionRenderers\"},{\"attributes\":{},\"id\":\"2709\",\"type\":\"BasicTicker\"},{\"attributes\":{},\"id\":\"2716\",\"type\":\"ResetTool\"},{\"attributes\":{},\"id\":\"2741\",\"type\":\"BasicTickFormatter\"},{\"attributes\":{\"below\":[{\"id\":\"2704\"}],\"center\":[{\"id\":\"2707\"},{\"id\":\"2711\"}],\"height\":300,\"left\":[{\"id\":\"2708\"}],\"margin\":[5,5,5,5],\"min_border_bottom\":10,\"min_border_left\":10,\"min_border_right\":10,\"min_border_top\":10,\"renderers\":[{\"id\":\"2731\"}],\"sizing_mode\":\"fixed\",\"title\":{\"id\":\"2696\"},\"toolbar\":{\"id\":\"2718\"},\"width\":700,\"x_range\":{\"id\":\"2692\"},\"x_scale\":{\"id\":\"2700\"},\"y_range\":{\"id\":\"2693\"},\"y_scale\":{\"id\":\"2702\"}},\"id\":\"2695\",\"subtype\":\"Figure\",\"type\":\"Plot\"},{\"attributes\":{\"overlay\":{\"id\":\"2717\"}},\"id\":\"2715\",\"type\":\"BoxZoomTool\"},{\"attributes\":{\"end\":7430.062365030774,\"reset_end\":7430.062365030774,\"reset_start\":-552.789260554418,\"start\":-552.789260554418,\"tags\":[[[\"inertia\",\"inertia\",null]]]},\"id\":\"2693\",\"type\":\"Range1d\"},{\"attributes\":{\"ticks\":[1,2,3,4,5,6,7,8,9,10]},\"id\":\"2734\",\"type\":\"FixedTicker\"},{\"attributes\":{},\"id\":\"2700\",\"type\":\"LinearScale\"},{\"attributes\":{\"data\":{\"inertia\":{\"__ndarray__\":\"MA96IdNsukAiR/LUNYagQOmKCvBK/41AH0oKXLRDgkDP7nT12Kp6QK9zsWlTWnJAAj8QbDPWakCCZYLQWNpkQLDJI+ASa2FA8smuLLIcXEA=\",\"dtype\":\"float64\",\"order\":\"little\",\"shape\":[10]},\"k\":[1,2,3,4,5,6,7,8,9,10]},\"selected\":{\"id\":\"2726\"},\"selection_policy\":{\"id\":\"2749\"}},\"id\":\"2725\",\"type\":\"ColumnDataSource\"},{\"attributes\":{\"margin\":[5,5,5,5],\"name\":\"HSpacer05407\",\"sizing_mode\":\"stretch_width\"},\"id\":\"2691\",\"type\":\"Spacer\"},{\"attributes\":{\"tools\":[{\"id\":\"2694\"},{\"id\":\"2712\"},{\"id\":\"2713\"},{\"id\":\"2714\"},{\"id\":\"2715\"},{\"id\":\"2716\"}]},\"id\":\"2718\",\"type\":\"Toolbar\"},{\"attributes\":{},\"id\":\"2742\",\"type\":\"AllLabels\"},{\"attributes\":{\"children\":[{\"id\":\"2691\"},{\"id\":\"2695\"},{\"id\":\"2761\"}],\"margin\":[0,0,0,0],\"name\":\"Row05403\",\"tags\":[\"embedded\"]},\"id\":\"2690\",\"type\":\"Row\"},{\"attributes\":{\"source\":{\"id\":\"2725\"}},\"id\":\"2732\",\"type\":\"CDSView\"},{\"attributes\":{\"end\":10.0,\"reset_end\":10.0,\"reset_start\":1.0,\"start\":1.0,\"tags\":[[[\"k\",\"k\",null]]]},\"id\":\"2692\",\"type\":\"Range1d\"},{\"attributes\":{\"coordinates\":null,\"data_source\":{\"id\":\"2725\"},\"glyph\":{\"id\":\"2728\"},\"group\":null,\"hover_glyph\":null,\"muted_glyph\":{\"id\":\"2730\"},\"nonselection_glyph\":{\"id\":\"2729\"},\"selection_glyph\":{\"id\":\"2733\"},\"view\":{\"id\":\"2732\"}},\"id\":\"2731\",\"type\":\"GlyphRenderer\"},{\"attributes\":{\"axis_label\":\"inertia\",\"coordinates\":null,\"formatter\":{\"id\":\"2741\"},\"group\":null,\"major_label_policy\":{\"id\":\"2742\"},\"ticker\":{\"id\":\"2709\"}},\"id\":\"2708\",\"type\":\"LinearAxis\"},{\"attributes\":{},\"id\":\"2737\",\"type\":\"AllLabels\"},{\"attributes\":{},\"id\":\"2726\",\"type\":\"Selection\"},{\"attributes\":{\"callback\":null,\"renderers\":[{\"id\":\"2731\"}],\"tags\":[\"hv_created\"],\"tooltips\":[[\"k\",\"@{k}\"],[\"inertia\",\"@{inertia}\"]]},\"id\":\"2694\",\"type\":\"HoverTool\"},{\"attributes\":{\"line_alpha\":0.2,\"line_color\":\"#30a2da\",\"line_width\":2,\"x\":{\"field\":\"k\"},\"y\":{\"field\":\"inertia\"}},\"id\":\"2730\",\"type\":\"Line\"},{\"attributes\":{\"bottom_units\":\"screen\",\"coordinates\":null,\"fill_alpha\":0.5,\"fill_color\":\"lightgrey\",\"group\":null,\"left_units\":\"screen\",\"level\":\"overlay\",\"line_alpha\":1.0,\"line_color\":\"black\",\"line_dash\":[4,4],\"line_width\":2,\"right_units\":\"screen\",\"syncable\":false,\"top_units\":\"screen\"},\"id\":\"2717\",\"type\":\"BoxAnnotation\"},{\"attributes\":{\"line_color\":\"#30a2da\",\"line_width\":2,\"x\":{\"field\":\"k\"},\"y\":{\"field\":\"inertia\"}},\"id\":\"2728\",\"type\":\"Line\"},{\"attributes\":{\"axis\":{\"id\":\"2708\"},\"coordinates\":null,\"dimension\":1,\"grid_line_color\":null,\"group\":null,\"ticker\":null},\"id\":\"2711\",\"type\":\"Grid\"},{\"attributes\":{},\"id\":\"2702\",\"type\":\"LinearScale\"},{\"attributes\":{},\"id\":\"2736\",\"type\":\"BasicTickFormatter\"},{\"attributes\":{\"axis\":{\"id\":\"2704\"},\"coordinates\":null,\"grid_line_color\":null,\"group\":null,\"ticker\":null},\"id\":\"2707\",\"type\":\"Grid\"},{\"attributes\":{\"line_alpha\":0.1,\"line_color\":\"#30a2da\",\"line_width\":2,\"x\":{\"field\":\"k\"},\"y\":{\"field\":\"inertia\"}},\"id\":\"2729\",\"type\":\"Line\"},{\"attributes\":{\"coordinates\":null,\"group\":null,\"text\":\"Elbow Curve\",\"text_color\":\"black\",\"text_font_size\":\"12pt\"},\"id\":\"2696\",\"type\":\"Title\"},{\"attributes\":{},\"id\":\"2714\",\"type\":\"WheelZoomTool\"},{\"attributes\":{},\"id\":\"2712\",\"type\":\"SaveTool\"},{\"attributes\":{\"line_color\":\"#30a2da\",\"line_width\":2,\"x\":{\"field\":\"k\"},\"y\":{\"field\":\"inertia\"}},\"id\":\"2733\",\"type\":\"Line\"},{\"attributes\":{},\"id\":\"2713\",\"type\":\"PanTool\"},{\"attributes\":{\"axis_label\":\"k\",\"coordinates\":null,\"formatter\":{\"id\":\"2736\"},\"group\":null,\"major_label_policy\":{\"id\":\"2737\"},\"ticker\":{\"id\":\"2734\"}},\"id\":\"2704\",\"type\":\"LinearAxis\"},{\"attributes\":{\"margin\":[5,5,5,5],\"name\":\"HSpacer05408\",\"sizing_mode\":\"stretch_width\"},\"id\":\"2761\",\"type\":\"Spacer\"}],\"root_ids\":[\"2690\"]},\"title\":\"Bokeh Application\",\"version\":\"2.4.2\"}};\n",
       "    var render_items = [{\"docid\":\"fb82045c-b617-45cd-9102-8201435e6af1\",\"root_ids\":[\"2690\"],\"roots\":{\"2690\":\"9149b8b6-d147-42ae-84ec-b2ef3dce884f\"}}];\n",
       "    root.Bokeh.embed.embed_items_notebook(docs_json, render_items);\n",
       "  }\n",
       "  if (root.Bokeh !== undefined && root.Bokeh.Panel !== undefined) {\n",
       "    embed_document(root);\n",
       "  } else {\n",
       "    var attempts = 0;\n",
       "    var timer = setInterval(function(root) {\n",
       "      if (root.Bokeh !== undefined && root.Bokeh.Panel !== undefined) {\n",
       "        clearInterval(timer);\n",
       "        embed_document(root);\n",
       "      } else if (document.readyState == \"complete\") {\n",
       "        attempts++;\n",
       "        if (attempts > 200) {\n",
       "          clearInterval(timer);\n",
       "          console.log(\"Bokeh: ERROR: Unable to run BokehJS code because BokehJS library is missing\");\n",
       "        }\n",
       "      }\n",
       "    }, 25, root)\n",
       "  }\n",
       "})(window);</script>"
      ],
      "text/plain": [
       ":Curve   [k]   (inertia)"
      ]
     },
     "execution_count": 54,
     "metadata": {
      "application/vnd.holoviews_exec.v0+json": {
       "id": "2690"
      }
     },
     "output_type": "execute_result"
    }
   ],
   "source": [
    "# Plot the DataFrame\n",
    "df_elbow.hvplot.line(\n",
    "    x=\"k\", \n",
    "    y=\"inertia\", \n",
    "    title=\"Elbow Curve\", \n",
    "    xticks=k\n",
    ")"
   ]
  },
  {
   "cell_type": "code",
   "execution_count": 55,
   "id": "ca3e9552",
   "metadata": {},
   "outputs": [
    {
     "name": "stderr",
     "output_type": "stream",
     "text": [
      "C:\\Users\\Dronp\\anaconda3\\lib\\site-packages\\sklearn\\cluster\\_kmeans.py:1332: UserWarning: KMeans is known to have a memory leak on Windows with MKL, when there are less chunks than available threads. You can avoid it by setting the environment variable OMP_NUM_THREADS=2.\n",
      "  warnings.warn(\n"
     ]
    }
   ],
   "source": [
    "# Define the model with 4 clusters\n",
    "model = KMeans(n_clusters=4, random_state=1)\n",
    "\n",
    "# Fit the model\n",
    "model.fit(df_season)\n",
    "\n",
    "# Make predictions\n",
    "k_4 = model.predict(df_season)\n",
    "\n",
    "# Create a copy of the DataFrame\n",
    "Team_ratings_predictions_df = df_season.copy()\n",
    "\n",
    "# Add a class column with the labels\n",
    "Team_ratings_predictions_df[\"team_ratings_4\"] = k_4"
   ]
  },
  {
   "cell_type": "code",
   "execution_count": 56,
   "id": "01bfd89d",
   "metadata": {},
   "outputs": [
    {
     "data": {},
     "metadata": {},
     "output_type": "display_data"
    },
    {
     "data": {
      "application/vnd.holoviews_exec.v0+json": "",
      "text/html": [
       "<div id='2808'>\n",
       "\n",
       "\n",
       "\n",
       "\n",
       "\n",
       "  <div class=\"bk-root\" id=\"5ae73a01-94aa-4966-a328-a430d0862cf2\" data-root-id=\"2808\"></div>\n",
       "</div>\n",
       "<script type=\"application/javascript\">(function(root) {\n",
       "  function embed_document(root) {\n",
       "    var docs_json = {\"e3ec4e6e-8390-46e1-b8b6-c916220de10c\":{\"defs\":[{\"extends\":null,\"module\":null,\"name\":\"ReactiveHTML1\",\"overrides\":[],\"properties\":[]},{\"extends\":null,\"module\":null,\"name\":\"FlexBox1\",\"overrides\":[],\"properties\":[{\"default\":\"flex-start\",\"kind\":null,\"name\":\"align_content\"},{\"default\":\"flex-start\",\"kind\":null,\"name\":\"align_items\"},{\"default\":\"row\",\"kind\":null,\"name\":\"flex_direction\"},{\"default\":\"wrap\",\"kind\":null,\"name\":\"flex_wrap\"},{\"default\":\"flex-start\",\"kind\":null,\"name\":\"justify_content\"}]},{\"extends\":null,\"module\":null,\"name\":\"GridStack1\",\"overrides\":[],\"properties\":[{\"default\":\"warn\",\"kind\":null,\"name\":\"mode\"},{\"default\":null,\"kind\":null,\"name\":\"ncols\"},{\"default\":null,\"kind\":null,\"name\":\"nrows\"},{\"default\":true,\"kind\":null,\"name\":\"allow_resize\"},{\"default\":true,\"kind\":null,\"name\":\"allow_drag\"},{\"default\":[],\"kind\":null,\"name\":\"state\"}]},{\"extends\":null,\"module\":null,\"name\":\"click1\",\"overrides\":[],\"properties\":[{\"default\":\"\",\"kind\":null,\"name\":\"terminal_output\"},{\"default\":\"\",\"kind\":null,\"name\":\"debug_name\"},{\"default\":0,\"kind\":null,\"name\":\"clears\"}]},{\"extends\":null,\"module\":null,\"name\":\"TemplateActions1\",\"overrides\":[],\"properties\":[{\"default\":0,\"kind\":null,\"name\":\"open_modal\"},{\"default\":0,\"kind\":null,\"name\":\"close_modal\"}]},{\"extends\":null,\"module\":null,\"name\":\"MaterialTemplateActions1\",\"overrides\":[],\"properties\":[{\"default\":0,\"kind\":null,\"name\":\"open_modal\"},{\"default\":0,\"kind\":null,\"name\":\"close_modal\"}]}],\"roots\":{\"references\":[{\"attributes\":{},\"id\":\"2850\",\"type\":\"BasicTickFormatter\"},{\"attributes\":{},\"id\":\"2940\",\"type\":\"UnionRenderers\"},{\"attributes\":{\"end\":17.5,\"reset_end\":17.5,\"reset_start\":-0.5,\"start\":-0.5,\"tags\":[[[\"L\",\"L\",null]]]},\"id\":\"2811\",\"type\":\"Range1d\"},{\"attributes\":{},\"id\":\"2851\",\"type\":\"AllLabels\"},{\"attributes\":{},\"id\":\"2821\",\"type\":\"LinearScale\"},{\"attributes\":{\"fill_alpha\":{\"value\":0.1},\"fill_color\":{\"value\":\"#30a2da\"},\"hatch_alpha\":{\"value\":0.1},\"hatch_color\":{\"value\":\"#30a2da\"},\"line_alpha\":{\"value\":0.1},\"line_color\":{\"value\":\"#30a2da\"},\"size\":{\"value\":5.477225575051661},\"x\":{\"field\":\"W\"},\"y\":{\"field\":\"L\"}},\"id\":\"2856\",\"type\":\"Scatter\"},{\"attributes\":{\"angle\":{\"value\":0.0},\"fill_alpha\":{\"value\":1.0},\"fill_color\":{\"value\":\"#fc4f30\"},\"hatch_alpha\":{\"value\":1.0},\"hatch_color\":{\"value\":\"#fc4f30\"},\"hatch_scale\":{\"value\":12.0},\"hatch_weight\":{\"value\":1.0},\"line_alpha\":{\"value\":1.0},\"line_cap\":{\"value\":\"butt\"},\"line_color\":{\"value\":\"#fc4f30\"},\"line_dash\":{\"value\":[]},\"line_dash_offset\":{\"value\":0},\"line_join\":{\"value\":\"bevel\"},\"line_width\":{\"value\":1},\"marker\":{\"value\":\"circle\"},\"size\":{\"value\":5.477225575051661},\"x\":{\"field\":\"W\"},\"y\":{\"field\":\"L\"}},\"id\":\"2894\",\"type\":\"Scatter\"},{\"attributes\":{\"click_policy\":\"mute\",\"coordinates\":null,\"group\":null,\"items\":[{\"id\":\"2871\"},{\"id\":\"2893\"},{\"id\":\"2917\"},{\"id\":\"2943\"}],\"location\":[0,0],\"title\":\"team_ratings_4\"},\"id\":\"2870\",\"type\":\"Legend\"},{\"attributes\":{\"fill_alpha\":{\"value\":0.2},\"fill_color\":{\"value\":\"#30a2da\"},\"hatch_alpha\":{\"value\":0.2},\"hatch_color\":{\"value\":\"#30a2da\"},\"line_alpha\":{\"value\":0.2},\"line_color\":{\"value\":\"#30a2da\"},\"size\":{\"value\":5.477225575051661},\"x\":{\"field\":\"W\"},\"y\":{\"field\":\"L\"}},\"id\":\"2857\",\"type\":\"Scatter\"},{\"attributes\":{\"source\":{\"id\":\"2852\"}},\"id\":\"2859\",\"type\":\"CDSView\"},{\"attributes\":{\"end\":15.642857142857142,\"reset_end\":15.642857142857142,\"reset_start\":-0.6428571428571429,\"start\":-0.6428571428571429,\"tags\":[[[\"W\",\"W\",null]]]},\"id\":\"2810\",\"type\":\"Range1d\"},{\"attributes\":{\"fill_color\":{\"value\":\"#e5ae38\"},\"hatch_color\":{\"value\":\"#e5ae38\"},\"line_color\":{\"value\":\"#e5ae38\"},\"size\":{\"value\":5.477225575051661},\"x\":{\"field\":\"W\"},\"y\":{\"field\":\"L\"}},\"id\":\"2898\",\"type\":\"Scatter\"},{\"attributes\":{\"label\":{\"value\":\"3\"},\"renderers\":[{\"id\":\"2925\"}]},\"id\":\"2943\",\"type\":\"LegendItem\"},{\"attributes\":{},\"id\":\"2896\",\"type\":\"Selection\"},{\"attributes\":{\"fill_alpha\":{\"value\":0.1},\"fill_color\":{\"value\":\"#6d904f\"},\"hatch_alpha\":{\"value\":0.1},\"hatch_color\":{\"value\":\"#6d904f\"},\"line_alpha\":{\"value\":0.1},\"line_color\":{\"value\":\"#6d904f\"},\"size\":{\"value\":5.477225575051661},\"x\":{\"field\":\"W\"},\"y\":{\"field\":\"L\"}},\"id\":\"2923\",\"type\":\"Scatter\"},{\"attributes\":{\"label\":{\"value\":\"0\"},\"renderers\":[{\"id\":\"2858\"}]},\"id\":\"2871\",\"type\":\"LegendItem\"},{\"attributes\":{},\"id\":\"2914\",\"type\":\"UnionRenderers\"},{\"attributes\":{\"coordinates\":null,\"data_source\":{\"id\":\"2919\"},\"glyph\":{\"id\":\"2922\"},\"group\":null,\"hover_glyph\":null,\"muted_glyph\":{\"id\":\"2924\"},\"nonselection_glyph\":{\"id\":\"2923\"},\"selection_glyph\":{\"id\":\"2944\"},\"view\":{\"id\":\"2926\"}},\"id\":\"2925\",\"type\":\"GlyphRenderer\"},{\"attributes\":{\"callback\":null,\"renderers\":[{\"id\":\"2858\"},{\"id\":\"2879\"},{\"id\":\"2901\"},{\"id\":\"2925\"}],\"tags\":[\"hv_created\"],\"tooltips\":[[\"team_ratings_4\",\"@{team_ratings_4}\"],[\"W\",\"@{W}\"],[\"L\",\"@{L}\"]]},\"id\":\"2812\",\"type\":\"HoverTool\"},{\"attributes\":{\"data\":{\"L\":[13,13,14,13,13,12,14,11,12,15,11,12,14,12,13,12,12,12,12,13,16,12,12,13,15,13,13,12,14,13,13,12,12,12,13,14,13,12,14,12,12,14,12,13,12,12,14,12,14,12,12,12,14,13,12,14],\"W\":[4,4,3,4,3,5,2,4,4,1,4,4,2,4,3,3,4,4,4,3,0,4,4,3,1,3,3,4,2,3,3,4,4,4,3,2,3,4,2,4,4,2,4,3,4,4,2,4,2,4,4,4,2,3,4,2],\"team_ratings_4\":[2,2,2,2,2,2,2,2,2,2,2,2,2,2,2,2,2,2,2,2,2,2,2,2,2,2,2,2,2,2,2,2,2,2,2,2,2,2,2,2,2,2,2,2,2,2,2,2,2,2,2,2,2,2,2,2]},\"selected\":{\"id\":\"2896\"},\"selection_policy\":{\"id\":\"2914\"}},\"id\":\"2895\",\"type\":\"ColumnDataSource\"},{\"attributes\":{},\"id\":\"2823\",\"type\":\"LinearScale\"},{\"attributes\":{\"angle\":{\"value\":0.0},\"fill_alpha\":{\"value\":1.0},\"fill_color\":{\"value\":\"#30a2da\"},\"hatch_alpha\":{\"value\":1.0},\"hatch_color\":{\"value\":\"#30a2da\"},\"hatch_scale\":{\"value\":12.0},\"hatch_weight\":{\"value\":1.0},\"line_alpha\":{\"value\":1.0},\"line_cap\":{\"value\":\"butt\"},\"line_color\":{\"value\":\"#30a2da\"},\"line_dash\":{\"value\":[]},\"line_dash_offset\":{\"value\":0},\"line_join\":{\"value\":\"bevel\"},\"line_width\":{\"value\":1},\"marker\":{\"value\":\"circle\"},\"size\":{\"value\":5.477225575051661},\"x\":{\"field\":\"W\"},\"y\":{\"field\":\"L\"}},\"id\":\"2872\",\"type\":\"Scatter\"},{\"attributes\":{\"source\":{\"id\":\"2919\"}},\"id\":\"2926\",\"type\":\"CDSView\"},{\"attributes\":{\"coordinates\":null,\"data_source\":{\"id\":\"2852\"},\"glyph\":{\"id\":\"2855\"},\"group\":null,\"hover_glyph\":null,\"muted_glyph\":{\"id\":\"2857\"},\"nonselection_glyph\":{\"id\":\"2856\"},\"selection_glyph\":{\"id\":\"2872\"},\"view\":{\"id\":\"2859\"}},\"id\":\"2858\",\"type\":\"GlyphRenderer\"},{\"attributes\":{\"fill_alpha\":{\"value\":0.2},\"fill_color\":{\"value\":\"#6d904f\"},\"hatch_alpha\":{\"value\":0.2},\"hatch_color\":{\"value\":\"#6d904f\"},\"line_alpha\":{\"value\":0.2},\"line_color\":{\"value\":\"#6d904f\"},\"size\":{\"value\":5.477225575051661},\"x\":{\"field\":\"W\"},\"y\":{\"field\":\"L\"}},\"id\":\"2924\",\"type\":\"Scatter\"},{\"attributes\":{\"label\":{\"value\":\"2\"},\"renderers\":[{\"id\":\"2901\"}]},\"id\":\"2917\",\"type\":\"LegendItem\"},{\"attributes\":{\"below\":[{\"id\":\"2825\"}],\"center\":[{\"id\":\"2828\"},{\"id\":\"2832\"}],\"height\":300,\"left\":[{\"id\":\"2829\"}],\"margin\":[5,5,5,5],\"min_border_bottom\":10,\"min_border_left\":10,\"min_border_right\":10,\"min_border_top\":10,\"renderers\":[{\"id\":\"2858\"},{\"id\":\"2879\"},{\"id\":\"2901\"},{\"id\":\"2925\"}],\"right\":[{\"id\":\"2870\"}],\"sizing_mode\":\"fixed\",\"title\":{\"id\":\"2817\"},\"toolbar\":{\"id\":\"2839\"},\"width\":700,\"x_range\":{\"id\":\"2810\"},\"x_scale\":{\"id\":\"2821\"},\"y_range\":{\"id\":\"2811\"},\"y_scale\":{\"id\":\"2823\"}},\"id\":\"2816\",\"subtype\":\"Figure\",\"type\":\"Plot\"},{\"attributes\":{\"fill_color\":{\"value\":\"#fc4f30\"},\"hatch_color\":{\"value\":\"#fc4f30\"},\"line_color\":{\"value\":\"#fc4f30\"},\"size\":{\"value\":5.477225575051661},\"x\":{\"field\":\"W\"},\"y\":{\"field\":\"L\"}},\"id\":\"2876\",\"type\":\"Scatter\"},{\"attributes\":{\"coordinates\":null,\"group\":null,\"text_color\":\"black\",\"text_font_size\":\"12pt\"},\"id\":\"2817\",\"type\":\"Title\"},{\"attributes\":{\"source\":{\"id\":\"2873\"}},\"id\":\"2880\",\"type\":\"CDSView\"},{\"attributes\":{},\"id\":\"2834\",\"type\":\"PanTool\"},{\"attributes\":{\"margin\":[5,5,5,5],\"name\":\"HSpacer05710\",\"sizing_mode\":\"stretch_width\"},\"id\":\"3089\",\"type\":\"Spacer\"},{\"attributes\":{\"axis\":{\"id\":\"2825\"},\"coordinates\":null,\"grid_line_color\":null,\"group\":null,\"ticker\":null},\"id\":\"2828\",\"type\":\"Grid\"},{\"attributes\":{\"fill_alpha\":{\"value\":0.1},\"fill_color\":{\"value\":\"#e5ae38\"},\"hatch_alpha\":{\"value\":0.1},\"hatch_color\":{\"value\":\"#e5ae38\"},\"line_alpha\":{\"value\":0.1},\"line_color\":{\"value\":\"#e5ae38\"},\"size\":{\"value\":5.477225575051661},\"x\":{\"field\":\"W\"},\"y\":{\"field\":\"L\"}},\"id\":\"2899\",\"type\":\"Scatter\"},{\"attributes\":{\"source\":{\"id\":\"2895\"}},\"id\":\"2902\",\"type\":\"CDSView\"},{\"attributes\":{\"coordinates\":null,\"data_source\":{\"id\":\"2895\"},\"glyph\":{\"id\":\"2898\"},\"group\":null,\"hover_glyph\":null,\"muted_glyph\":{\"id\":\"2900\"},\"nonselection_glyph\":{\"id\":\"2899\"},\"selection_glyph\":{\"id\":\"2918\"},\"view\":{\"id\":\"2902\"}},\"id\":\"2901\",\"type\":\"GlyphRenderer\"},{\"attributes\":{\"axis_label\":\"W\",\"coordinates\":null,\"formatter\":{\"id\":\"2847\"},\"group\":null,\"major_label_policy\":{\"id\":\"2848\"},\"ticker\":{\"id\":\"2826\"}},\"id\":\"2825\",\"type\":\"LinearAxis\"},{\"attributes\":{\"label\":{\"value\":\"1\"},\"renderers\":[{\"id\":\"2879\"}]},\"id\":\"2893\",\"type\":\"LegendItem\"},{\"attributes\":{},\"id\":\"2835\",\"type\":\"WheelZoomTool\"},{\"attributes\":{\"fill_alpha\":{\"value\":0.2},\"fill_color\":{\"value\":\"#e5ae38\"},\"hatch_alpha\":{\"value\":0.2},\"hatch_color\":{\"value\":\"#e5ae38\"},\"line_alpha\":{\"value\":0.2},\"line_color\":{\"value\":\"#e5ae38\"},\"size\":{\"value\":5.477225575051661},\"x\":{\"field\":\"W\"},\"y\":{\"field\":\"L\"}},\"id\":\"2900\",\"type\":\"Scatter\"},{\"attributes\":{},\"id\":\"2826\",\"type\":\"BasicTicker\"},{\"attributes\":{\"axis_label\":\"L\",\"coordinates\":null,\"formatter\":{\"id\":\"2850\"},\"group\":null,\"major_label_policy\":{\"id\":\"2851\"},\"ticker\":{\"id\":\"2830\"}},\"id\":\"2829\",\"type\":\"LinearAxis\"},{\"attributes\":{\"axis\":{\"id\":\"2829\"},\"coordinates\":null,\"dimension\":1,\"grid_line_color\":null,\"group\":null,\"ticker\":null},\"id\":\"2832\",\"type\":\"Grid\"},{\"attributes\":{},\"id\":\"2830\",\"type\":\"BasicTicker\"},{\"attributes\":{},\"id\":\"2848\",\"type\":\"AllLabels\"},{\"attributes\":{},\"id\":\"2833\",\"type\":\"SaveTool\"},{\"attributes\":{\"overlay\":{\"id\":\"2838\"}},\"id\":\"2836\",\"type\":\"BoxZoomTool\"},{\"attributes\":{},\"id\":\"2837\",\"type\":\"ResetTool\"},{\"attributes\":{},\"id\":\"2874\",\"type\":\"Selection\"},{\"attributes\":{\"bottom_units\":\"screen\",\"coordinates\":null,\"fill_alpha\":0.5,\"fill_color\":\"lightgrey\",\"group\":null,\"left_units\":\"screen\",\"level\":\"overlay\",\"line_alpha\":1.0,\"line_color\":\"black\",\"line_dash\":[4,4],\"line_width\":2,\"right_units\":\"screen\",\"syncable\":false,\"top_units\":\"screen\"},\"id\":\"2838\",\"type\":\"BoxAnnotation\"},{\"attributes\":{\"fill_alpha\":{\"value\":0.1},\"fill_color\":{\"value\":\"#fc4f30\"},\"hatch_alpha\":{\"value\":0.1},\"hatch_color\":{\"value\":\"#fc4f30\"},\"line_alpha\":{\"value\":0.1},\"line_color\":{\"value\":\"#fc4f30\"},\"size\":{\"value\":5.477225575051661},\"x\":{\"field\":\"W\"},\"y\":{\"field\":\"L\"}},\"id\":\"2877\",\"type\":\"Scatter\"},{\"attributes\":{},\"id\":\"2867\",\"type\":\"UnionRenderers\"},{\"attributes\":{\"coordinates\":null,\"data_source\":{\"id\":\"2873\"},\"glyph\":{\"id\":\"2876\"},\"group\":null,\"hover_glyph\":null,\"muted_glyph\":{\"id\":\"2878\"},\"nonselection_glyph\":{\"id\":\"2877\"},\"selection_glyph\":{\"id\":\"2894\"},\"view\":{\"id\":\"2880\"}},\"id\":\"2879\",\"type\":\"GlyphRenderer\"},{\"attributes\":{\"tools\":[{\"id\":\"2812\"},{\"id\":\"2833\"},{\"id\":\"2834\"},{\"id\":\"2835\"},{\"id\":\"2836\"},{\"id\":\"2837\"}]},\"id\":\"2839\",\"type\":\"Toolbar\"},{\"attributes\":{\"data\":{\"L\":[8,7,7,7,8,7,8,8,8,7,6,8,8,6,8,6,8,6,7,7,8,6,8,7,6,6,6,7,6,7,7,6,7,7,6,7,6,7,7,7,6,7,8,6,8,7,7,8,7,7,6,7,8,7,6,8,6,7,8,7,6,8,6,7,8,6,7,7,7,6,8,8,8,8,8,7,6,8,7,8,6,6,6,8,6,7,8,6,6,8,7,6,7,8,8,8,7,8,8,6,8,6,8],\"W\":[9,10,10,9,9,10,9,9,9,10,10,8,8,10,8,10,8,10,9,9,8,10,8,9,10,9,10,9,10,9,8,10,9,9,10,9,10,9,9,9,10,9,8,10,8,9,9,8,9,8,10,9,8,9,10,8,10,9,8,9,10,8,10,9,8,10,9,9,9,10,8,8,8,8,8,9,10,8,8,8,10,10,10,8,10,9,8,10,10,8,9,10,9,8,8,8,9,8,8,10,8,10,8],\"team_ratings_4\":[3,3,3,3,3,3,3,3,3,3,3,3,3,3,3,3,3,3,3,3,3,3,3,3,3,3,3,3,3,3,3,3,3,3,3,3,3,3,3,3,3,3,3,3,3,3,3,3,3,3,3,3,3,3,3,3,3,3,3,3,3,3,3,3,3,3,3,3,3,3,3,3,3,3,3,3,3,3,3,3,3,3,3,3,3,3,3,3,3,3,3,3,3,3,3,3,3,3,3,3,3,3,3]},\"selected\":{\"id\":\"2920\"},\"selection_policy\":{\"id\":\"2940\"}},\"id\":\"2919\",\"type\":\"ColumnDataSource\"},{\"attributes\":{\"fill_alpha\":{\"value\":0.2},\"fill_color\":{\"value\":\"#fc4f30\"},\"hatch_alpha\":{\"value\":0.2},\"hatch_color\":{\"value\":\"#fc4f30\"},\"line_alpha\":{\"value\":0.2},\"line_color\":{\"value\":\"#fc4f30\"},\"size\":{\"value\":5.477225575051661},\"x\":{\"field\":\"W\"},\"y\":{\"field\":\"L\"}},\"id\":\"2878\",\"type\":\"Scatter\"},{\"attributes\":{\"angle\":{\"value\":0.0},\"fill_alpha\":{\"value\":1.0},\"fill_color\":{\"value\":\"#6d904f\"},\"hatch_alpha\":{\"value\":1.0},\"hatch_color\":{\"value\":\"#6d904f\"},\"hatch_scale\":{\"value\":12.0},\"hatch_weight\":{\"value\":1.0},\"line_alpha\":{\"value\":1.0},\"line_cap\":{\"value\":\"butt\"},\"line_color\":{\"value\":\"#6d904f\"},\"line_dash\":{\"value\":[]},\"line_dash_offset\":{\"value\":0},\"line_join\":{\"value\":\"bevel\"},\"line_width\":{\"value\":1},\"marker\":{\"value\":\"circle\"},\"size\":{\"value\":5.477225575051661},\"x\":{\"field\":\"W\"},\"y\":{\"field\":\"L\"}},\"id\":\"2944\",\"type\":\"Scatter\"},{\"attributes\":{\"data\":{\"L\":[9,9,10,10,9,11,10,10,9,9,11,9,10,10,9,11,11,10,9,11,10,9,10,9,9,11,9,9,11,10,9,10,8,10,11,10,9,11,9,10,9,9,11,10,11,9,10,11,9,9,11,11,10,9,11,9,11,9,9,10,8,10,11,11,9,9,10,9,10,9,10,9,11,9,10,9,11,8,9,10,10,10,9,9,9,10,9,9,10,10,11,10,9,9,9,9,8,11,10,10,11,9,11,10,9],\"W\":[8,8,7,7,8,6,7,7,7,7,5,7,6,6,7,5,5,6,7,5,6,7,6,7,7,5,7,7,5,5,7,6,7,6,5,6,7,5,6,6,7,7,5,6,5,7,6,5,7,7,5,5,6,7,5,6,5,7,7,6,7,6,5,5,7,7,6,7,6,7,6,7,5,7,6,7,5,7,7,6,6,6,7,7,7,5,7,7,6,6,5,6,7,7,7,7,7,5,6,6,5,7,5,6,7],\"team_ratings_4\":[1,1,1,1,1,1,1,1,1,1,1,1,1,1,1,1,1,1,1,1,1,1,1,1,1,1,1,1,1,1,1,1,1,1,1,1,1,1,1,1,1,1,1,1,1,1,1,1,1,1,1,1,1,1,1,1,1,1,1,1,1,1,1,1,1,1,1,1,1,1,1,1,1,1,1,1,1,1,1,1,1,1,1,1,1,1,1,1,1,1,1,1,1,1,1,1,1,1,1,1,1,1,1,1,1]},\"selected\":{\"id\":\"2874\"},\"selection_policy\":{\"id\":\"2890\"}},\"id\":\"2873\",\"type\":\"ColumnDataSource\"},{\"attributes\":{},\"id\":\"2890\",\"type\":\"UnionRenderers\"},{\"attributes\":{},\"id\":\"2853\",\"type\":\"Selection\"},{\"attributes\":{\"margin\":[5,5,5,5],\"name\":\"HSpacer05709\",\"sizing_mode\":\"stretch_width\"},\"id\":\"2809\",\"type\":\"Spacer\"},{\"attributes\":{\"angle\":{\"value\":0.0},\"fill_alpha\":{\"value\":1.0},\"fill_color\":{\"value\":\"#e5ae38\"},\"hatch_alpha\":{\"value\":1.0},\"hatch_color\":{\"value\":\"#e5ae38\"},\"hatch_scale\":{\"value\":12.0},\"hatch_weight\":{\"value\":1.0},\"line_alpha\":{\"value\":1.0},\"line_cap\":{\"value\":\"butt\"},\"line_color\":{\"value\":\"#e5ae38\"},\"line_dash\":{\"value\":[]},\"line_dash_offset\":{\"value\":0},\"line_join\":{\"value\":\"bevel\"},\"line_width\":{\"value\":1},\"marker\":{\"value\":\"circle\"},\"size\":{\"value\":5.477225575051661},\"x\":{\"field\":\"W\"},\"y\":{\"field\":\"L\"}},\"id\":\"2918\",\"type\":\"Scatter\"},{\"attributes\":{},\"id\":\"2847\",\"type\":\"BasicTickFormatter\"},{\"attributes\":{\"children\":[{\"id\":\"2809\"},{\"id\":\"2816\"},{\"id\":\"3089\"}],\"margin\":[0,0,0,0],\"name\":\"Row05705\",\"tags\":[\"embedded\"]},\"id\":\"2808\",\"type\":\"Row\"},{\"attributes\":{\"fill_color\":{\"value\":\"#30a2da\"},\"hatch_color\":{\"value\":\"#30a2da\"},\"line_color\":{\"value\":\"#30a2da\"},\"size\":{\"value\":5.477225575051661},\"x\":{\"field\":\"W\"},\"y\":{\"field\":\"L\"}},\"id\":\"2855\",\"type\":\"Scatter\"},{\"attributes\":{\"data\":{\"L\":[6,5,5,5,4,4,5,6,3,4,5,5,5,5,2,3,4,5,4,4,2,4,3,3,3,5,5,5,4,4,4,3,3,3,3,3,3,5,5,5,2,5,4,4,3,5,5,5,4,4,4,5,5,1,3,4,5,5,5,4,4,4,5,4,5,4,5,5,3,5,4,5,3,4,4,4,5,3,5,3,4,5,3,4,4,1,3,3],\"W\":[11,12,12,12,13,13,12,11,13,12,11,11,11,11,14,13,12,11,12,12,14,12,13,13,13,11,11,11,12,12,12,13,13,13,13,13,13,11,11,11,14,11,12,12,13,11,11,10,12,12,12,11,11,15,13,12,11,10,11,12,12,12,11,12,11,12,11,11,13,11,12,11,13,12,12,12,11,13,11,13,11,11,13,12,12,15,13,13],\"team_ratings_4\":[0,0,0,0,0,0,0,0,0,0,0,0,0,0,0,0,0,0,0,0,0,0,0,0,0,0,0,0,0,0,0,0,0,0,0,0,0,0,0,0,0,0,0,0,0,0,0,0,0,0,0,0,0,0,0,0,0,0,0,0,0,0,0,0,0,0,0,0,0,0,0,0,0,0,0,0,0,0,0,0,0,0,0,0,0,0,0,0]},\"selected\":{\"id\":\"2853\"},\"selection_policy\":{\"id\":\"2867\"}},\"id\":\"2852\",\"type\":\"ColumnDataSource\"},{\"attributes\":{\"fill_color\":{\"value\":\"#6d904f\"},\"hatch_color\":{\"value\":\"#6d904f\"},\"line_color\":{\"value\":\"#6d904f\"},\"size\":{\"value\":5.477225575051661},\"x\":{\"field\":\"W\"},\"y\":{\"field\":\"L\"}},\"id\":\"2922\",\"type\":\"Scatter\"},{\"attributes\":{},\"id\":\"2920\",\"type\":\"Selection\"}],\"root_ids\":[\"2808\"]},\"title\":\"Bokeh Application\",\"version\":\"2.4.2\"}};\n",
       "    var render_items = [{\"docid\":\"e3ec4e6e-8390-46e1-b8b6-c916220de10c\",\"root_ids\":[\"2808\"],\"roots\":{\"2808\":\"5ae73a01-94aa-4966-a328-a430d0862cf2\"}}];\n",
       "    root.Bokeh.embed.embed_items_notebook(docs_json, render_items);\n",
       "  }\n",
       "  if (root.Bokeh !== undefined && root.Bokeh.Panel !== undefined) {\n",
       "    embed_document(root);\n",
       "  } else {\n",
       "    var attempts = 0;\n",
       "    var timer = setInterval(function(root) {\n",
       "      if (root.Bokeh !== undefined && root.Bokeh.Panel !== undefined) {\n",
       "        clearInterval(timer);\n",
       "        embed_document(root);\n",
       "      } else if (document.readyState == \"complete\") {\n",
       "        attempts++;\n",
       "        if (attempts > 200) {\n",
       "          clearInterval(timer);\n",
       "          console.log(\"Bokeh: ERROR: Unable to run BokehJS code because BokehJS library is missing\");\n",
       "        }\n",
       "      }\n",
       "    }, 25, root)\n",
       "  }\n",
       "})(window);</script>"
      ],
      "text/plain": [
       ":NdOverlay   [team_ratings_4]\n",
       "   :Scatter   [W]   (L)"
      ]
     },
     "execution_count": 56,
     "metadata": {
      "application/vnd.holoviews_exec.v0+json": {
       "id": "2808"
      }
     },
     "output_type": "execute_result"
    }
   ],
   "source": [
    "# Plot the clusters\n",
    "Team_ratings_predictions_df.hvplot.scatter(\n",
    "    x=\"W\",\n",
    "    y=\"L\",\n",
    "    by=\"team_ratings_4\"\n",
    ")"
   ]
  },
  {
   "cell_type": "code",
   "execution_count": 57,
   "id": "5e3bc5ba",
   "metadata": {},
   "outputs": [
    {
     "data": {},
     "metadata": {},
     "output_type": "display_data"
    },
    {
     "data": {
      "application/vnd.holoviews_exec.v0+json": "",
      "text/html": [
       "<div id='3171'>\n",
       "\n",
       "\n",
       "\n",
       "\n",
       "\n",
       "  <div class=\"bk-root\" id=\"5dd016fd-f11d-4b8c-9623-be222e827300\" data-root-id=\"3171\"></div>\n",
       "</div>\n",
       "<script type=\"application/javascript\">(function(root) {\n",
       "  function embed_document(root) {\n",
       "    var docs_json = {\"2a0bd0f1-9dcb-431f-a0c1-d6dc2d7f5877\":{\"defs\":[{\"extends\":null,\"module\":null,\"name\":\"ReactiveHTML1\",\"overrides\":[],\"properties\":[]},{\"extends\":null,\"module\":null,\"name\":\"FlexBox1\",\"overrides\":[],\"properties\":[{\"default\":\"flex-start\",\"kind\":null,\"name\":\"align_content\"},{\"default\":\"flex-start\",\"kind\":null,\"name\":\"align_items\"},{\"default\":\"row\",\"kind\":null,\"name\":\"flex_direction\"},{\"default\":\"wrap\",\"kind\":null,\"name\":\"flex_wrap\"},{\"default\":\"flex-start\",\"kind\":null,\"name\":\"justify_content\"}]},{\"extends\":null,\"module\":null,\"name\":\"GridStack1\",\"overrides\":[],\"properties\":[{\"default\":\"warn\",\"kind\":null,\"name\":\"mode\"},{\"default\":null,\"kind\":null,\"name\":\"ncols\"},{\"default\":null,\"kind\":null,\"name\":\"nrows\"},{\"default\":true,\"kind\":null,\"name\":\"allow_resize\"},{\"default\":true,\"kind\":null,\"name\":\"allow_drag\"},{\"default\":[],\"kind\":null,\"name\":\"state\"}]},{\"extends\":null,\"module\":null,\"name\":\"click1\",\"overrides\":[],\"properties\":[{\"default\":\"\",\"kind\":null,\"name\":\"terminal_output\"},{\"default\":\"\",\"kind\":null,\"name\":\"debug_name\"},{\"default\":0,\"kind\":null,\"name\":\"clears\"}]},{\"extends\":null,\"module\":null,\"name\":\"TemplateActions1\",\"overrides\":[],\"properties\":[{\"default\":0,\"kind\":null,\"name\":\"open_modal\"},{\"default\":0,\"kind\":null,\"name\":\"close_modal\"}]},{\"extends\":null,\"module\":null,\"name\":\"MaterialTemplateActions1\",\"overrides\":[],\"properties\":[{\"default\":0,\"kind\":null,\"name\":\"open_modal\"},{\"default\":0,\"kind\":null,\"name\":\"close_modal\"}]}],\"roots\":{\"references\":[{\"attributes\":{},\"id\":\"3303\",\"type\":\"UnionRenderers\"},{\"attributes\":{},\"id\":\"3211\",\"type\":\"AllLabels\"},{\"attributes\":{},\"id\":\"3214\",\"type\":\"AllLabels\"},{\"attributes\":{\"end\":1.0318,\"reset_end\":1.0318,\"reset_start\":-0.0938,\"start\":-0.0938,\"tags\":[[[\"PCT\",\"PCT\",null]]]},\"id\":\"3174\",\"type\":\"Range1d\"},{\"attributes\":{},\"id\":\"3184\",\"type\":\"LinearScale\"},{\"attributes\":{\"fill_alpha\":{\"value\":0.1},\"fill_color\":{\"value\":\"#6d904f\"},\"hatch_alpha\":{\"value\":0.1},\"hatch_color\":{\"value\":\"#6d904f\"},\"line_alpha\":{\"value\":0.1},\"line_color\":{\"value\":\"#6d904f\"},\"size\":{\"value\":5.477225575051661},\"x\":{\"field\":\"W\"},\"y\":{\"field\":\"PCT\"}},\"id\":\"3286\",\"type\":\"Scatter\"},{\"attributes\":{},\"id\":\"3213\",\"type\":\"BasicTickFormatter\"},{\"attributes\":{\"angle\":{\"value\":0.0},\"fill_alpha\":{\"value\":1.0},\"fill_color\":{\"value\":\"#fc4f30\"},\"hatch_alpha\":{\"value\":1.0},\"hatch_color\":{\"value\":\"#fc4f30\"},\"hatch_scale\":{\"value\":12.0},\"hatch_weight\":{\"value\":1.0},\"line_alpha\":{\"value\":1.0},\"line_cap\":{\"value\":\"butt\"},\"line_color\":{\"value\":\"#fc4f30\"},\"line_dash\":{\"value\":[]},\"line_dash_offset\":{\"value\":0},\"line_join\":{\"value\":\"bevel\"},\"line_width\":{\"value\":1},\"marker\":{\"value\":\"circle\"},\"size\":{\"value\":5.477225575051661},\"x\":{\"field\":\"W\"},\"y\":{\"field\":\"PCT\"}},\"id\":\"3257\",\"type\":\"Scatter\"},{\"attributes\":{\"fill_alpha\":{\"value\":0.2},\"fill_color\":{\"value\":\"#30a2da\"},\"hatch_alpha\":{\"value\":0.2},\"hatch_color\":{\"value\":\"#30a2da\"},\"line_alpha\":{\"value\":0.2},\"line_color\":{\"value\":\"#30a2da\"},\"size\":{\"value\":5.477225575051661},\"x\":{\"field\":\"W\"},\"y\":{\"field\":\"PCT\"}},\"id\":\"3220\",\"type\":\"Scatter\"},{\"attributes\":{},\"id\":\"3277\",\"type\":\"UnionRenderers\"},{\"attributes\":{\"end\":15.642857142857142,\"reset_end\":15.642857142857142,\"reset_start\":-0.6428571428571429,\"start\":-0.6428571428571429,\"tags\":[[[\"W\",\"W\",null]]]},\"id\":\"3173\",\"type\":\"Range1d\"},{\"attributes\":{\"fill_color\":{\"value\":\"#e5ae38\"},\"hatch_color\":{\"value\":\"#e5ae38\"},\"line_color\":{\"value\":\"#e5ae38\"},\"size\":{\"value\":5.477225575051661},\"x\":{\"field\":\"W\"},\"y\":{\"field\":\"PCT\"}},\"id\":\"3261\",\"type\":\"Scatter\"},{\"attributes\":{\"coordinates\":null,\"data_source\":{\"id\":\"3215\"},\"glyph\":{\"id\":\"3218\"},\"group\":null,\"hover_glyph\":null,\"muted_glyph\":{\"id\":\"3220\"},\"nonselection_glyph\":{\"id\":\"3219\"},\"selection_glyph\":{\"id\":\"3235\"},\"view\":{\"id\":\"3222\"}},\"id\":\"3221\",\"type\":\"GlyphRenderer\"},{\"attributes\":{\"source\":{\"id\":\"3258\"}},\"id\":\"3265\",\"type\":\"CDSView\"},{\"attributes\":{\"source\":{\"id\":\"3215\"}},\"id\":\"3222\",\"type\":\"CDSView\"},{\"attributes\":{\"label\":{\"value\":\"3\"},\"renderers\":[{\"id\":\"3288\"}]},\"id\":\"3306\",\"type\":\"LegendItem\"},{\"attributes\":{\"fill_color\":{\"value\":\"#6d904f\"},\"hatch_color\":{\"value\":\"#6d904f\"},\"line_color\":{\"value\":\"#6d904f\"},\"size\":{\"value\":5.477225575051661},\"x\":{\"field\":\"W\"},\"y\":{\"field\":\"PCT\"}},\"id\":\"3285\",\"type\":\"Scatter\"},{\"attributes\":{\"coordinates\":null,\"data_source\":{\"id\":\"3282\"},\"glyph\":{\"id\":\"3285\"},\"group\":null,\"hover_glyph\":null,\"muted_glyph\":{\"id\":\"3287\"},\"nonselection_glyph\":{\"id\":\"3286\"},\"selection_glyph\":{\"id\":\"3307\"},\"view\":{\"id\":\"3289\"}},\"id\":\"3288\",\"type\":\"GlyphRenderer\"},{\"attributes\":{\"callback\":null,\"renderers\":[{\"id\":\"3221\"},{\"id\":\"3242\"},{\"id\":\"3264\"},{\"id\":\"3288\"}],\"tags\":[\"hv_created\"],\"tooltips\":[[\"team_ratings_4\",\"@{team_ratings_4}\"],[\"W\",\"@{W}\"],[\"PCT\",\"@{PCT}\"]]},\"id\":\"3175\",\"type\":\"HoverTool\"},{\"attributes\":{\"label\":{\"value\":\"0\"},\"renderers\":[{\"id\":\"3221\"}]},\"id\":\"3234\",\"type\":\"LegendItem\"},{\"attributes\":{},\"id\":\"3186\",\"type\":\"LinearScale\"},{\"attributes\":{\"click_policy\":\"mute\",\"coordinates\":null,\"group\":null,\"items\":[{\"id\":\"3234\"},{\"id\":\"3256\"},{\"id\":\"3280\"},{\"id\":\"3306\"}],\"location\":[0,0],\"title\":\"team_ratings_4\"},\"id\":\"3233\",\"type\":\"Legend\"},{\"attributes\":{\"angle\":{\"value\":0.0},\"fill_alpha\":{\"value\":1.0},\"fill_color\":{\"value\":\"#30a2da\"},\"hatch_alpha\":{\"value\":1.0},\"hatch_color\":{\"value\":\"#30a2da\"},\"hatch_scale\":{\"value\":12.0},\"hatch_weight\":{\"value\":1.0},\"line_alpha\":{\"value\":1.0},\"line_cap\":{\"value\":\"butt\"},\"line_color\":{\"value\":\"#30a2da\"},\"line_dash\":{\"value\":[]},\"line_dash_offset\":{\"value\":0},\"line_join\":{\"value\":\"bevel\"},\"line_width\":{\"value\":1},\"marker\":{\"value\":\"circle\"},\"size\":{\"value\":5.477225575051661},\"x\":{\"field\":\"W\"},\"y\":{\"field\":\"PCT\"}},\"id\":\"3235\",\"type\":\"Scatter\"},{\"attributes\":{\"fill_alpha\":{\"value\":0.1},\"fill_color\":{\"value\":\"#30a2da\"},\"hatch_alpha\":{\"value\":0.1},\"hatch_color\":{\"value\":\"#30a2da\"},\"line_alpha\":{\"value\":0.1},\"line_color\":{\"value\":\"#30a2da\"},\"size\":{\"value\":5.477225575051661},\"x\":{\"field\":\"W\"},\"y\":{\"field\":\"PCT\"}},\"id\":\"3219\",\"type\":\"Scatter\"},{\"attributes\":{\"source\":{\"id\":\"3282\"}},\"id\":\"3289\",\"type\":\"CDSView\"},{\"attributes\":{\"fill_alpha\":{\"value\":0.2},\"fill_color\":{\"value\":\"#6d904f\"},\"hatch_alpha\":{\"value\":0.2},\"hatch_color\":{\"value\":\"#6d904f\"},\"line_alpha\":{\"value\":0.2},\"line_color\":{\"value\":\"#6d904f\"},\"size\":{\"value\":5.477225575051661},\"x\":{\"field\":\"W\"},\"y\":{\"field\":\"PCT\"}},\"id\":\"3287\",\"type\":\"Scatter\"},{\"attributes\":{\"margin\":[5,5,5,5],\"name\":\"HSpacer06523\",\"sizing_mode\":\"stretch_width\"},\"id\":\"3452\",\"type\":\"Spacer\"},{\"attributes\":{\"data\":{\"PCT\":{\"__ndarray__\":\"FK5H4XoUzj8UrkfhehTOP7pJDAIrh8Y/FK5H4XoUzj+R7Xw/NV7KPzeJQWDl0NI/AAAAAAAAwD+WQ4ts5/vRPwAAAAAAANA/VOOlm8QgsD+WQ4ts5/vRPwAAAAAAANA/AAAAAAAAwD8AAAAAAADQP6rx0k1iEMg/1XjpJjEIzD8AAAAAAADQPwAAAAAAANA/AAAAAAAA0D+q8dJNYhDIPwAAAAAAAAAAAAAAAAAA0D8AAAAAAADQP6rx0k1iEMg/VOOlm8QgsD+q8dJNYhDIP6rx0k1iEMg/AAAAAAAA0D8AAAAAAADAP6rx0k1iEMg/qvHSTWIQyD8AAAAAAADQPwAAAAAAANA/AAAAAAAA0D+q8dJNYhDIPwAAAAAAAMA/qvHSTWIQyD8AAAAAAADQPwAAAAAAAMA/AAAAAAAA0D8AAAAAAADQPwAAAAAAAMA/AAAAAAAA0D+q8dJNYhDIPwAAAAAAANA/AAAAAAAA0D8AAAAAAADAPwAAAAAAANA/AAAAAAAAwD8AAAAAAADQPwAAAAAAANA/AAAAAAAA0D8AAAAAAADAP6rx0k1iEMg/AAAAAAAA0D8AAAAAAADAPw==\",\"dtype\":\"float64\",\"order\":\"little\",\"shape\":[56]},\"W\":[4,4,3,4,3,5,2,4,4,1,4,4,2,4,3,3,4,4,4,3,0,4,4,3,1,3,3,4,2,3,3,4,4,4,3,2,3,4,2,4,4,2,4,3,4,4,2,4,2,4,4,4,2,3,4,2],\"team_ratings_4\":[2,2,2,2,2,2,2,2,2,2,2,2,2,2,2,2,2,2,2,2,2,2,2,2,2,2,2,2,2,2,2,2,2,2,2,2,2,2,2,2,2,2,2,2,2,2,2,2,2,2,2,2,2,2,2,2]},\"selected\":{\"id\":\"3259\"},\"selection_policy\":{\"id\":\"3277\"}},\"id\":\"3258\",\"type\":\"ColumnDataSource\"},{\"attributes\":{\"below\":[{\"id\":\"3188\"}],\"center\":[{\"id\":\"3191\"},{\"id\":\"3195\"}],\"height\":300,\"left\":[{\"id\":\"3192\"}],\"margin\":[5,5,5,5],\"min_border_bottom\":10,\"min_border_left\":10,\"min_border_right\":10,\"min_border_top\":10,\"renderers\":[{\"id\":\"3221\"},{\"id\":\"3242\"},{\"id\":\"3264\"},{\"id\":\"3288\"}],\"right\":[{\"id\":\"3233\"}],\"sizing_mode\":\"fixed\",\"title\":{\"id\":\"3180\"},\"toolbar\":{\"id\":\"3202\"},\"width\":700,\"x_range\":{\"id\":\"3173\"},\"x_scale\":{\"id\":\"3184\"},\"y_range\":{\"id\":\"3174\"},\"y_scale\":{\"id\":\"3186\"}},\"id\":\"3179\",\"subtype\":\"Figure\",\"type\":\"Plot\"},{\"attributes\":{\"fill_color\":{\"value\":\"#fc4f30\"},\"hatch_color\":{\"value\":\"#fc4f30\"},\"line_color\":{\"value\":\"#fc4f30\"},\"size\":{\"value\":5.477225575051661},\"x\":{\"field\":\"W\"},\"y\":{\"field\":\"PCT\"}},\"id\":\"3239\",\"type\":\"Scatter\"},{\"attributes\":{\"coordinates\":null,\"group\":null,\"text_color\":\"black\",\"text_font_size\":\"12pt\"},\"id\":\"3180\",\"type\":\"Title\"},{\"attributes\":{\"source\":{\"id\":\"3236\"}},\"id\":\"3243\",\"type\":\"CDSView\"},{\"attributes\":{},\"id\":\"3197\",\"type\":\"PanTool\"},{\"attributes\":{\"axis\":{\"id\":\"3188\"},\"coordinates\":null,\"grid_line_color\":null,\"group\":null,\"ticker\":null},\"id\":\"3191\",\"type\":\"Grid\"},{\"attributes\":{},\"id\":\"3259\",\"type\":\"Selection\"},{\"attributes\":{\"label\":{\"value\":\"2\"},\"renderers\":[{\"id\":\"3264\"}]},\"id\":\"3280\",\"type\":\"LegendItem\"},{\"attributes\":{\"coordinates\":null,\"data_source\":{\"id\":\"3258\"},\"glyph\":{\"id\":\"3261\"},\"group\":null,\"hover_glyph\":null,\"muted_glyph\":{\"id\":\"3263\"},\"nonselection_glyph\":{\"id\":\"3262\"},\"selection_glyph\":{\"id\":\"3281\"},\"view\":{\"id\":\"3265\"}},\"id\":\"3264\",\"type\":\"GlyphRenderer\"},{\"attributes\":{\"axis_label\":\"W\",\"coordinates\":null,\"formatter\":{\"id\":\"3210\"},\"group\":null,\"major_label_policy\":{\"id\":\"3211\"},\"ticker\":{\"id\":\"3189\"}},\"id\":\"3188\",\"type\":\"LinearAxis\"},{\"attributes\":{\"label\":{\"value\":\"1\"},\"renderers\":[{\"id\":\"3242\"}]},\"id\":\"3256\",\"type\":\"LegendItem\"},{\"attributes\":{},\"id\":\"3198\",\"type\":\"WheelZoomTool\"},{\"attributes\":{\"fill_alpha\":{\"value\":0.1},\"fill_color\":{\"value\":\"#e5ae38\"},\"hatch_alpha\":{\"value\":0.1},\"hatch_color\":{\"value\":\"#e5ae38\"},\"line_alpha\":{\"value\":0.1},\"line_color\":{\"value\":\"#e5ae38\"},\"size\":{\"value\":5.477225575051661},\"x\":{\"field\":\"W\"},\"y\":{\"field\":\"PCT\"}},\"id\":\"3262\",\"type\":\"Scatter\"},{\"attributes\":{\"fill_alpha\":{\"value\":0.2},\"fill_color\":{\"value\":\"#e5ae38\"},\"hatch_alpha\":{\"value\":0.2},\"hatch_color\":{\"value\":\"#e5ae38\"},\"line_alpha\":{\"value\":0.2},\"line_color\":{\"value\":\"#e5ae38\"},\"size\":{\"value\":5.477225575051661},\"x\":{\"field\":\"W\"},\"y\":{\"field\":\"PCT\"}},\"id\":\"3263\",\"type\":\"Scatter\"},{\"attributes\":{},\"id\":\"3189\",\"type\":\"BasicTicker\"},{\"attributes\":{\"axis_label\":\"PCT\",\"coordinates\":null,\"formatter\":{\"id\":\"3213\"},\"group\":null,\"major_label_policy\":{\"id\":\"3214\"},\"ticker\":{\"id\":\"3193\"}},\"id\":\"3192\",\"type\":\"LinearAxis\"},{\"attributes\":{\"axis\":{\"id\":\"3192\"},\"coordinates\":null,\"dimension\":1,\"grid_line_color\":null,\"group\":null,\"ticker\":null},\"id\":\"3195\",\"type\":\"Grid\"},{\"attributes\":{},\"id\":\"3193\",\"type\":\"BasicTicker\"},{\"attributes\":{\"data\":{\"PCT\":{\"__ndarray__\":\"vp8aL90k3j++nxov3STeP5HtfD81Xto/ke18PzVe2j++nxov3STeP2Q730+Nl9Y/ke18PzVe2j+R7Xw/NV7aP9V46SYxCNw/1XjpJjEI3D/VeOkmMQjUP9V46SYxCNw/AAAAAAAA2D8AAAAAAADYP9V46SYxCNw/1XjpJjEI1D/VeOkmMQjUPwAAAAAAANg/1XjpJjEI3D/VeOkmMQjUPwAAAAAAANg/1XjpJjEI3D8AAAAAAADYP9V46SYxCNw/1XjpJjEI3D/VeOkmMQjUP9V46SYxCNw/1XjpJjEI3D/VeOkmMQjUP2q8dJMYBNY/1XjpJjEI3D8AAAAAAADYP2q8dJMYBN4/AAAAAAAA2D/VeOkmMQjUPwAAAAAAANg/1XjpJjEI3D/VeOkmMQjUP5ZDi2zn+9k/AAAAAAAA2D/VeOkmMQjcP9V46SYxCNw/1XjpJjEI1D8AAAAAAADYP9V46SYxCNQ/1XjpJjEI3D8AAAAAAADYP9V46SYxCNQ/1XjpJjEI3D/VeOkmMQjcP9V46SYxCNQ/1XjpJjEI1D8AAAAAAADYP9V46SYxCNw/1XjpJjEI1D+WQ4ts5/vZP9V46SYxCNQ/1XjpJjEI3D/VeOkmMQjcPwAAAAAAANg/arx0kxgE3j8AAAAAAADYP9V46SYxCNQ/1XjpJjEI1D/VeOkmMQjcP9V46SYxCNw/AAAAAAAA2D/VeOkmMQjcPwAAAAAAANg/1XjpJjEI3D8AAAAAAADYP9V46SYxCNw/1XjpJjEI1D/VeOkmMQjcPwAAAAAAANg/1XjpJjEI3D/VeOkmMQjUP2q8dJMYBN4/1XjpJjEI3D8AAAAAAADYPwAAAAAAANg/AAAAAAAA2D/VeOkmMQjcP9V46SYxCNw/1XjpJjEI3D9qvHSTGATWP9V46SYxCNw/1XjpJjEI3D8AAAAAAADYPwAAAAAAANg/1XjpJjEI1D8AAAAAAADYP9V46SYxCNw/1XjpJjEI3D/VeOkmMQjcP9V46SYxCNw/arx0kxgE3j/VeOkmMQjUPwAAAAAAANg/AAAAAAAA2D/VeOkmMQjUP9V46SYxCNw/1XjpJjEI1D8AAAAAAADYP9V46SYxCNw/\",\"dtype\":\"float64\",\"order\":\"little\",\"shape\":[105]},\"W\":[8,8,7,7,8,6,7,7,7,7,5,7,6,6,7,5,5,6,7,5,6,7,6,7,7,5,7,7,5,5,7,6,7,6,5,6,7,5,6,6,7,7,5,6,5,7,6,5,7,7,5,5,6,7,5,6,5,7,7,6,7,6,5,5,7,7,6,7,6,7,6,7,5,7,6,7,5,7,7,6,6,6,7,7,7,5,7,7,6,6,5,6,7,7,7,7,7,5,6,6,5,7,5,6,7],\"team_ratings_4\":[1,1,1,1,1,1,1,1,1,1,1,1,1,1,1,1,1,1,1,1,1,1,1,1,1,1,1,1,1,1,1,1,1,1,1,1,1,1,1,1,1,1,1,1,1,1,1,1,1,1,1,1,1,1,1,1,1,1,1,1,1,1,1,1,1,1,1,1,1,1,1,1,1,1,1,1,1,1,1,1,1,1,1,1,1,1,1,1,1,1,1,1,1,1,1,1,1,1,1,1,1,1,1,1,1]},\"selected\":{\"id\":\"3237\"},\"selection_policy\":{\"id\":\"3253\"}},\"id\":\"3236\",\"type\":\"ColumnDataSource\"},{\"attributes\":{},\"id\":\"3196\",\"type\":\"SaveTool\"},{\"attributes\":{\"overlay\":{\"id\":\"3201\"}},\"id\":\"3199\",\"type\":\"BoxZoomTool\"},{\"attributes\":{},\"id\":\"3200\",\"type\":\"ResetTool\"},{\"attributes\":{},\"id\":\"3237\",\"type\":\"Selection\"},{\"attributes\":{\"bottom_units\":\"screen\",\"coordinates\":null,\"fill_alpha\":0.5,\"fill_color\":\"lightgrey\",\"group\":null,\"left_units\":\"screen\",\"level\":\"overlay\",\"line_alpha\":1.0,\"line_color\":\"black\",\"line_dash\":[4,4],\"line_width\":2,\"right_units\":\"screen\",\"syncable\":false,\"top_units\":\"screen\"},\"id\":\"3201\",\"type\":\"BoxAnnotation\"},{\"attributes\":{\"fill_alpha\":{\"value\":0.1},\"fill_color\":{\"value\":\"#fc4f30\"},\"hatch_alpha\":{\"value\":0.1},\"hatch_color\":{\"value\":\"#fc4f30\"},\"line_alpha\":{\"value\":0.1},\"line_color\":{\"value\":\"#fc4f30\"},\"size\":{\"value\":5.477225575051661},\"x\":{\"field\":\"W\"},\"y\":{\"field\":\"PCT\"}},\"id\":\"3240\",\"type\":\"Scatter\"},{\"attributes\":{},\"id\":\"3230\",\"type\":\"UnionRenderers\"},{\"attributes\":{\"coordinates\":null,\"data_source\":{\"id\":\"3236\"},\"glyph\":{\"id\":\"3239\"},\"group\":null,\"hover_glyph\":null,\"muted_glyph\":{\"id\":\"3241\"},\"nonselection_glyph\":{\"id\":\"3240\"},\"selection_glyph\":{\"id\":\"3257\"},\"view\":{\"id\":\"3243\"}},\"id\":\"3242\",\"type\":\"GlyphRenderer\"},{\"attributes\":{\"data\":{\"PCT\":{\"__ndarray__\":\"IbByaJHt4D83iUFg5dDiPzeJQWDl0OI/F9nO91Pj4T8hsHJoke3gPzeJQWDl0OI/IbByaJHt4D8hsHJoke3gPyGwcmiR7eA/N4lBYOXQ4j8AAAAAAADkPwAAAAAAAOA/AAAAAAAA4D8AAAAAAADkPwAAAAAAAOA/AAAAAAAA5D8AAAAAAADgPwAAAAAAAOQ/arx0kxgE4j9qvHSTGATiPwAAAAAAAOA/AAAAAAAA5D8AAAAAAADgP2q8dJMYBOI/AAAAAAAA5D81XrpJDALjPwAAAAAAAOQ/arx0kxgE4j8AAAAAAADkP2q8dJMYBOI/y6FFtvP94D8AAAAAAADkP2q8dJMYBOI/arx0kxgE4j8AAAAAAADkP2q8dJMYBOI/AAAAAAAA5D9qvHSTGATiP2q8dJMYBOI/arx0kxgE4j8AAAAAAADkP2q8dJMYBOI/AAAAAAAA4D8AAAAAAADkPwAAAAAAAOA/arx0kxgE4j9qvHSTGATiPwAAAAAAAOA/arx0kxgE4j/LoUW28/3gPwAAAAAAAOQ/arx0kxgE4j8AAAAAAADgP2q8dJMYBOI/AAAAAAAA5D8AAAAAAADgPwAAAAAAAOQ/arx0kxgE4j8AAAAAAADgP2q8dJMYBOI/AAAAAAAA5D8AAAAAAADgPwAAAAAAAOQ/arx0kxgE4j8AAAAAAADgPwAAAAAAAOQ/arx0kxgE4j9qvHSTGATiP2q8dJMYBOI/AAAAAAAA5D8AAAAAAADgPwAAAAAAAOA/AAAAAAAA4D8AAAAAAADgPwAAAAAAAOA/arx0kxgE4j8AAAAAAADkPwAAAAAAAOA/y6FFtvP94D8AAAAAAADgPwAAAAAAAOQ/AAAAAAAA5D8AAAAAAADkPwAAAAAAAOA/AAAAAAAA5D9qvHSTGATiPwAAAAAAAOA/AAAAAAAA5D8AAAAAAADkPwAAAAAAAOA/arx0kxgE4j8AAAAAAADkP2q8dJMYBOI/AAAAAAAA4D8AAAAAAADgPwAAAAAAAOA/arx0kxgE4j8AAAAAAADgPwAAAAAAAOA/AAAAAAAA5D8AAAAAAADgPwAAAAAAAOQ/AAAAAAAA4D8=\",\"dtype\":\"float64\",\"order\":\"little\",\"shape\":[103]},\"W\":[9,10,10,9,9,10,9,9,9,10,10,8,8,10,8,10,8,10,9,9,8,10,8,9,10,9,10,9,10,9,8,10,9,9,10,9,10,9,9,9,10,9,8,10,8,9,9,8,9,8,10,9,8,9,10,8,10,9,8,9,10,8,10,9,8,10,9,9,9,10,8,8,8,8,8,9,10,8,8,8,10,10,10,8,10,9,8,10,10,8,9,10,9,8,8,8,9,8,8,10,8,10,8],\"team_ratings_4\":[3,3,3,3,3,3,3,3,3,3,3,3,3,3,3,3,3,3,3,3,3,3,3,3,3,3,3,3,3,3,3,3,3,3,3,3,3,3,3,3,3,3,3,3,3,3,3,3,3,3,3,3,3,3,3,3,3,3,3,3,3,3,3,3,3,3,3,3,3,3,3,3,3,3,3,3,3,3,3,3,3,3,3,3,3,3,3,3,3,3,3,3,3,3,3,3,3,3,3,3,3,3,3]},\"selected\":{\"id\":\"3283\"},\"selection_policy\":{\"id\":\"3303\"}},\"id\":\"3282\",\"type\":\"ColumnDataSource\"},{\"attributes\":{\"fill_alpha\":{\"value\":0.2},\"fill_color\":{\"value\":\"#fc4f30\"},\"hatch_alpha\":{\"value\":0.2},\"hatch_color\":{\"value\":\"#fc4f30\"},\"line_alpha\":{\"value\":0.2},\"line_color\":{\"value\":\"#fc4f30\"},\"size\":{\"value\":5.477225575051661},\"x\":{\"field\":\"W\"},\"y\":{\"field\":\"PCT\"}},\"id\":\"3241\",\"type\":\"Scatter\"},{\"attributes\":{\"fill_color\":{\"value\":\"#30a2da\"},\"hatch_color\":{\"value\":\"#30a2da\"},\"line_color\":{\"value\":\"#30a2da\"},\"size\":{\"value\":5.477225575051661},\"x\":{\"field\":\"W\"},\"y\":{\"field\":\"PCT\"}},\"id\":\"3218\",\"type\":\"Scatter\"},{\"attributes\":{\"angle\":{\"value\":0.0},\"fill_alpha\":{\"value\":1.0},\"fill_color\":{\"value\":\"#6d904f\"},\"hatch_alpha\":{\"value\":1.0},\"hatch_color\":{\"value\":\"#6d904f\"},\"hatch_scale\":{\"value\":12.0},\"hatch_weight\":{\"value\":1.0},\"line_alpha\":{\"value\":1.0},\"line_cap\":{\"value\":\"butt\"},\"line_color\":{\"value\":\"#6d904f\"},\"line_dash\":{\"value\":[]},\"line_dash_offset\":{\"value\":0},\"line_join\":{\"value\":\"bevel\"},\"line_width\":{\"value\":1},\"marker\":{\"value\":\"circle\"},\"size\":{\"value\":5.477225575051661},\"x\":{\"field\":\"W\"},\"y\":{\"field\":\"PCT\"}},\"id\":\"3307\",\"type\":\"Scatter\"},{\"attributes\":{},\"id\":\"3253\",\"type\":\"UnionRenderers\"},{\"attributes\":{\"tools\":[{\"id\":\"3175\"},{\"id\":\"3196\"},{\"id\":\"3197\"},{\"id\":\"3198\"},{\"id\":\"3199\"},{\"id\":\"3200\"}]},\"id\":\"3202\",\"type\":\"Toolbar\"},{\"attributes\":{\"margin\":[5,5,5,5],\"name\":\"HSpacer06522\",\"sizing_mode\":\"stretch_width\"},\"id\":\"3172\",\"type\":\"Spacer\"},{\"attributes\":{},\"id\":\"3216\",\"type\":\"Selection\"},{\"attributes\":{\"children\":[{\"id\":\"3172\"},{\"id\":\"3179\"},{\"id\":\"3452\"}],\"margin\":[0,0,0,0],\"name\":\"Row06518\",\"tags\":[\"embedded\"]},\"id\":\"3171\",\"type\":\"Row\"},{\"attributes\":{\"angle\":{\"value\":0.0},\"fill_alpha\":{\"value\":1.0},\"fill_color\":{\"value\":\"#e5ae38\"},\"hatch_alpha\":{\"value\":1.0},\"hatch_color\":{\"value\":\"#e5ae38\"},\"hatch_scale\":{\"value\":12.0},\"hatch_weight\":{\"value\":1.0},\"line_alpha\":{\"value\":1.0},\"line_cap\":{\"value\":\"butt\"},\"line_color\":{\"value\":\"#e5ae38\"},\"line_dash\":{\"value\":[]},\"line_dash_offset\":{\"value\":0},\"line_join\":{\"value\":\"bevel\"},\"line_width\":{\"value\":1},\"marker\":{\"value\":\"circle\"},\"size\":{\"value\":5.477225575051661},\"x\":{\"field\":\"W\"},\"y\":{\"field\":\"PCT\"}},\"id\":\"3281\",\"type\":\"Scatter\"},{\"attributes\":{},\"id\":\"3210\",\"type\":\"BasicTickFormatter\"},{\"attributes\":{},\"id\":\"3283\",\"type\":\"Selection\"},{\"attributes\":{\"data\":{\"PCT\":{\"__ndarray__\":\"TmIQWDm05D9kO99PjZfmP2Q730+Nl+Y/ZDvfT42X5j97FK5H4XroP3sUrkfheug/ZDvfT42X5j9OYhBYObTkP2q8dJMYBOo/AAAAAAAA6D9qvHSTGATmP2q8dJMYBOY/arx0kxgE5j9qvHSTGATmPwAAAAAAAOw/arx0kxgE6j8AAAAAAADoP2q8dJMYBOY/AAAAAAAA6D8AAAAAAADoPwAAAAAAAOw/AAAAAAAA6D9qvHSTGATqP2q8dJMYBOo/arx0kxgE6j9qvHSTGATmP2q8dJMYBOY/arx0kxgE5j8AAAAAAADoPwAAAAAAAOg/AAAAAAAA6D9qvHSTGATqP2q8dJMYBOo/arx0kxgE6j9qvHSTGATqP2q8dJMYBOo/arx0kxgE6j9qvHSTGATmP2q8dJMYBOY/arx0kxgE5j8AAAAAAADsP2q8dJMYBOY/AAAAAAAA6D8AAAAAAADoP2q8dJMYBOo/arx0kxgE5j9qvHSTGATmP8uhRbbz/eQ/AAAAAAAA6D8AAAAAAADoPwAAAAAAAOg/arx0kxgE5j9qvHSTGATmP2q8dJMYBO4/arx0kxgE6j8AAAAAAADoP2q8dJMYBOY/y6FFtvP95D9qvHSTGATmPwAAAAAAAOg/AAAAAAAA6D8AAAAAAADoP2q8dJMYBOY/AAAAAAAA6D9qvHSTGATmPwAAAAAAAOg/arx0kxgE5j9qvHSTGATmP2q8dJMYBOo/arx0kxgE5j8AAAAAAADoP2q8dJMYBOY/arx0kxgE6j8AAAAAAADoPwAAAAAAAOg/AAAAAAAA6D9qvHSTGATmP2q8dJMYBOo/arx0kxgE5j9qvHSTGATqPzVeukkMAuc/arx0kxgE5j9qvHSTGATqPwAAAAAAAOg/AAAAAAAA6D9qvHSTGATuP2q8dJMYBOo/arx0kxgE6j8=\",\"dtype\":\"float64\",\"order\":\"little\",\"shape\":[88]},\"W\":[11,12,12,12,13,13,12,11,13,12,11,11,11,11,14,13,12,11,12,12,14,12,13,13,13,11,11,11,12,12,12,13,13,13,13,13,13,11,11,11,14,11,12,12,13,11,11,10,12,12,12,11,11,15,13,12,11,10,11,12,12,12,11,12,11,12,11,11,13,11,12,11,13,12,12,12,11,13,11,13,11,11,13,12,12,15,13,13],\"team_ratings_4\":[0,0,0,0,0,0,0,0,0,0,0,0,0,0,0,0,0,0,0,0,0,0,0,0,0,0,0,0,0,0,0,0,0,0,0,0,0,0,0,0,0,0,0,0,0,0,0,0,0,0,0,0,0,0,0,0,0,0,0,0,0,0,0,0,0,0,0,0,0,0,0,0,0,0,0,0,0,0,0,0,0,0,0,0,0,0,0,0]},\"selected\":{\"id\":\"3216\"},\"selection_policy\":{\"id\":\"3230\"}},\"id\":\"3215\",\"type\":\"ColumnDataSource\"}],\"root_ids\":[\"3171\"]},\"title\":\"Bokeh Application\",\"version\":\"2.4.2\"}};\n",
       "    var render_items = [{\"docid\":\"2a0bd0f1-9dcb-431f-a0c1-d6dc2d7f5877\",\"root_ids\":[\"3171\"],\"roots\":{\"3171\":\"5dd016fd-f11d-4b8c-9623-be222e827300\"}}];\n",
       "    root.Bokeh.embed.embed_items_notebook(docs_json, render_items);\n",
       "  }\n",
       "  if (root.Bokeh !== undefined && root.Bokeh.Panel !== undefined) {\n",
       "    embed_document(root);\n",
       "  } else {\n",
       "    var attempts = 0;\n",
       "    var timer = setInterval(function(root) {\n",
       "      if (root.Bokeh !== undefined && root.Bokeh.Panel !== undefined) {\n",
       "        clearInterval(timer);\n",
       "        embed_document(root);\n",
       "      } else if (document.readyState == \"complete\") {\n",
       "        attempts++;\n",
       "        if (attempts > 200) {\n",
       "          clearInterval(timer);\n",
       "          console.log(\"Bokeh: ERROR: Unable to run BokehJS code because BokehJS library is missing\");\n",
       "        }\n",
       "      }\n",
       "    }, 25, root)\n",
       "  }\n",
       "})(window);</script>"
      ],
      "text/plain": [
       ":NdOverlay   [team_ratings_4]\n",
       "   :Scatter   [W]   (PCT)"
      ]
     },
     "execution_count": 57,
     "metadata": {
      "application/vnd.holoviews_exec.v0+json": {
       "id": "3171"
      }
     },
     "output_type": "execute_result"
    }
   ],
   "source": [
    "# Plot the clusters\n",
    "Team_ratings_predictions_df.hvplot.scatter(\n",
    "    x=\"W\",\n",
    "    y=\"PCT\",\n",
    "    by=\"team_ratings_4\"\n",
    ")"
   ]
  },
  {
   "cell_type": "code",
   "execution_count": 58,
   "id": "5b3f5487-6554-461f-b650-1227dc284191",
   "metadata": {},
   "outputs": [],
   "source": [
    "# season_2021_2011[\"Teams_code\"]= season_2021_2011[\"Teams\"].astype(\"category\").cat.codes"
   ]
  },
  {
   "cell_type": "code",
   "execution_count": 59,
   "id": "374b39dc-bb6e-4d25-b73e-ada8a95df8c9",
   "metadata": {},
   "outputs": [],
   "source": [
    "# season_2021_2011[\"Teams_code\"]"
   ]
  },
  {
   "cell_type": "code",
   "execution_count": 71,
   "id": "e35f3436",
   "metadata": {},
   "outputs": [
    {
     "data": {
      "text/html": [
       "<div>\n",
       "<style scoped>\n",
       "    .dataframe tbody tr th:only-of-type {\n",
       "        vertical-align: middle;\n",
       "    }\n",
       "\n",
       "    .dataframe tbody tr th {\n",
       "        vertical-align: top;\n",
       "    }\n",
       "\n",
       "    .dataframe thead th {\n",
       "        text-align: right;\n",
       "    }\n",
       "</style>\n",
       "<table border=\"1\" class=\"dataframe\">\n",
       "  <thead>\n",
       "    <tr style=\"text-align: right;\">\n",
       "      <th></th>\n",
       "      <th>Date</th>\n",
       "      <th>Teams</th>\n",
       "      <th>W</th>\n",
       "      <th>L</th>\n",
       "      <th>T</th>\n",
       "      <th>PCT</th>\n",
       "      <th>PF</th>\n",
       "      <th>PA</th>\n",
       "      <th>Net Pts</th>\n",
       "      <th>Home</th>\n",
       "      <th>Road</th>\n",
       "      <th>Div</th>\n",
       "      <th>Pct</th>\n",
       "      <th>Conf</th>\n",
       "      <th>Pct.1</th>\n",
       "      <th>Non-Conf</th>\n",
       "      <th>Strk</th>\n",
       "      <th>Last 5</th>\n",
       "      <th>win</th>\n",
       "    </tr>\n",
       "    <tr>\n",
       "      <th>Years</th>\n",
       "      <th></th>\n",
       "      <th></th>\n",
       "      <th></th>\n",
       "      <th></th>\n",
       "      <th></th>\n",
       "      <th></th>\n",
       "      <th></th>\n",
       "      <th></th>\n",
       "      <th></th>\n",
       "      <th></th>\n",
       "      <th></th>\n",
       "      <th></th>\n",
       "      <th></th>\n",
       "      <th></th>\n",
       "      <th></th>\n",
       "      <th></th>\n",
       "      <th></th>\n",
       "      <th></th>\n",
       "      <th></th>\n",
       "    </tr>\n",
       "  </thead>\n",
       "  <tbody>\n",
       "    <tr>\n",
       "      <th>2021-01-01</th>\n",
       "      <td>2021</td>\n",
       "      <td>Bills</td>\n",
       "      <td>11</td>\n",
       "      <td>6</td>\n",
       "      <td>0</td>\n",
       "      <td>0.647</td>\n",
       "      <td>483</td>\n",
       "      <td>289</td>\n",
       "      <td>194</td>\n",
       "      <td>6 - 3 - 0</td>\n",
       "      <td>5 - 3 - 0</td>\n",
       "      <td>5 - 1 - 0</td>\n",
       "      <td>0.833</td>\n",
       "      <td>7 - 5 - 0</td>\n",
       "      <td>0.583</td>\n",
       "      <td>4 - 1 - 0</td>\n",
       "      <td>4W</td>\n",
       "      <td>4 - 1 - 0</td>\n",
       "      <td>1</td>\n",
       "    </tr>\n",
       "    <tr>\n",
       "      <th>2021-01-01</th>\n",
       "      <td>2021</td>\n",
       "      <td>Dolphins</td>\n",
       "      <td>9</td>\n",
       "      <td>8</td>\n",
       "      <td>0</td>\n",
       "      <td>0.529</td>\n",
       "      <td>341</td>\n",
       "      <td>373</td>\n",
       "      <td>-32</td>\n",
       "      <td>6 - 3 - 0</td>\n",
       "      <td>3 - 5 - 0</td>\n",
       "      <td>4 - 2 - 0</td>\n",
       "      <td>0.667</td>\n",
       "      <td>6 - 6 - 0</td>\n",
       "      <td>0.500</td>\n",
       "      <td>3 - 2 - 0</td>\n",
       "      <td>1W</td>\n",
       "      <td>4 - 1 - 0</td>\n",
       "      <td>1</td>\n",
       "    </tr>\n",
       "    <tr>\n",
       "      <th>2021-01-01</th>\n",
       "      <td>2021</td>\n",
       "      <td>Patriots</td>\n",
       "      <td>10</td>\n",
       "      <td>7</td>\n",
       "      <td>0</td>\n",
       "      <td>0.588</td>\n",
       "      <td>462</td>\n",
       "      <td>303</td>\n",
       "      <td>159</td>\n",
       "      <td>4 - 5 - 0</td>\n",
       "      <td>6 - 2 - 0</td>\n",
       "      <td>3 - 3 - 0</td>\n",
       "      <td>0.500</td>\n",
       "      <td>8 - 4 - 0</td>\n",
       "      <td>0.667</td>\n",
       "      <td>2 - 3 - 0</td>\n",
       "      <td>1L</td>\n",
       "      <td>2 - 3 - 0</td>\n",
       "      <td>1</td>\n",
       "    </tr>\n",
       "    <tr>\n",
       "      <th>2021-01-01</th>\n",
       "      <td>2021</td>\n",
       "      <td>Jets</td>\n",
       "      <td>4</td>\n",
       "      <td>13</td>\n",
       "      <td>0</td>\n",
       "      <td>0.235</td>\n",
       "      <td>310</td>\n",
       "      <td>504</td>\n",
       "      <td>-194</td>\n",
       "      <td>3 - 6 - 0</td>\n",
       "      <td>1 - 7 - 0</td>\n",
       "      <td>0 - 6 - 0</td>\n",
       "      <td>0.000</td>\n",
       "      <td>4 - 8 - 0</td>\n",
       "      <td>0.333</td>\n",
       "      <td>0 - 5 - 0</td>\n",
       "      <td>2L</td>\n",
       "      <td>1 - 4 - 0</td>\n",
       "      <td>0</td>\n",
       "    </tr>\n",
       "    <tr>\n",
       "      <th>2021-01-01</th>\n",
       "      <td>2021</td>\n",
       "      <td>Bengals</td>\n",
       "      <td>10</td>\n",
       "      <td>7</td>\n",
       "      <td>0</td>\n",
       "      <td>0.588</td>\n",
       "      <td>460</td>\n",
       "      <td>376</td>\n",
       "      <td>84</td>\n",
       "      <td>5 - 4 - 0</td>\n",
       "      <td>5 - 3 - 0</td>\n",
       "      <td>4 - 2 - 0</td>\n",
       "      <td>0.667</td>\n",
       "      <td>8 - 4 - 0</td>\n",
       "      <td>0.667</td>\n",
       "      <td>2 - 3 - 0</td>\n",
       "      <td>1L</td>\n",
       "      <td>3 - 2 - 0</td>\n",
       "      <td>1</td>\n",
       "    </tr>\n",
       "  </tbody>\n",
       "</table>\n",
       "</div>"
      ],
      "text/plain": [
       "            Date     Teams   W   L  T    PCT   PF   PA  Net Pts       Home  \\\n",
       "Years                                                                        \n",
       "2021-01-01  2021     Bills  11   6  0  0.647  483  289      194  6 - 3 - 0   \n",
       "2021-01-01  2021  Dolphins   9   8  0  0.529  341  373      -32  6 - 3 - 0   \n",
       "2021-01-01  2021  Patriots  10   7  0  0.588  462  303      159  4 - 5 - 0   \n",
       "2021-01-01  2021      Jets   4  13  0  0.235  310  504     -194  3 - 6 - 0   \n",
       "2021-01-01  2021   Bengals  10   7  0  0.588  460  376       84  5 - 4 - 0   \n",
       "\n",
       "                 Road        Div    Pct       Conf  Pct.1   Non-Conf Strk  \\\n",
       "Years                                                                       \n",
       "2021-01-01  5 - 3 - 0  5 - 1 - 0  0.833  7 - 5 - 0  0.583  4 - 1 - 0   4W   \n",
       "2021-01-01  3 - 5 - 0  4 - 2 - 0  0.667  6 - 6 - 0  0.500  3 - 2 - 0   1W   \n",
       "2021-01-01  6 - 2 - 0  3 - 3 - 0  0.500  8 - 4 - 0  0.667  2 - 3 - 0   1L   \n",
       "2021-01-01  1 - 7 - 0  0 - 6 - 0  0.000  4 - 8 - 0  0.333  0 - 5 - 0   2L   \n",
       "2021-01-01  5 - 3 - 0  4 - 2 - 0  0.667  8 - 4 - 0  0.667  2 - 3 - 0   1L   \n",
       "\n",
       "               Last 5  win  \n",
       "Years                       \n",
       "2021-01-01  4 - 1 - 0    1  \n",
       "2021-01-01  4 - 1 - 0    1  \n",
       "2021-01-01  2 - 3 - 0    1  \n",
       "2021-01-01  1 - 4 - 0    0  \n",
       "2021-01-01  3 - 2 - 0    1  "
      ]
     },
     "execution_count": 71,
     "metadata": {},
     "output_type": "execute_result"
    }
   ],
   "source": [
    "season_2021_2011.head()"
   ]
  },
  {
   "cell_type": "code",
   "execution_count": 107,
   "id": "231dcb4d",
   "metadata": {},
   "outputs": [],
   "source": [
    "x = season_2021_2011.loc[:,season_2021_2011.columns != 'W']\n",
    "X = pd.get_dummies(x)\n",
    "y = season_2021_2011['W'].astype(\"int\")"
   ]
  },
  {
   "cell_type": "code",
   "execution_count": 111,
   "id": "5b3ebab6",
   "metadata": {},
   "outputs": [],
   "source": [
    "# Split into testing and training sets using train_test_split\n",
    "X_train, X_test, y_train, y_test = train_test_split(X, y, random_state=1)"
   ]
  },
  {
   "cell_type": "code",
   "execution_count": 112,
   "id": "a6ecab5c",
   "metadata": {},
   "outputs": [],
   "source": [
    "# Create a list of the columns with categorical variables\n",
    "Teams_code = season_2021_2011[\"Teams\"]\n",
    "\n",
    "# Use the fit_transform method from the OneHotEncoder to encode the data\n",
    "encoded_data = enc.fit_transform([Teams_code])"
   ]
  },
  {
   "cell_type": "code",
   "execution_count": 113,
   "id": "d84ce7f5",
   "metadata": {},
   "outputs": [
    {
     "data": {
      "text/html": [
       "<div>\n",
       "<style scoped>\n",
       "    .dataframe tbody tr th:only-of-type {\n",
       "        vertical-align: middle;\n",
       "    }\n",
       "\n",
       "    .dataframe tbody tr th {\n",
       "        vertical-align: top;\n",
       "    }\n",
       "\n",
       "    .dataframe thead th {\n",
       "        text-align: right;\n",
       "    }\n",
       "</style>\n",
       "<table border=\"1\" class=\"dataframe\">\n",
       "  <thead>\n",
       "    <tr style=\"text-align: right;\">\n",
       "      <th></th>\n",
       "      <th>Date</th>\n",
       "      <th>Teams</th>\n",
       "      <th>W</th>\n",
       "      <th>L</th>\n",
       "      <th>T</th>\n",
       "    </tr>\n",
       "    <tr>\n",
       "      <th>Years</th>\n",
       "      <th></th>\n",
       "      <th></th>\n",
       "      <th></th>\n",
       "      <th></th>\n",
       "      <th></th>\n",
       "    </tr>\n",
       "  </thead>\n",
       "  <tbody>\n",
       "    <tr>\n",
       "      <th>2021-01-01</th>\n",
       "      <td>2021</td>\n",
       "      <td>Bills</td>\n",
       "      <td>11</td>\n",
       "      <td>6</td>\n",
       "      <td>0</td>\n",
       "    </tr>\n",
       "    <tr>\n",
       "      <th>2021-01-01</th>\n",
       "      <td>2021</td>\n",
       "      <td>Dolphins</td>\n",
       "      <td>9</td>\n",
       "      <td>8</td>\n",
       "      <td>0</td>\n",
       "    </tr>\n",
       "    <tr>\n",
       "      <th>2021-01-01</th>\n",
       "      <td>2021</td>\n",
       "      <td>Patriots</td>\n",
       "      <td>10</td>\n",
       "      <td>7</td>\n",
       "      <td>0</td>\n",
       "    </tr>\n",
       "    <tr>\n",
       "      <th>2021-01-01</th>\n",
       "      <td>2021</td>\n",
       "      <td>Jets</td>\n",
       "      <td>4</td>\n",
       "      <td>13</td>\n",
       "      <td>0</td>\n",
       "    </tr>\n",
       "    <tr>\n",
       "      <th>2021-01-01</th>\n",
       "      <td>2021</td>\n",
       "      <td>Bengals</td>\n",
       "      <td>10</td>\n",
       "      <td>7</td>\n",
       "      <td>0</td>\n",
       "    </tr>\n",
       "  </tbody>\n",
       "</table>\n",
       "</div>"
      ],
      "text/plain": [
       "            Date     Teams   W   L  T\n",
       "Years                                \n",
       "2021-01-01  2021     Bills  11   6  0\n",
       "2021-01-01  2021  Dolphins   9   8  0\n",
       "2021-01-01  2021  Patriots  10   7  0\n",
       "2021-01-01  2021      Jets   4  13  0\n",
       "2021-01-01  2021   Bengals  10   7  0"
      ]
     },
     "execution_count": 113,
     "metadata": {},
     "output_type": "execute_result"
    }
   ],
   "source": [
    "test = season_2021_2011.copy()\n",
    "test_for_dummies = test[['Date','Teams','W','L','T']]\n",
    "test_for_dummies.head()"
   ]
  },
  {
   "cell_type": "code",
   "execution_count": 114,
   "id": "3c7ccbde",
   "metadata": {},
   "outputs": [],
   "source": [
    "# Create a StandardScaler instance\n",
    "scaler = StandardScaler().fit(X_train)\n",
    "\n",
    "# Fit the scaler to the features training dataset\n",
    "X_scaler = scaler.fit(X_train)\n",
    "\n",
    "# Fit the scaler to the features training dataset\n",
    "X_train_scaled = X_scaler.transform(X_train)\n",
    "X_test_scaled = X_scaler.transform(X_test)"
   ]
  },
  {
   "cell_type": "code",
   "execution_count": 115,
   "id": "ffc33e4b",
   "metadata": {},
   "outputs": [
    {
     "data": {
      "text/plain": [
       "array([[-0.95184151,  0.35273606, -0.25400025, ...,  1.74972525,\n",
       "        -0.50709255, -0.25400025],\n",
       "       [ 0.61869698, -0.29846898,  3.93700394, ..., -0.5715183 ,\n",
       "        -0.50709255, -0.25400025],\n",
       "       [-0.32362611,  1.32954362, -0.25400025, ..., -0.5715183 ,\n",
       "        -0.50709255, -0.25400025],\n",
       "       ...,\n",
       "       [ 0.93280468, -0.62407149, -0.25400025, ...,  1.74972525,\n",
       "        -0.50709255, -0.25400025],\n",
       "       [-0.63773381,  1.98074866, -0.25400025, ..., -0.5715183 ,\n",
       "        -0.50709255, -0.25400025],\n",
       "       [ 1.24691238, -0.94967401, -0.25400025, ..., -0.5715183 ,\n",
       "        -0.50709255,  3.93700394]])"
      ]
     },
     "execution_count": 115,
     "metadata": {},
     "output_type": "execute_result"
    }
   ],
   "source": [
    "X_train_scaled"
   ]
  },
  {
   "cell_type": "code",
   "execution_count": 116,
   "id": "2a9c0571",
   "metadata": {},
   "outputs": [],
   "source": [
    "# pd.get_dummies(test_for_dummies)"
   ]
  },
  {
   "cell_type": "code",
   "execution_count": 79,
   "id": "f020b780-3c5e-49a4-93ec-de4a5838a8a6",
   "metadata": {},
   "outputs": [],
   "source": [
    "# # Preview the output variable \n",
    "# y = season_2021_2011[\"win\"]\n",
    "# y"
   ]
  },
  {
   "cell_type": "code",
   "execution_count": 80,
   "id": "03c74251",
   "metadata": {},
   "outputs": [],
   "source": [
    "# # Imports\n",
    "# from sklearn.preprocessing import OneHotEncoder"
   ]
  },
  {
   "cell_type": "code",
   "execution_count": 81,
   "id": "ae98018a",
   "metadata": {},
   "outputs": [],
   "source": [
    "# # Create a OneHotEncoder instance\n",
    "# enc = OneHotEncoder(sparse=False)"
   ]
  },
  {
   "cell_type": "code",
   "execution_count": 139,
   "id": "0798e37a-5fdd-4577-a7c9-c45fda74e386",
   "metadata": {
    "scrolled": true
   },
   "outputs": [],
   "source": [
    "# # Encode earnings labels to integers\n",
    "# from sklearn.preprocessing import LabelEncoder\n",
    "# encoder = LabelEncoder()\n",
    "# encoder.fit(y)\n",
    "# encoded_y = encoder.transform(y)\n",
    "# encoded_y"
   ]
  },
  {
   "cell_type": "code",
   "execution_count": null,
   "id": "062c7d72",
   "metadata": {},
   "outputs": [],
   "source": []
  },
  {
   "cell_type": "code",
   "execution_count": 138,
   "id": "b486d7e7",
   "metadata": {},
   "outputs": [],
   "source": [
    "# encoded_df_y = pd.DataFrame(\n",
    "#     encoded_y,\n",
    "#     columns = encoder.get_feature_names(season_2021_2011[\"W\"])\n",
    "# )\n",
    "# encoded_df_y"
   ]
  },
  {
   "cell_type": "code",
   "execution_count": null,
   "id": "3ba3d883",
   "metadata": {},
   "outputs": [],
   "source": []
  },
  {
   "cell_type": "code",
   "execution_count": 84,
   "id": "7103bfcf-cfa3-4f2a-a735-c24973284b5c",
   "metadata": {},
   "outputs": [],
   "source": [
    "# # Create a list of the columns with categorical variables\n",
    "# Teams_code = season_2021_2011[\"Teams\"]\n",
    "\n",
    "# Teams_code\n"
   ]
  },
  {
   "cell_type": "code",
   "execution_count": 86,
   "id": "8646d561",
   "metadata": {},
   "outputs": [],
   "source": [
    "# # Create a DataFrame with the encoded variables\n",
    "# encoded_df = pd.DataFrame(\n",
    "#     encoded_data,\n",
    "#     columns = enc.get_feature_names([\"Teams\"])\n",
    "# )\n",
    "# encoded_df"
   ]
  },
  {
   "cell_type": "code",
   "execution_count": 87,
   "id": "7bf3604e-1e94-423d-bb9a-e930880228d0",
   "metadata": {},
   "outputs": [],
   "source": [
    "# # Split the data into X (features) and y (target)\n",
    "# # The y variable should focus on the target column\n",
    "# # y = season_2021_2011[\"win\"]\n",
    "# # The X variable should include all features except the target\n",
    "# X = encoded_df\n",
    "# X"
   ]
  },
  {
   "cell_type": "code",
   "execution_count": 88,
   "id": "0a4e9ec3",
   "metadata": {},
   "outputs": [],
   "source": [
    "# y[:5]"
   ]
  },
  {
   "cell_type": "code",
   "execution_count": 89,
   "id": "27703562-e224-46e4-a979-769a1da3e0cb",
   "metadata": {},
   "outputs": [],
   "source": [
    "# # Split into testing and training sets using train_test_split\n",
    "# X_train, X_test, y_train, y_test = train_test_split(X, y, random_state=1)"
   ]
  },
  {
   "cell_type": "code",
   "execution_count": 121,
   "id": "56c053ce-fcae-46b3-8303-cae4c0e11e38",
   "metadata": {},
   "outputs": [],
   "source": [
    "from sklearn.linear_model import LogisticRegression"
   ]
  },
  {
   "cell_type": "code",
   "execution_count": 122,
   "id": "d648025b-b40c-45bc-bacc-8d2bf2a51c9e",
   "metadata": {},
   "outputs": [
    {
     "name": "stderr",
     "output_type": "stream",
     "text": [
      "C:\\Users\\Dronp\\anaconda3\\lib\\site-packages\\sklearn\\linear_model\\_logistic.py:444: ConvergenceWarning: lbfgs failed to converge (status=1):\n",
      "STOP: TOTAL NO. of ITERATIONS REACHED LIMIT.\n",
      "\n",
      "Increase the number of iterations (max_iter) or scale the data as shown in:\n",
      "    https://scikit-learn.org/stable/modules/preprocessing.html\n",
      "Please also refer to the documentation for alternative solver options:\n",
      "    https://scikit-learn.org/stable/modules/linear_model.html#logistic-regression\n",
      "  n_iter_i = _check_optimize_result(\n"
     ]
    }
   ],
   "source": [
    "# Declare a logistic regression model.\n",
    "# Apply a random_state of 9 to the model\n",
    "logistic_regression_model = LogisticRegression(random_state=9)\n",
    "\n",
    "# Fit and save the logistic regression model using the training data\n",
    "lr_model = logistic_regression_model.fit(X_train, y_train)"
   ]
  },
  {
   "cell_type": "code",
   "execution_count": 123,
   "id": "4c7e12c0",
   "metadata": {},
   "outputs": [],
   "source": [
    "# # Create a StandardScaler instance\n",
    "# scaler = StandardScaler().fit(X_train)\n",
    "\n",
    "# # Fit the scaler to the features training dataset\n",
    "# X_scaler = scaler.fit(X_train)\n",
    "\n",
    "# # Fit the scaler to the features training dataset\n",
    "# X_train_scaled = X_scaler.transform(X_train)\n",
    "# X_test_scaled = X_scaler.transform(X_test)"
   ]
  },
  {
   "cell_type": "code",
   "execution_count": 125,
   "id": "9836e420",
   "metadata": {},
   "outputs": [
    {
     "data": {
      "text/plain": [
       "161"
      ]
     },
     "execution_count": 125,
     "metadata": {},
     "output_type": "execute_result"
    }
   ],
   "source": [
    "# Define the the number of inputs (features) to the model\n",
    "number_input_features = len(X_train.iloc[1])\n",
    "\n",
    "# Review the number of features\n",
    "number_input_features"
   ]
  },
  {
   "cell_type": "code",
   "execution_count": 126,
   "id": "71064fbf",
   "metadata": {},
   "outputs": [],
   "source": [
    "# Define the number of neurons in the output layer\n",
    "number_output_neurons = 1"
   ]
  },
  {
   "cell_type": "code",
   "execution_count": 127,
   "id": "465ca758",
   "metadata": {},
   "outputs": [
    {
     "data": {
      "text/plain": [
       "417"
      ]
     },
     "execution_count": 127,
     "metadata": {},
     "output_type": "execute_result"
    }
   ],
   "source": [
    "# Define the number of hidden nodes for the first hidden layer\n",
    "hidden_nodes_layer1 =  (number_input_features + 674) // 2 \n",
    "\n",
    "# Review the number hidden nodes in the first layer\n",
    "hidden_nodes_layer1"
   ]
  },
  {
   "cell_type": "code",
   "execution_count": 128,
   "id": "e47015a2",
   "metadata": {},
   "outputs": [
    {
     "data": {
      "text/plain": [
       "224"
      ]
     },
     "execution_count": 128,
     "metadata": {},
     "output_type": "execute_result"
    }
   ],
   "source": [
    "# Define the number of hidden nodes for the second hidden layer\n",
    "hidden_nodes_layer2 =  (hidden_nodes_layer1 + 32) // 2\n",
    "\n",
    "# Review the number hidden nodes in the second layer\n",
    "hidden_nodes_layer2"
   ]
  },
  {
   "cell_type": "code",
   "execution_count": 129,
   "id": "304f11a7",
   "metadata": {},
   "outputs": [],
   "source": [
    "# Create the Sequential model instance\n",
    "nn = Sequential()\n"
   ]
  },
  {
   "cell_type": "code",
   "execution_count": 130,
   "id": "e7883ee6",
   "metadata": {},
   "outputs": [],
   "source": [
    "# Add the first hidden layer\n",
    "nn.add(Dense(units=hidden_nodes_layer1, input_dim=number_input_features, activation=\"relu\"))"
   ]
  },
  {
   "cell_type": "code",
   "execution_count": 131,
   "id": "a852c464",
   "metadata": {},
   "outputs": [],
   "source": [
    "# Add the second hidden layer\n",
    "nn.add(Dense(units=hidden_nodes_layer2, activation=\"relu\"))"
   ]
  },
  {
   "cell_type": "code",
   "execution_count": 132,
   "id": "f101a8cb",
   "metadata": {},
   "outputs": [],
   "source": [
    "# Add the output layer to the model specifying the number of output neurons and activation function\n",
    "nn.add(Dense(units=1, activation=\"sigmoid\"))"
   ]
  },
  {
   "cell_type": "code",
   "execution_count": 133,
   "id": "1a924512",
   "metadata": {},
   "outputs": [
    {
     "name": "stdout",
     "output_type": "stream",
     "text": [
      "Model: \"sequential\"\n",
      "_________________________________________________________________\n",
      " Layer (type)                Output Shape              Param #   \n",
      "=================================================================\n",
      " dense (Dense)               (None, 417)               67554     \n",
      "                                                                 \n",
      " dense_1 (Dense)             (None, 224)               93632     \n",
      "                                                                 \n",
      " dense_2 (Dense)             (None, 1)                 225       \n",
      "                                                                 \n",
      "=================================================================\n",
      "Total params: 161,411\n",
      "Trainable params: 161,411\n",
      "Non-trainable params: 0\n",
      "_________________________________________________________________\n"
     ]
    }
   ],
   "source": [
    "# Display the Sequential model summary\n",
    "nn.summary()"
   ]
  },
  {
   "cell_type": "code",
   "execution_count": 134,
   "id": "ff666034",
   "metadata": {},
   "outputs": [],
   "source": [
    "# Compile the Sequential model\n",
    "nn.compile(loss=\"binary_crossentropy\",optimizer=\"adam\",metrics=[\"accuracy\"])"
   ]
  },
  {
   "cell_type": "code",
   "execution_count": 135,
   "id": "e798e814",
   "metadata": {},
   "outputs": [
    {
     "name": "stdout",
     "output_type": "stream",
     "text": [
      "Epoch 1/50\n",
      "2/2 [==============================] - 1s 419ms/step - loss: -4.6830 - accuracy: 0.0000e+00 - val_loss: -21.1304 - val_accuracy: 0.0189\n",
      "Epoch 2/50\n",
      "2/2 [==============================] - 0s 56ms/step - loss: -24.3867 - accuracy: 0.0000e+00 - val_loss: -42.1252 - val_accuracy: 0.0189\n",
      "Epoch 3/50\n",
      "2/2 [==============================] - 0s 63ms/step - loss: -44.3281 - accuracy: 0.0000e+00 - val_loss: -64.9276 - val_accuracy: 0.0189\n",
      "Epoch 4/50\n",
      "2/2 [==============================] - 0s 44ms/step - loss: -66.3920 - accuracy: 0.0000e+00 - val_loss: -90.3466 - val_accuracy: 0.0189\n",
      "Epoch 5/50\n",
      "2/2 [==============================] - 0s 53ms/step - loss: -91.7504 - accuracy: 0.0000e+00 - val_loss: -119.0142 - val_accuracy: 0.0189\n",
      "Epoch 6/50\n",
      "2/2 [==============================] - 0s 78ms/step - loss: -121.0379 - accuracy: 0.0000e+00 - val_loss: -151.4221 - val_accuracy: 0.0189\n",
      "Epoch 7/50\n",
      "2/2 [==============================] - 0s 61ms/step - loss: -154.7287 - accuracy: 0.0000e+00 - val_loss: -187.9964 - val_accuracy: 0.0189\n",
      "Epoch 8/50\n",
      "2/2 [==============================] - 0s 50ms/step - loss: -194.1711 - accuracy: 0.0000e+00 - val_loss: -229.2744 - val_accuracy: 0.0189\n",
      "Epoch 9/50\n",
      "2/2 [==============================] - 0s 87ms/step - loss: -239.1441 - accuracy: 0.0000e+00 - val_loss: -275.7625 - val_accuracy: 0.0189\n",
      "Epoch 10/50\n",
      "2/2 [==============================] - 0s 53ms/step - loss: -291.0443 - accuracy: 0.0000e+00 - val_loss: -328.3418 - val_accuracy: 0.0189\n",
      "Epoch 11/50\n",
      "2/2 [==============================] - 0s 73ms/step - loss: -349.9183 - accuracy: 0.0000e+00 - val_loss: -387.6782 - val_accuracy: 0.0189\n",
      "Epoch 12/50\n",
      "2/2 [==============================] - 0s 65ms/step - loss: -415.9624 - accuracy: 0.0000e+00 - val_loss: -454.8264 - val_accuracy: 0.0189\n",
      "Epoch 13/50\n",
      "2/2 [==============================] - 0s 86ms/step - loss: -493.1499 - accuracy: 0.0000e+00 - val_loss: -530.8148 - val_accuracy: 0.0189\n",
      "Epoch 14/50\n",
      "2/2 [==============================] - 0s 59ms/step - loss: -580.5410 - accuracy: 0.0000e+00 - val_loss: -616.3574 - val_accuracy: 0.0189\n",
      "Epoch 15/50\n",
      "2/2 [==============================] - 0s 80ms/step - loss: -682.9155 - accuracy: 0.0000e+00 - val_loss: -712.6544 - val_accuracy: 0.0189\n",
      "Epoch 16/50\n",
      "2/2 [==============================] - 0s 72ms/step - loss: -794.9664 - accuracy: 0.0000e+00 - val_loss: -821.4390 - val_accuracy: 0.0189\n",
      "Epoch 17/50\n",
      "2/2 [==============================] - 0s 64ms/step - loss: -922.1767 - accuracy: 0.0000e+00 - val_loss: -943.7822 - val_accuracy: 0.0189\n",
      "Epoch 18/50\n",
      "2/2 [==============================] - 0s 102ms/step - loss: -1065.3854 - accuracy: 0.0000e+00 - val_loss: -1080.6033 - val_accuracy: 0.0189\n",
      "Epoch 19/50\n",
      "2/2 [==============================] - 0s 51ms/step - loss: -1228.8005 - accuracy: 0.0000e+00 - val_loss: -1233.6155 - val_accuracy: 0.0189\n",
      "Epoch 20/50\n",
      "2/2 [==============================] - 0s 74ms/step - loss: -1404.1178 - accuracy: 0.0000e+00 - val_loss: -1404.6882 - val_accuracy: 0.0189\n",
      "Epoch 21/50\n",
      "2/2 [==============================] - 0s 81ms/step - loss: -1605.2592 - accuracy: 0.0000e+00 - val_loss: -1595.2166 - val_accuracy: 0.0189\n",
      "Epoch 22/50\n",
      "2/2 [==============================] - 0s 61ms/step - loss: -1830.3750 - accuracy: 0.0000e+00 - val_loss: -1806.3644 - val_accuracy: 0.0189\n",
      "Epoch 23/50\n",
      "2/2 [==============================] - 0s 74ms/step - loss: -2079.5120 - accuracy: 0.0000e+00 - val_loss: -2040.4991 - val_accuracy: 0.0189\n",
      "Epoch 24/50\n",
      "2/2 [==============================] - 0s 63ms/step - loss: -2355.7065 - accuracy: 0.0000e+00 - val_loss: -2298.8442 - val_accuracy: 0.0189\n",
      "Epoch 25/50\n",
      "2/2 [==============================] - 0s 68ms/step - loss: -2652.4172 - accuracy: 0.0000e+00 - val_loss: -2584.3210 - val_accuracy: 0.0189\n",
      "Epoch 26/50\n",
      "2/2 [==============================] - 0s 41ms/step - loss: -2987.0391 - accuracy: 0.0000e+00 - val_loss: -2897.5156 - val_accuracy: 0.0189\n",
      "Epoch 27/50\n",
      "2/2 [==============================] - 0s 68ms/step - loss: -3373.5137 - accuracy: 0.0000e+00 - val_loss: -3238.0203 - val_accuracy: 0.0189\n",
      "Epoch 28/50\n",
      "2/2 [==============================] - 0s 57ms/step - loss: -3759.4802 - accuracy: 0.0000e+00 - val_loss: -3612.9617 - val_accuracy: 0.0189\n",
      "Epoch 29/50\n",
      "2/2 [==============================] - 0s 51ms/step - loss: -4187.9839 - accuracy: 0.0000e+00 - val_loss: -4022.0957 - val_accuracy: 0.0189\n",
      "Epoch 30/50\n",
      "2/2 [==============================] - 0s 60ms/step - loss: -4667.5176 - accuracy: 0.0000e+00 - val_loss: -4466.5781 - val_accuracy: 0.0189\n",
      "Epoch 31/50\n",
      "2/2 [==============================] - 0s 77ms/step - loss: -5176.5630 - accuracy: 0.0000e+00 - val_loss: -4949.2993 - val_accuracy: 0.0189\n",
      "Epoch 32/50\n",
      "2/2 [==============================] - 0s 55ms/step - loss: -5763.2427 - accuracy: 0.0000e+00 - val_loss: -5471.0088 - val_accuracy: 0.0189\n",
      "Epoch 33/50\n",
      "2/2 [==============================] - 0s 65ms/step - loss: -6358.7949 - accuracy: 0.0000e+00 - val_loss: -6037.7876 - val_accuracy: 0.0189\n",
      "Epoch 34/50\n",
      "2/2 [==============================] - 0s 85ms/step - loss: -7019.3379 - accuracy: 0.0000e+00 - val_loss: -6649.4570 - val_accuracy: 0.0189\n",
      "Epoch 35/50\n",
      "2/2 [==============================] - 0s 69ms/step - loss: -7710.0981 - accuracy: 0.0000e+00 - val_loss: -7308.3164 - val_accuracy: 0.0189\n",
      "Epoch 36/50\n",
      "2/2 [==============================] - 0s 64ms/step - loss: -8479.9648 - accuracy: 0.0000e+00 - val_loss: -8014.5122 - val_accuracy: 0.0189\n",
      "Epoch 37/50\n",
      "2/2 [==============================] - 0s 55ms/step - loss: -9310.5713 - accuracy: 0.0000e+00 - val_loss: -8770.1299 - val_accuracy: 0.0189\n",
      "Epoch 38/50\n",
      "2/2 [==============================] - 0s 58ms/step - loss: -10167.9072 - accuracy: 0.0000e+00 - val_loss: -9583.7734 - val_accuracy: 0.0189\n",
      "Epoch 39/50\n",
      "2/2 [==============================] - 0s 48ms/step - loss: -11131.1211 - accuracy: 0.0000e+00 - val_loss: -10453.3623 - val_accuracy: 0.0189\n",
      "Epoch 40/50\n",
      "2/2 [==============================] - 0s 83ms/step - loss: -12109.2939 - accuracy: 0.0000e+00 - val_loss: -11383.9883 - val_accuracy: 0.0189\n",
      "Epoch 41/50\n",
      "2/2 [==============================] - 0s 50ms/step - loss: -13184.4990 - accuracy: 0.0000e+00 - val_loss: -12376.7061 - val_accuracy: 0.0189\n",
      "Epoch 42/50\n",
      "2/2 [==============================] - 0s 39ms/step - loss: -14322.0264 - accuracy: 0.0000e+00 - val_loss: -13433.9092 - val_accuracy: 0.0189\n",
      "Epoch 43/50\n",
      "2/2 [==============================] - 0s 49ms/step - loss: -15601.5332 - accuracy: 0.0000e+00 - val_loss: -14551.6309 - val_accuracy: 0.0189\n",
      "Epoch 44/50\n",
      "2/2 [==============================] - 0s 37ms/step - loss: -16806.3867 - accuracy: 0.0000e+00 - val_loss: -15749.1201 - val_accuracy: 0.0189\n",
      "Epoch 45/50\n",
      "2/2 [==============================] - 0s 35ms/step - loss: -18174.2734 - accuracy: 0.0000e+00 - val_loss: -17011.0586 - val_accuracy: 0.0189\n",
      "Epoch 46/50\n",
      "2/2 [==============================] - 0s 41ms/step - loss: -19602.9375 - accuracy: 0.0000e+00 - val_loss: -18340.8770 - val_accuracy: 0.0189\n",
      "Epoch 47/50\n",
      "2/2 [==============================] - 0s 42ms/step - loss: -21195.1855 - accuracy: 0.0000e+00 - val_loss: -19741.0234 - val_accuracy: 0.0189\n",
      "Epoch 48/50\n",
      "2/2 [==============================] - 0s 31ms/step - loss: -22817.2148 - accuracy: 0.0000e+00 - val_loss: -21222.7480 - val_accuracy: 0.0189\n",
      "Epoch 49/50\n",
      "2/2 [==============================] - 0s 40ms/step - loss: -24553.9375 - accuracy: 0.0000e+00 - val_loss: -22794.4238 - val_accuracy: 0.0189\n",
      "Epoch 50/50\n",
      "2/2 [==============================] - 0s 58ms/step - loss: -26324.8574 - accuracy: 0.0000e+00 - val_loss: -24457.1621 - val_accuracy: 0.0189\n"
     ]
    }
   ],
   "source": [
    "# Fit the model using epochs and the training data\n",
    "history=nn.fit(X_train_scaled, y_train, epochs=50, batch_size=128, validation_split=0.2)"
   ]
  },
  {
   "cell_type": "code",
   "execution_count": 136,
   "id": "7cbca688",
   "metadata": {},
   "outputs": [
    {
     "name": "stdout",
     "output_type": "stream",
     "text": [
      "3/3 - 0s - loss: -2.1444e+04 - accuracy: 0.0114 - 19ms/epoch - 6ms/step\n",
      "Loss: -21444.453125, Accuracy: 0.011363636702299118\n"
     ]
    }
   ],
   "source": [
    "# Evaluate the model loss and accuracy metrics using the evaluate method and the test data\n",
    "model_loss, model_accuracy = nn.evaluate(X_test_scaled, y_test, verbose=2)\n",
    "\n",
    "# Display the model loss and accuracy results\n",
    "print(f\"Loss: {model_loss}, Accuracy: {model_accuracy}\")"
   ]
  },
  {
   "cell_type": "code",
   "execution_count": null,
   "id": "a266c9be",
   "metadata": {},
   "outputs": [],
   "source": []
  },
  {
   "cell_type": "code",
   "execution_count": null,
   "id": "553f8bf5",
   "metadata": {},
   "outputs": [],
   "source": []
  }
 ],
 "metadata": {
  "kernelspec": {
   "display_name": "Python 3 (ipykernel)",
   "language": "python",
   "name": "python3"
  },
  "language_info": {
   "codemirror_mode": {
    "name": "ipython",
    "version": 3
   },
   "file_extension": ".py",
   "mimetype": "text/x-python",
   "name": "python",
   "nbconvert_exporter": "python",
   "pygments_lexer": "ipython3",
   "version": "3.9.12"
  }
 },
 "nbformat": 4,
 "nbformat_minor": 5
}
