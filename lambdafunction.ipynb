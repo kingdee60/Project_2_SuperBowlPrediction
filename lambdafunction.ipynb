### Required Libraries ###
from datetime import datetime
from dateutil.relativedelta import relativedelta
# from botocore.vendored import requests
import requests 
import json

## Functionality Helper Functions ###
def parse_float(n):

## Securely converts a non-numeric value to float.
    try:
        return float(n)
    except ValueError:
        return float("nan")

# Retrieves the current scores for each NFL game.
def get_nflscores():

    rapid_api_url = "https://sportspage-feeds.p.rapidapi.com/games"
    headers = {
    	"X-RapidAPI-Key": "5af28a6049msh7a0f5dc3983d02ep1bb5e6jsn385271c4cfc2",
    	"X-RapidAPI-Host": "sportspage-feeds.p.rapidapi.com"
    }
    querystring = {"league":"NFL","date":"2022-09-25"}
    score = {}
    response = requests.get(rapid_api_url, headers = headers, params = querystring)
    response_json = response.json()["results"]
    length = len(response_json)
    # return length
    for i in range(length):
        score[int(str(i))]= {
            "away_score" : response_json[i]["scoreboard"]["score"]["away"],
            "home_score" : response_json[i]["scoreboard"]["score"]["home"],
            "away_team" : response_json[i]["teams"]["away"]["team"],
            "home_team" : response_json[i]["teams"]["home"]["team"],
        }
    return score
    
def get_slots(intent_request):
    return intent_request['sessionState']['intent']['slots']
    
def get_slot(intent_request, slotName):
    slots = get_slots(intent_request)
    if slots is not None and slotName in slots and slots[slotName] is not None:
        return slots[slotName]['value']['interpretedValue']
    else:
        return None    

def get_session_attributes(intent_request):
    sessionState = intent_request['sessionState']
    if 'sessionAttributes' in sessionState:
        return sessionState['sessionAttributes']

    return {}

def elicit_intent(intent_request, session_attributes, message):
    return {
        'sessionState': {
            'dialogAction': {
                'type': 'ElicitIntent'
            },
            'sessionAttributes': session_attributes
        },
        'messages': [ message ] if message != None else None,
        'requestAttributes': intent_request['requestAttributes'] if 'requestAttributes' in intent_request else None
    }


def close(intent_request, session_attributes, fulfillment_state, message):
    intent_request['sessionState']['intent']['state'] = fulfillment_state
    return {
        'sessionState': {
            'sessionAttributes': session_attributes,
            'dialogAction': {
                'type': 'Close'
            },
            'intent': intent_request['sessionState']['intent']
        },
        'messages': [message],
        'sessionId': intent_request['sessionId'],
        'requestAttributes': intent_request['requestAttributes'] if 'requestAttributes' in intent_request else None
    }
### Intents Handlers ###
def convert_dollars(intent_request):

    # Performs dialog management and fulfillment for converting from dollars to bitcoin.

    # Gets slots' values
    session_attributes = get_session_attributes(intent_request)
    slots = get_slots(intent_request)
    away_score = get_slot(intent_request, 'away score')
    home_score = get_slot(intent_request, 'home score')
    home_team = get_slot(intent_request, 'home team')
    away_team = get_slot(intent_request, 'away team')

    
    # Get the current price of bitcoin in dolars and make the conversion from dollars to bitcoin.
# NOTE TO SELF this is where I format the results from the NFL test
    nfl_scores = parse_float(amount) / get_nflscores()
    nfl_scores = round(nfl_scores, 4)
    text = The current {} of the {} is {}.
            .format( home team , home score)
# Line above is going to return the results of the NFL test bot
    message =  {
            'contentType': 'PlainText',
            'content': text
        }
    fulfillment_state = "Fulfilled"    
    return close(intent_request, session_attributes, fulfillment_state, message)  


### Intents Dispatcher ###
def dispatch(intent_request):
    """
    Called when the user specifies an intent for this bot.
    """
    # Get the name of the current intent
    intent_name = intent_request['sessionState']['intent']['name']
    # Dispatch to bot's intent handlers
    if intent_name == "getFGIndex":
        # return convert_dollars(intent_request)
        return {"Hi"}
    raise Exception("Intent with name " + intent_name + " not supported")

### Main Handler ###
def lambda_handler(event, context):
    """
    Route the incoming request based on intent.
    The JSON body of the request is provided in the event slot.
    """
    return dispatch(event)
