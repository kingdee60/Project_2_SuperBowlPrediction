{
 "cells": [
  {
   "cell_type": "markdown",
   "metadata": {},
   "source": [
    "# 2023 Super Bowl LVII-Deep Learning\n",
    "\n",
    "The business team has given you a CSV containing more than 320 data points from the NFL. With your knowledge of machine learning and neural networks, you decide to use the features in the provided dataset to create a binary classifier model that will predict whether an applicant will become a successful business. The CSV file contains a variety of information about these teams, including whether or not they have won the SuperBowl.\n",
    "\n",
    "## Instructions:\n",
    "\n",
    "The steps for this challenge are broken out into the following sections:\n",
    "\n",
    "* Prepare the data for use on a neural network model.\n",
    "\n",
    "* Compile and evaluate a binary classification model using a neural network.\n",
    "\n",
    "* Optimize the neural network model.\n",
    "\n",
    "### Prepare the Data for Use on a Neural Network Model \n",
    "\n",
    "Using your knowledge of Pandas and scikit-learn’s `StandardScaler()`, preprocess the dataset so that you can use it to compile and evaluate the neural network model later.\n",
    "\n",
    "Open the starter code file, and complete the following data preparation steps:\n",
    "\n",
    "1. Read the `applicants_data.csv` file into a Pandas DataFrame. Review the DataFrame, looking for categorical variables that will need to be encoded, as well as columns that could eventually define your features and target variables.   \n",
    "\n",
    "2. Drop the “EIN” (Employer Identification Number) and “NAME” columns from the DataFrame, because they are not relevant to the binary classification model.\n",
    " \n",
    "3. Encode the dataset’s categorical variables using `OneHotEncoder`, and then place the encoded variables into a new DataFrame.\n",
    "\n",
    "4. Add the original DataFrame’s numerical variables to the DataFrame containing the encoded variables.\n",
    "\n",
    "> **Note** To complete this step, you will employ the Pandas `concat()` function that was introduced earlier in this course. \n",
    "\n",
    "5. Using the preprocessed data, create the features (`X`) and target (`y`) datasets. The target dataset should be defined by the preprocessed DataFrame column “IS_SUCCESSFUL”. The remaining columns should define the features dataset. \n",
    "\n",
    "6. Split the features and target sets into training and testing datasets.\n",
    "\n",
    "7. Use scikit-learn's `StandardScaler` to scale the features data.\n",
    "\n",
    "### Compile and Evaluate a Binary Classification Model Using a Neural Network\n",
    "\n",
    "Use your knowledge of TensorFlow to design a binary classification deep neural network model. This model should use the dataset’s features to predict whether an Alphabet Soup&ndash;funded startup will be successful based on the features in the dataset. Consider the number of inputs before determining the number of layers that your model will contain or the number of neurons on each layer. Then, compile and fit your model. Finally, evaluate your binary classification model to calculate the model’s loss and accuracy. \n",
    " \n",
    "To do so, complete the following steps:\n",
    "\n",
    "1. Create a deep neural network by assigning the number of input features, the number of layers, and the number of neurons on each layer using Tensorflow’s Keras.\n",
    "\n",
    "> **Hint** You can start with a two-layer deep neural network model that uses the `relu` activation function for both layers.\n",
    "\n",
    "2. Compile and fit the model using the `binary_crossentropy` loss function, the `adam` optimizer, and the `accuracy` evaluation metric.\n",
    "\n",
    "> **Hint** When fitting the model, start with a small number of epochs, such as 20, 50, or 100.\n",
    "\n",
    "3. Evaluate the model using the test data to determine the model’s loss and accuracy.\n",
    "\n",
    "4. Save and export your model to an HDF5 file, and name the file `AlphabetSoup.h5`. \n",
    "\n",
    "### Optimize the Neural Network Model\n",
    "\n",
    "Using your knowledge of TensorFlow and Keras, optimize your model to improve the model's accuracy. Even if you do not successfully achieve a better accuracy, you'll need to demonstrate at least two attempts to optimize the model. You can include these attempts in your existing notebook. Or, you can make copies of the starter notebook in the same folder, rename them, and code each model optimization in a new notebook. \n",
    "\n",
    "> **Note** You will not lose points if your model does not achieve a high accuracy, as long as you make at least two attempts to optimize the model.\n",
    "\n",
    "To do so, complete the following steps:\n",
    "\n",
    "1. Define at least three new deep neural network models (the original plus 2 optimization attempts). With each, try to improve on your first model’s predictive accuracy.\n",
    "\n",
    "> **Rewind** Recall that perfect accuracy has a value of 1, so accuracy improves as its value moves closer to 1. To optimize your model for a predictive accuracy as close to 1 as possible, you can use any or all of the following techniques:\n",
    ">\n",
    "> * Adjust the input data by dropping different features columns to ensure that no variables or outliers confuse the model.\n",
    ">\n",
    "> * Add more neurons (nodes) to a hidden layer.\n",
    ">\n",
    "> * Add more hidden layers.\n",
    ">\n",
    "> * Use different activation functions for the hidden layers.\n",
    ">\n",
    "> * Add to or reduce the number of epochs in the training regimen.\n",
    "\n",
    "2. After finishing your models, display the accuracy scores achieved by each model, and compare the results.\n",
    "\n",
    "3. Save each of your models as an HDF5 file.\n"
   ]
  },
  {
   "cell_type": "code",
   "execution_count": 1,
   "metadata": {},
   "outputs": [],
   "source": [
    "# Imports\n",
    "import numpy as np\n",
    "import h5py\n",
    "import pandas as pd\n",
    "from pathlib import Path\n",
    "import tensorflow as tf\n",
    "from tensorflow.keras.layers import Dense\n",
    "from tensorflow.keras.models import Sequential\n",
    "from sklearn.model_selection import train_test_split\n",
    "from sklearn.preprocessing import StandardScaler,OneHotEncoder"
   ]
  },
  {
   "cell_type": "markdown",
   "metadata": {},
   "source": [
    "---\n",
    "\n",
    "## Prepare the data to be used on a neural network model"
   ]
  },
  {
   "cell_type": "markdown",
   "metadata": {},
   "source": [
    "### Step 1: Read the `applicants_data.csv` file into a Pandas DataFrame. Review the DataFrame, looking for categorical variables that will need to be encoded, as well as columns that could eventually define your features and target variables.  \n"
   ]
  },
  {
   "cell_type": "code",
   "execution_count": 11,
   "metadata": {},
   "outputs": [
    {
     "data": {
      "text/html": [
       "<div>\n",
       "<style scoped>\n",
       "    .dataframe tbody tr th:only-of-type {\n",
       "        vertical-align: middle;\n",
       "    }\n",
       "\n",
       "    .dataframe tbody tr th {\n",
       "        vertical-align: top;\n",
       "    }\n",
       "\n",
       "    .dataframe thead th {\n",
       "        text-align: right;\n",
       "    }\n",
       "</style>\n",
       "<table border=\"1\" class=\"dataframe\">\n",
       "  <thead>\n",
       "    <tr style=\"text-align: right;\">\n",
       "      <th></th>\n",
       "      <th>Years</th>\n",
       "      <th>Teams</th>\n",
       "      <th>W</th>\n",
       "      <th>L</th>\n",
       "      <th>T</th>\n",
       "      <th>PCT</th>\n",
       "      <th>PF</th>\n",
       "      <th>PA</th>\n",
       "      <th>Net Pts</th>\n",
       "      <th>Home</th>\n",
       "      <th>Road</th>\n",
       "      <th>Div</th>\n",
       "      <th>Pct</th>\n",
       "      <th>Conf</th>\n",
       "      <th>Pct.1</th>\n",
       "      <th>Non-Conf</th>\n",
       "      <th>Strk</th>\n",
       "      <th>Last 5</th>\n",
       "    </tr>\n",
       "  </thead>\n",
       "  <tbody>\n",
       "    <tr>\n",
       "      <th>0</th>\n",
       "      <td>2021</td>\n",
       "      <td>Bills</td>\n",
       "      <td>11</td>\n",
       "      <td>6</td>\n",
       "      <td>0</td>\n",
       "      <td>0.647</td>\n",
       "      <td>483</td>\n",
       "      <td>289</td>\n",
       "      <td>194</td>\n",
       "      <td>6 - 3 - 0</td>\n",
       "      <td>5 - 3 - 0</td>\n",
       "      <td>5 - 1 - 0</td>\n",
       "      <td>0.833</td>\n",
       "      <td>7 - 5 - 0</td>\n",
       "      <td>0.583</td>\n",
       "      <td>4 - 1 - 0</td>\n",
       "      <td>4W</td>\n",
       "      <td>4 - 1 - 0</td>\n",
       "    </tr>\n",
       "    <tr>\n",
       "      <th>1</th>\n",
       "      <td>2021</td>\n",
       "      <td>Dolphins</td>\n",
       "      <td>9</td>\n",
       "      <td>8</td>\n",
       "      <td>0</td>\n",
       "      <td>0.529</td>\n",
       "      <td>341</td>\n",
       "      <td>373</td>\n",
       "      <td>-32</td>\n",
       "      <td>6 - 3 - 0</td>\n",
       "      <td>3 - 5 - 0</td>\n",
       "      <td>4 - 2 - 0</td>\n",
       "      <td>0.667</td>\n",
       "      <td>6 - 6 - 0</td>\n",
       "      <td>0.500</td>\n",
       "      <td>3 - 2 - 0</td>\n",
       "      <td>1W</td>\n",
       "      <td>4 - 1 - 0</td>\n",
       "    </tr>\n",
       "    <tr>\n",
       "      <th>2</th>\n",
       "      <td>2021</td>\n",
       "      <td>Patriots</td>\n",
       "      <td>10</td>\n",
       "      <td>7</td>\n",
       "      <td>0</td>\n",
       "      <td>0.588</td>\n",
       "      <td>462</td>\n",
       "      <td>303</td>\n",
       "      <td>159</td>\n",
       "      <td>4 - 5 - 0</td>\n",
       "      <td>6 - 2 - 0</td>\n",
       "      <td>3 - 3 - 0</td>\n",
       "      <td>0.500</td>\n",
       "      <td>8 - 4 - 0</td>\n",
       "      <td>0.667</td>\n",
       "      <td>2 - 3 - 0</td>\n",
       "      <td>1L</td>\n",
       "      <td>2 - 3 - 0</td>\n",
       "    </tr>\n",
       "    <tr>\n",
       "      <th>3</th>\n",
       "      <td>2021</td>\n",
       "      <td>Jets</td>\n",
       "      <td>4</td>\n",
       "      <td>13</td>\n",
       "      <td>0</td>\n",
       "      <td>0.235</td>\n",
       "      <td>310</td>\n",
       "      <td>504</td>\n",
       "      <td>-194</td>\n",
       "      <td>3 - 6 - 0</td>\n",
       "      <td>1 - 7 - 0</td>\n",
       "      <td>0 - 6 - 0</td>\n",
       "      <td>0.000</td>\n",
       "      <td>4 - 8 - 0</td>\n",
       "      <td>0.333</td>\n",
       "      <td>0 - 5 - 0</td>\n",
       "      <td>2L</td>\n",
       "      <td>1 - 4 - 0</td>\n",
       "    </tr>\n",
       "    <tr>\n",
       "      <th>4</th>\n",
       "      <td>2021</td>\n",
       "      <td>Bengals</td>\n",
       "      <td>10</td>\n",
       "      <td>7</td>\n",
       "      <td>0</td>\n",
       "      <td>0.588</td>\n",
       "      <td>460</td>\n",
       "      <td>376</td>\n",
       "      <td>84</td>\n",
       "      <td>5 - 4 - 0</td>\n",
       "      <td>5 - 3 - 0</td>\n",
       "      <td>4 - 2 - 0</td>\n",
       "      <td>0.667</td>\n",
       "      <td>8 - 4 - 0</td>\n",
       "      <td>0.667</td>\n",
       "      <td>2 - 3 - 0</td>\n",
       "      <td>1L</td>\n",
       "      <td>3 - 2 - 0</td>\n",
       "    </tr>\n",
       "    <tr>\n",
       "      <th>5</th>\n",
       "      <td>2021</td>\n",
       "      <td>Steelers</td>\n",
       "      <td>9</td>\n",
       "      <td>7</td>\n",
       "      <td>1</td>\n",
       "      <td>0.559</td>\n",
       "      <td>343</td>\n",
       "      <td>398</td>\n",
       "      <td>-55</td>\n",
       "      <td>6 - 2 - 1</td>\n",
       "      <td>3 - 5 - 0</td>\n",
       "      <td>4 - 2 - 0</td>\n",
       "      <td>0.667</td>\n",
       "      <td>7 - 5 - 0</td>\n",
       "      <td>0.583</td>\n",
       "      <td>2 - 2 - 1</td>\n",
       "      <td>2W</td>\n",
       "      <td>3 - 2 - 0</td>\n",
       "    </tr>\n",
       "    <tr>\n",
       "      <th>6</th>\n",
       "      <td>2021</td>\n",
       "      <td>Browns</td>\n",
       "      <td>8</td>\n",
       "      <td>9</td>\n",
       "      <td>0</td>\n",
       "      <td>0.471</td>\n",
       "      <td>349</td>\n",
       "      <td>371</td>\n",
       "      <td>-22</td>\n",
       "      <td>6 - 3 - 0</td>\n",
       "      <td>2 - 6 - 0</td>\n",
       "      <td>3 - 3 - 0</td>\n",
       "      <td>0.500</td>\n",
       "      <td>5 - 7 - 0</td>\n",
       "      <td>0.417</td>\n",
       "      <td>3 - 2 - 0</td>\n",
       "      <td>1W</td>\n",
       "      <td>2 - 3 - 0</td>\n",
       "    </tr>\n",
       "    <tr>\n",
       "      <th>7</th>\n",
       "      <td>2021</td>\n",
       "      <td>Ravens</td>\n",
       "      <td>8</td>\n",
       "      <td>9</td>\n",
       "      <td>0</td>\n",
       "      <td>0.471</td>\n",
       "      <td>387</td>\n",
       "      <td>392</td>\n",
       "      <td>-5</td>\n",
       "      <td>5 - 4 - 0</td>\n",
       "      <td>3 - 5 - 0</td>\n",
       "      <td>1 - 5 - 0</td>\n",
       "      <td>0.167</td>\n",
       "      <td>5 - 7 - 0</td>\n",
       "      <td>0.417</td>\n",
       "      <td>3 - 2 - 0</td>\n",
       "      <td>6L</td>\n",
       "      <td>0 - 5 - 0</td>\n",
       "    </tr>\n",
       "    <tr>\n",
       "      <th>8</th>\n",
       "      <td>2021</td>\n",
       "      <td>Titans</td>\n",
       "      <td>12</td>\n",
       "      <td>5</td>\n",
       "      <td>0</td>\n",
       "      <td>0.706</td>\n",
       "      <td>419</td>\n",
       "      <td>354</td>\n",
       "      <td>65</td>\n",
       "      <td>7 - 2 - 0</td>\n",
       "      <td>5 - 3 - 0</td>\n",
       "      <td>5 - 1 - 0</td>\n",
       "      <td>0.833</td>\n",
       "      <td>8 - 4 - 0</td>\n",
       "      <td>0.667</td>\n",
       "      <td>4 - 1 - 0</td>\n",
       "      <td>3W</td>\n",
       "      <td>4 - 1 - 0</td>\n",
       "    </tr>\n",
       "    <tr>\n",
       "      <th>9</th>\n",
       "      <td>2021</td>\n",
       "      <td>Colts</td>\n",
       "      <td>9</td>\n",
       "      <td>8</td>\n",
       "      <td>0</td>\n",
       "      <td>0.529</td>\n",
       "      <td>451</td>\n",
       "      <td>365</td>\n",
       "      <td>86</td>\n",
       "      <td>4 - 5 - 0</td>\n",
       "      <td>5 - 3 - 0</td>\n",
       "      <td>3 - 3 - 0</td>\n",
       "      <td>0.500</td>\n",
       "      <td>7 - 5 - 0</td>\n",
       "      <td>0.583</td>\n",
       "      <td>2 - 3 - 0</td>\n",
       "      <td>2L</td>\n",
       "      <td>3 - 2 - 0</td>\n",
       "    </tr>\n",
       "  </tbody>\n",
       "</table>\n",
       "</div>"
      ],
      "text/plain": [
       "   Years     Teams   W   L  T    PCT   PF   PA  Net Pts       Home       Road  \\\n",
       "0   2021     Bills  11   6  0  0.647  483  289      194  6 - 3 - 0  5 - 3 - 0   \n",
       "1   2021  Dolphins   9   8  0  0.529  341  373      -32  6 - 3 - 0  3 - 5 - 0   \n",
       "2   2021  Patriots  10   7  0  0.588  462  303      159  4 - 5 - 0  6 - 2 - 0   \n",
       "3   2021      Jets   4  13  0  0.235  310  504     -194  3 - 6 - 0  1 - 7 - 0   \n",
       "4   2021   Bengals  10   7  0  0.588  460  376       84  5 - 4 - 0  5 - 3 - 0   \n",
       "5   2021  Steelers   9   7  1  0.559  343  398      -55  6 - 2 - 1  3 - 5 - 0   \n",
       "6   2021    Browns   8   9  0  0.471  349  371      -22  6 - 3 - 0  2 - 6 - 0   \n",
       "7   2021    Ravens   8   9  0  0.471  387  392       -5  5 - 4 - 0  3 - 5 - 0   \n",
       "8   2021    Titans  12   5  0  0.706  419  354       65  7 - 2 - 0  5 - 3 - 0   \n",
       "9   2021     Colts   9   8  0  0.529  451  365       86  4 - 5 - 0  5 - 3 - 0   \n",
       "\n",
       "         Div    Pct       Conf  Pct.1   Non-Conf Strk     Last 5  \n",
       "0  5 - 1 - 0  0.833  7 - 5 - 0  0.583  4 - 1 - 0   4W  4 - 1 - 0  \n",
       "1  4 - 2 - 0  0.667  6 - 6 - 0  0.500  3 - 2 - 0   1W  4 - 1 - 0  \n",
       "2  3 - 3 - 0  0.500  8 - 4 - 0  0.667  2 - 3 - 0   1L  2 - 3 - 0  \n",
       "3  0 - 6 - 0  0.000  4 - 8 - 0  0.333  0 - 5 - 0   2L  1 - 4 - 0  \n",
       "4  4 - 2 - 0  0.667  8 - 4 - 0  0.667  2 - 3 - 0   1L  3 - 2 - 0  \n",
       "5  4 - 2 - 0  0.667  7 - 5 - 0  0.583  2 - 2 - 1   2W  3 - 2 - 0  \n",
       "6  3 - 3 - 0  0.500  5 - 7 - 0  0.417  3 - 2 - 0   1W  2 - 3 - 0  \n",
       "7  1 - 5 - 0  0.167  5 - 7 - 0  0.417  3 - 2 - 0   6L  0 - 5 - 0  \n",
       "8  5 - 1 - 0  0.833  8 - 4 - 0  0.667  4 - 1 - 0   3W  4 - 1 - 0  \n",
       "9  3 - 3 - 0  0.500  7 - 5 - 0  0.583  2 - 3 - 0   2L  3 - 2 - 0  "
      ]
     },
     "execution_count": 11,
     "metadata": {},
     "output_type": "execute_result"
    }
   ],
   "source": [
    "# Load the data into a Pandas DataFrame\n",
    "df_Football_Season = pd.read_csv(\n",
    "    Path(\"./Resources/2021_2011_regular_ season_1.csv\",\n",
    "                          index_col=[\"Years\",\"Teams\",\"W\"],\n",
    "                          parse_dates = True, \n",
    "                          infer_datetime_format = True)\n",
    ")\n",
    "\n",
    "# Drop Date column\n",
    "df_Football_Season=df_Football_Season.drop(columns=[\"Date\"])\n",
    "\n",
    "# Display sample data\n",
    "df_Football_Season.head(10)"
   ]
  },
  {
   "cell_type": "code",
   "execution_count": 4,
   "metadata": {},
   "outputs": [
    {
     "data": {
      "text/html": [
       "<div>\n",
       "<style scoped>\n",
       "    .dataframe tbody tr th:only-of-type {\n",
       "        vertical-align: middle;\n",
       "    }\n",
       "\n",
       "    .dataframe tbody tr th {\n",
       "        vertical-align: top;\n",
       "    }\n",
       "\n",
       "    .dataframe thead th {\n",
       "        text-align: right;\n",
       "    }\n",
       "</style>\n",
       "<table border=\"1\" class=\"dataframe\">\n",
       "  <thead>\n",
       "    <tr style=\"text-align: right;\">\n",
       "      <th></th>\n",
       "      <th>Years</th>\n",
       "      <th>Teams</th>\n",
       "      <th>W</th>\n",
       "      <th>L</th>\n",
       "      <th>T</th>\n",
       "      <th>PCT</th>\n",
       "      <th>PF</th>\n",
       "      <th>PA</th>\n",
       "      <th>Net Pts</th>\n",
       "      <th>Home</th>\n",
       "      <th>Road</th>\n",
       "      <th>Div</th>\n",
       "      <th>Pct</th>\n",
       "      <th>Conf</th>\n",
       "      <th>Pct.1</th>\n",
       "      <th>Non-Conf</th>\n",
       "      <th>Strk</th>\n",
       "      <th>Last 5</th>\n",
       "    </tr>\n",
       "  </thead>\n",
       "  <tbody>\n",
       "    <tr>\n",
       "      <th>342</th>\n",
       "      <td>2011</td>\n",
       "      <td>Bears</td>\n",
       "      <td>8</td>\n",
       "      <td>8</td>\n",
       "      <td>0</td>\n",
       "      <td>0.500</td>\n",
       "      <td>353</td>\n",
       "      <td>341</td>\n",
       "      <td>12</td>\n",
       "      <td>5 - 3 - 0</td>\n",
       "      <td>3 - 5 - 0</td>\n",
       "      <td>3 - 3 - 0</td>\n",
       "      <td>0.500</td>\n",
       "      <td>7 - 5 - 0</td>\n",
       "      <td>0.583</td>\n",
       "      <td>1 - 3 - 0</td>\n",
       "      <td>1W</td>\n",
       "      <td>1 - 4 - 0</td>\n",
       "    </tr>\n",
       "    <tr>\n",
       "      <th>343</th>\n",
       "      <td>2011</td>\n",
       "      <td>Vikings</td>\n",
       "      <td>3</td>\n",
       "      <td>13</td>\n",
       "      <td>0</td>\n",
       "      <td>0.188</td>\n",
       "      <td>340</td>\n",
       "      <td>449</td>\n",
       "      <td>-109</td>\n",
       "      <td>1 - 7 - 0</td>\n",
       "      <td>2 - 6 - 0</td>\n",
       "      <td>0 - 6 - 0</td>\n",
       "      <td>0.000</td>\n",
       "      <td>3 - 9 - 0</td>\n",
       "      <td>0.250</td>\n",
       "      <td>0 - 4 - 0</td>\n",
       "      <td>1L</td>\n",
       "      <td>1 - 4 - 0</td>\n",
       "    </tr>\n",
       "    <tr>\n",
       "      <th>344</th>\n",
       "      <td>2011</td>\n",
       "      <td>Saints</td>\n",
       "      <td>13</td>\n",
       "      <td>3</td>\n",
       "      <td>0</td>\n",
       "      <td>0.813</td>\n",
       "      <td>547</td>\n",
       "      <td>339</td>\n",
       "      <td>208</td>\n",
       "      <td>8 - 0 - 0</td>\n",
       "      <td>5 - 3 - 0</td>\n",
       "      <td>5 - 1 - 0</td>\n",
       "      <td>0.833</td>\n",
       "      <td>9 - 3 - 0</td>\n",
       "      <td>0.750</td>\n",
       "      <td>4 - 0 - 0</td>\n",
       "      <td>8W</td>\n",
       "      <td>5 - 0 - 0</td>\n",
       "    </tr>\n",
       "    <tr>\n",
       "      <th>345</th>\n",
       "      <td>2011</td>\n",
       "      <td>Falcons</td>\n",
       "      <td>10</td>\n",
       "      <td>6</td>\n",
       "      <td>0</td>\n",
       "      <td>0.625</td>\n",
       "      <td>402</td>\n",
       "      <td>350</td>\n",
       "      <td>52</td>\n",
       "      <td>6 - 2 - 0</td>\n",
       "      <td>4 - 4 - 0</td>\n",
       "      <td>3 - 3 - 0</td>\n",
       "      <td>0.500</td>\n",
       "      <td>7 - 5 - 0</td>\n",
       "      <td>0.583</td>\n",
       "      <td>3 - 1 - 0</td>\n",
       "      <td>1W</td>\n",
       "      <td>3 - 2 - 0</td>\n",
       "    </tr>\n",
       "    <tr>\n",
       "      <th>346</th>\n",
       "      <td>2011</td>\n",
       "      <td>Panthers</td>\n",
       "      <td>6</td>\n",
       "      <td>10</td>\n",
       "      <td>0</td>\n",
       "      <td>0.375</td>\n",
       "      <td>406</td>\n",
       "      <td>429</td>\n",
       "      <td>-23</td>\n",
       "      <td>3 - 5 - 0</td>\n",
       "      <td>3 - 5 - 0</td>\n",
       "      <td>2 - 4 - 0</td>\n",
       "      <td>0.333</td>\n",
       "      <td>3 - 9 - 0</td>\n",
       "      <td>0.250</td>\n",
       "      <td>3 - 1 - 0</td>\n",
       "      <td>1L</td>\n",
       "      <td>3 - 2 - 0</td>\n",
       "    </tr>\n",
       "    <tr>\n",
       "      <th>347</th>\n",
       "      <td>2011</td>\n",
       "      <td>Buccaneers</td>\n",
       "      <td>4</td>\n",
       "      <td>12</td>\n",
       "      <td>0</td>\n",
       "      <td>0.250</td>\n",
       "      <td>287</td>\n",
       "      <td>494</td>\n",
       "      <td>-207</td>\n",
       "      <td>3 - 5 - 0</td>\n",
       "      <td>1 - 7 - 0</td>\n",
       "      <td>2 - 4 - 0</td>\n",
       "      <td>0.333</td>\n",
       "      <td>3 - 9 - 0</td>\n",
       "      <td>0.250</td>\n",
       "      <td>1 - 3 - 0</td>\n",
       "      <td>10L</td>\n",
       "      <td>0 - 5 - 0</td>\n",
       "    </tr>\n",
       "    <tr>\n",
       "      <th>348</th>\n",
       "      <td>2011</td>\n",
       "      <td>49ers</td>\n",
       "      <td>13</td>\n",
       "      <td>3</td>\n",
       "      <td>0</td>\n",
       "      <td>0.813</td>\n",
       "      <td>380</td>\n",
       "      <td>229</td>\n",
       "      <td>151</td>\n",
       "      <td>7 - 1 - 0</td>\n",
       "      <td>6 - 2 - 0</td>\n",
       "      <td>5 - 1 - 0</td>\n",
       "      <td>0.833</td>\n",
       "      <td>10 - 2 - 0</td>\n",
       "      <td>0.833</td>\n",
       "      <td>3 - 1 - 0</td>\n",
       "      <td>3W</td>\n",
       "      <td>4 - 1 - 0</td>\n",
       "    </tr>\n",
       "    <tr>\n",
       "      <th>349</th>\n",
       "      <td>2011</td>\n",
       "      <td>Cardinals</td>\n",
       "      <td>8</td>\n",
       "      <td>8</td>\n",
       "      <td>0</td>\n",
       "      <td>0.500</td>\n",
       "      <td>312</td>\n",
       "      <td>348</td>\n",
       "      <td>-36</td>\n",
       "      <td>6 - 2 - 0</td>\n",
       "      <td>2 - 6 - 0</td>\n",
       "      <td>4 - 2 - 0</td>\n",
       "      <td>0.667</td>\n",
       "      <td>7 - 5 - 0</td>\n",
       "      <td>0.583</td>\n",
       "      <td>1 - 3 - 0</td>\n",
       "      <td>1W</td>\n",
       "      <td>4 - 1 - 0</td>\n",
       "    </tr>\n",
       "    <tr>\n",
       "      <th>350</th>\n",
       "      <td>2011</td>\n",
       "      <td>Seahawks</td>\n",
       "      <td>7</td>\n",
       "      <td>9</td>\n",
       "      <td>0</td>\n",
       "      <td>0.438</td>\n",
       "      <td>321</td>\n",
       "      <td>315</td>\n",
       "      <td>6</td>\n",
       "      <td>4 - 4 - 0</td>\n",
       "      <td>3 - 5 - 0</td>\n",
       "      <td>3 - 3 - 0</td>\n",
       "      <td>0.500</td>\n",
       "      <td>6 - 6 - 0</td>\n",
       "      <td>0.500</td>\n",
       "      <td>1 - 3 - 0</td>\n",
       "      <td>2L</td>\n",
       "      <td>3 - 2 - 0</td>\n",
       "    </tr>\n",
       "    <tr>\n",
       "      <th>351</th>\n",
       "      <td>2011</td>\n",
       "      <td>Rams</td>\n",
       "      <td>2</td>\n",
       "      <td>14</td>\n",
       "      <td>0</td>\n",
       "      <td>0.125</td>\n",
       "      <td>193</td>\n",
       "      <td>407</td>\n",
       "      <td>-214</td>\n",
       "      <td>1 - 7 - 0</td>\n",
       "      <td>1 - 7 - 0</td>\n",
       "      <td>0 - 6 - 0</td>\n",
       "      <td>0.000</td>\n",
       "      <td>1 - 11 - 0</td>\n",
       "      <td>0.083</td>\n",
       "      <td>1 - 3 - 0</td>\n",
       "      <td>7L</td>\n",
       "      <td>0 - 5 - 0</td>\n",
       "    </tr>\n",
       "  </tbody>\n",
       "</table>\n",
       "</div>"
      ],
      "text/plain": [
       "     Years       Teams   W   L  T    PCT   PF   PA  Net Pts       Home  \\\n",
       "342   2011       Bears   8   8  0  0.500  353  341       12  5 - 3 - 0   \n",
       "343   2011     Vikings   3  13  0  0.188  340  449     -109  1 - 7 - 0   \n",
       "344   2011      Saints  13   3  0  0.813  547  339      208  8 - 0 - 0   \n",
       "345   2011     Falcons  10   6  0  0.625  402  350       52  6 - 2 - 0   \n",
       "346   2011    Panthers   6  10  0  0.375  406  429      -23  3 - 5 - 0   \n",
       "347   2011  Buccaneers   4  12  0  0.250  287  494     -207  3 - 5 - 0   \n",
       "348   2011       49ers  13   3  0  0.813  380  229      151  7 - 1 - 0   \n",
       "349   2011   Cardinals   8   8  0  0.500  312  348      -36  6 - 2 - 0   \n",
       "350   2011    Seahawks   7   9  0  0.438  321  315        6  4 - 4 - 0   \n",
       "351   2011        Rams   2  14  0  0.125  193  407     -214  1 - 7 - 0   \n",
       "\n",
       "          Road        Div    Pct        Conf  Pct.1   Non-Conf Strk     Last 5  \n",
       "342  3 - 5 - 0  3 - 3 - 0  0.500   7 - 5 - 0  0.583  1 - 3 - 0   1W  1 - 4 - 0  \n",
       "343  2 - 6 - 0  0 - 6 - 0  0.000   3 - 9 - 0  0.250  0 - 4 - 0   1L  1 - 4 - 0  \n",
       "344  5 - 3 - 0  5 - 1 - 0  0.833   9 - 3 - 0  0.750  4 - 0 - 0   8W  5 - 0 - 0  \n",
       "345  4 - 4 - 0  3 - 3 - 0  0.500   7 - 5 - 0  0.583  3 - 1 - 0   1W  3 - 2 - 0  \n",
       "346  3 - 5 - 0  2 - 4 - 0  0.333   3 - 9 - 0  0.250  3 - 1 - 0   1L  3 - 2 - 0  \n",
       "347  1 - 7 - 0  2 - 4 - 0  0.333   3 - 9 - 0  0.250  1 - 3 - 0  10L  0 - 5 - 0  \n",
       "348  6 - 2 - 0  5 - 1 - 0  0.833  10 - 2 - 0  0.833  3 - 1 - 0   3W  4 - 1 - 0  \n",
       "349  2 - 6 - 0  4 - 2 - 0  0.667   7 - 5 - 0  0.583  1 - 3 - 0   1W  4 - 1 - 0  \n",
       "350  3 - 5 - 0  3 - 3 - 0  0.500   6 - 6 - 0  0.500  1 - 3 - 0   2L  3 - 2 - 0  \n",
       "351  1 - 7 - 0  0 - 6 - 0  0.000  1 - 11 - 0  0.083  1 - 3 - 0   7L  0 - 5 - 0  "
      ]
     },
     "execution_count": 4,
     "metadata": {},
     "output_type": "execute_result"
    }
   ],
   "source": [
    "# Display sample data\n",
    "df_Football_Season.tail(10)"
   ]
  },
  {
   "cell_type": "code",
   "execution_count": 6,
   "metadata": {},
   "outputs": [
    {
     "data": {
      "text/plain": [
       "Years         int64\n",
       "Teams        object\n",
       "W             int64\n",
       "L             int64\n",
       "T             int64\n",
       "PCT         float64\n",
       "PF            int64\n",
       "PA            int64\n",
       "Net Pts       int64\n",
       "Home         object\n",
       "Road         object\n",
       "Div          object\n",
       "Pct         float64\n",
       "Conf         object\n",
       "Pct.1       float64\n",
       "Non-Conf     object\n",
       "Strk         object\n",
       "Last 5       object\n",
       "dtype: object"
      ]
     },
     "execution_count": 6,
     "metadata": {},
     "output_type": "execute_result"
    }
   ],
   "source": [
    "# Review the data types associated with the columns\n",
    "# Display sample data\n",
    "df_Football_Season.dtypes"
   ]
  },
  {
   "cell_type": "code",
   "execution_count": 7,
   "metadata": {},
   "outputs": [
    {
     "data": {
      "text/plain": [
       "Index(['Years', 'Teams', 'W', 'L', 'T', 'PCT', 'PF', 'PA', 'Net Pts', 'Home',\n",
       "       'Road', 'Div', 'Pct', 'Conf', 'Pct.1', 'Non-Conf', 'Strk', 'Last 5'],\n",
       "      dtype='object')"
      ]
     },
     "execution_count": 7,
     "metadata": {},
     "output_type": "execute_result"
    }
   ],
   "source": [
    "# Display sample data\n",
    "df_Football_Season.columns"
   ]
  },
  {
   "cell_type": "markdown",
   "metadata": {},
   "source": [
    "### Step 2: Drop the “EIN” (Employer Identification Number) and “NAME” columns from the DataFrame, because they are not relevant to the binary classification model."
   ]
  },
  {
   "cell_type": "code",
   "execution_count": 10,
   "metadata": {},
   "outputs": [
    {
     "ename": "AttributeError",
     "evalue": "'DataFrame' object has no attribute 'keep'",
     "output_type": "error",
     "traceback": [
      "\u001b[1;31m---------------------------------------------------------------------------\u001b[0m",
      "\u001b[1;31mAttributeError\u001b[0m                            Traceback (most recent call last)",
      "Input \u001b[1;32mIn [10]\u001b[0m, in \u001b[0;36m<cell line: 2>\u001b[1;34m()\u001b[0m\n\u001b[0;32m      1\u001b[0m \u001b[38;5;66;03m# Drop useless columns from the DataFrame\u001b[39;00m\n\u001b[1;32m----> 2\u001b[0m df_SuperBowlWinners_Deep \u001b[38;5;241m=\u001b[39m \u001b[43mdf_Football_Season\u001b[49m\u001b[38;5;241;43m.\u001b[39;49m\u001b[43mkeep\u001b[49m(columns\u001b[38;5;241m=\u001b[39m[\u001b[38;5;124m'\u001b[39m\u001b[38;5;124mYears\u001b[39m\u001b[38;5;124m'\u001b[39m, \u001b[38;5;124m'\u001b[39m\u001b[38;5;124mTeams\u001b[39m\u001b[38;5;124m'\u001b[39m, \u001b[38;5;124m'\u001b[39m\u001b[38;5;124mW\u001b[39m\u001b[38;5;124m'\u001b[39m,\u001b[38;5;124m'\u001b[39m\u001b[38;5;124mPCT\u001b[39m\u001b[38;5;124m'\u001b[39m, \u001b[38;5;124m'\u001b[39m\u001b[38;5;124mNet Pts\u001b[39m\u001b[38;5;124m'\u001b[39m, \u001b[38;5;124m'\u001b[39m\u001b[38;5;124mHome\u001b[39m\u001b[38;5;124m'\u001b[39m,\n\u001b[0;32m      3\u001b[0m        ])\n\u001b[0;32m      5\u001b[0m \u001b[38;5;66;03m# Review the DataFrame\u001b[39;00m\n\u001b[0;32m      6\u001b[0m df_SuperBowlWinners_Deep\n",
      "File \u001b[1;32m~\\anaconda3\\lib\\site-packages\\pandas\\core\\generic.py:5575\u001b[0m, in \u001b[0;36mNDFrame.__getattr__\u001b[1;34m(self, name)\u001b[0m\n\u001b[0;32m   5568\u001b[0m \u001b[38;5;28;01mif\u001b[39;00m (\n\u001b[0;32m   5569\u001b[0m     name \u001b[38;5;129;01mnot\u001b[39;00m \u001b[38;5;129;01min\u001b[39;00m \u001b[38;5;28mself\u001b[39m\u001b[38;5;241m.\u001b[39m_internal_names_set\n\u001b[0;32m   5570\u001b[0m     \u001b[38;5;129;01mand\u001b[39;00m name \u001b[38;5;129;01mnot\u001b[39;00m \u001b[38;5;129;01min\u001b[39;00m \u001b[38;5;28mself\u001b[39m\u001b[38;5;241m.\u001b[39m_metadata\n\u001b[0;32m   5571\u001b[0m     \u001b[38;5;129;01mand\u001b[39;00m name \u001b[38;5;129;01mnot\u001b[39;00m \u001b[38;5;129;01min\u001b[39;00m \u001b[38;5;28mself\u001b[39m\u001b[38;5;241m.\u001b[39m_accessors\n\u001b[0;32m   5572\u001b[0m     \u001b[38;5;129;01mand\u001b[39;00m \u001b[38;5;28mself\u001b[39m\u001b[38;5;241m.\u001b[39m_info_axis\u001b[38;5;241m.\u001b[39m_can_hold_identifiers_and_holds_name(name)\n\u001b[0;32m   5573\u001b[0m ):\n\u001b[0;32m   5574\u001b[0m     \u001b[38;5;28;01mreturn\u001b[39;00m \u001b[38;5;28mself\u001b[39m[name]\n\u001b[1;32m-> 5575\u001b[0m \u001b[38;5;28;01mreturn\u001b[39;00m \u001b[38;5;28;43mobject\u001b[39;49m\u001b[38;5;241;43m.\u001b[39;49m\u001b[38;5;21;43m__getattribute__\u001b[39;49m\u001b[43m(\u001b[49m\u001b[38;5;28;43mself\u001b[39;49m\u001b[43m,\u001b[49m\u001b[43m \u001b[49m\u001b[43mname\u001b[49m\u001b[43m)\u001b[49m\n",
      "\u001b[1;31mAttributeError\u001b[0m: 'DataFrame' object has no attribute 'keep'"
     ]
    }
   ],
   "source": [
    "# Drop useless columns from the DataFrame\n",
    "df_SuperBowlWinners_Deep = df_Football_Season.drop(columns=['Years', 'Teams', 'W', 'L', 'T', 'PCT', 'PF', 'PA', 'Net Pts', 'Home',\n",
    "       'Road', 'Div', 'Pct', 'Conf', 'Pct.1', 'Non-Conf', 'Strk', 'Last 5'])\n",
    "\n",
    "# Review the DataFrame\n",
    "df_SuperBowlWinners_Deep\n"
   ]
  },
  {
   "cell_type": "markdown",
   "metadata": {},
   "source": [
    "### Step 3: Encode the dataset’s categorical variables using `OneHotEncoder`, and then place the encoded variables into a new DataFrame."
   ]
  },
  {
   "cell_type": "code",
   "execution_count": null,
   "metadata": {},
   "outputs": [],
   "source": [
    "# Create a list of categorical variables \n",
    "categorical_variables = ['APPLICATION_TYPE', 'AFFILIATION', 'CLASSIFICATION', 'USE_CASE',\n",
    "       'ORGANIZATION','INCOME_AMT', 'SPECIAL_CONSIDERATIONS']\n",
    "\n",
    "# Display the categorical variables list\n",
    "categorical_variables\n"
   ]
  },
  {
   "cell_type": "code",
   "execution_count": null,
   "metadata": {},
   "outputs": [],
   "source": [
    "# Create a OneHotEncoder instance (Takes non-numerical data into 0 or 1)\n",
    "enc =  OneHotEncoder(sparse=False)"
   ]
  },
  {
   "cell_type": "code",
   "execution_count": null,
   "metadata": {},
   "outputs": [],
   "source": [
    "# Encode the categorcal variables using OneHotEncoder\n",
    "encoded_data = enc.fit_transform(applicant_data_df[categorical_variables])\n",
    "encoded_data"
   ]
  },
  {
   "cell_type": "code",
   "execution_count": null,
   "metadata": {},
   "outputs": [],
   "source": [
    "# Create a DataFrame with the encoded variables\n",
    "encoded_df = pd.DataFrame(\n",
    "    encoded_data,\n",
    "    columns = enc.get_feature_names_out(categorical_variables)\n",
    ")\n",
    "# Review the DataFrame\n",
    "encoded_df\n"
   ]
  },
  {
   "cell_type": "markdown",
   "metadata": {},
   "source": [
    "### Step 4: Add the original DataFrame’s numerical variables to the DataFrame containing the encoded variables.\n",
    "\n",
    "> **Note** To complete this step, you will employ the Pandas `concat()` function that was introduced earlier in this course. "
   ]
  },
  {
   "cell_type": "code",
   "execution_count": null,
   "metadata": {},
   "outputs": [],
   "source": [
    "# Add the numerical variables from the original DataFrame to the one-hot encoding DataFrame\n",
    "numerical_variables_df = applicant_data_df.drop(columns = categorical_variables)\n",
    "\n",
    "# Review the DataFrame\n",
    "numerical_variables_df.head()"
   ]
  },
  {
   "cell_type": "code",
   "execution_count": null,
   "metadata": {},
   "outputs": [],
   "source": [
    "# Using the Pandas concat function, combine the DataFrames the contain the encoded categorical data and the numerical data\n",
    "encoded2_df = pd.concat(\n",
    "    [\n",
    "        numerical_variables_df,\n",
    "        encoded_df\n",
    "    ],\n",
    "    axis=1\n",
    ")\n",
    "\n",
    "# Reveiw the DataFrame\n",
    "encoded2_df.head()"
   ]
  },
  {
   "cell_type": "markdown",
   "metadata": {},
   "source": [
    "### Step 5: Using the preprocessed data, create the features (`X`) and target (`y`) datasets. The target dataset should be defined by the preprocessed DataFrame column “IS_SUCCESSFUL”. The remaining columns should define the features dataset. \n",
    "\n"
   ]
  },
  {
   "cell_type": "code",
   "execution_count": null,
   "metadata": {},
   "outputs": [],
   "source": [
    "# Define the target set y using the IS_SUCCESSFUL column\n",
    "y = encoded2_df[\"IS_SUCCESSFUL\"]\n",
    "\n",
    "# Display a sample of y\n",
    "y[:10]\n"
   ]
  },
  {
   "cell_type": "code",
   "execution_count": null,
   "metadata": {},
   "outputs": [],
   "source": [
    "# Define features set X by selecting all columns but IS_SUCCESSFUL\n",
    "X = encoded2_df.drop(columns=[\"IS_SUCCESSFUL\"])\n",
    "\n",
    "# Review the features DataFrame\n",
    "X.head()\n"
   ]
  },
  {
   "cell_type": "markdown",
   "metadata": {},
   "source": [
    "### Step 6: Split the features and target sets into training and testing datasets.\n"
   ]
  },
  {
   "cell_type": "code",
   "execution_count": null,
   "metadata": {},
   "outputs": [],
   "source": [
    "# Split the preprocessed data into a training and testing dataset\n",
    "# Assign the function a random_state equal to 1\n",
    "X_train, X_test, y_train, y_test = train_test_split(X, y, random_state=1)"
   ]
  },
  {
   "cell_type": "markdown",
   "metadata": {},
   "source": [
    "### Step 7: Use scikit-learn's `StandardScaler` to scale the features data."
   ]
  },
  {
   "cell_type": "code",
   "execution_count": null,
   "metadata": {},
   "outputs": [],
   "source": [
    "# Create a StandardScaler instance\n",
    "scaler = StandardScaler()\n",
    "\n",
    "# Fit the scaler to the features training dataset\n",
    "X_scaler = scaler.fit(X_train)\n",
    "\n",
    "# Fit the scaler to the features training dataset\n",
    "X_train_scaled = X_scaler.transform(X_train)\n",
    "X_test_scaled = X_scaler.transform(X_test)\n"
   ]
  },
  {
   "cell_type": "markdown",
   "metadata": {},
   "source": [
    "---\n",
    "\n",
    "## Compile and Evaluate a Binary Classification Model Using a Neural Network"
   ]
  },
  {
   "cell_type": "markdown",
   "metadata": {},
   "source": [
    "### Step 1: Create a deep neural network by assigning the number of input features, the number of layers, and the number of neurons on each layer using Tensorflow’s Keras.\n",
    "\n",
    "> **Hint** You can start with a two-layer deep neural network model that uses the `relu` activation function for both layers.\n"
   ]
  },
  {
   "cell_type": "code",
   "execution_count": null,
   "metadata": {},
   "outputs": [],
   "source": [
    "# Define the the number of inputs (features) to the model\n",
    "number_input_features = len(X_train.iloc[0])\n",
    "\n",
    "# Review the number of features\n",
    "number_input_features"
   ]
  },
  {
   "cell_type": "code",
   "execution_count": null,
   "metadata": {},
   "outputs": [],
   "source": [
    "# Define the number of neurons in the output layer\n",
    "number_output_neurons = 10"
   ]
  },
  {
   "cell_type": "code",
   "execution_count": null,
   "metadata": {},
   "outputs": [],
   "source": [
    "# Define the number of hidden nodes for the first hidden layer\n",
    "hidden_nodes_layer1 =  (number_input_features + 1) // 2 \n",
    "\n",
    "# Review the number hidden nodes in the first layer\n",
    "hidden_nodes_layer1"
   ]
  },
  {
   "cell_type": "code",
   "execution_count": null,
   "metadata": {},
   "outputs": [],
   "source": [
    "# Define the number of hidden nodes for the second hidden layer\n",
    "hidden_nodes_layer2 = (hidden_nodes_layer1 + 1) // 2\n",
    "\n",
    "# Review the number hidden nodes in the second layer\n",
    "hidden_nodes_layer2"
   ]
  },
  {
   "cell_type": "code",
   "execution_count": null,
   "metadata": {},
   "outputs": [],
   "source": [
    "# Create the Sequential model instance\n",
    "nn = Sequential()"
   ]
  },
  {
   "cell_type": "code",
   "execution_count": null,
   "metadata": {},
   "outputs": [],
   "source": [
    "# Add the first hidden layer\n",
    "nn.add(Dense(units=hidden_nodes_layer1, input_dim=number_input_features, activation=\"relu\"))"
   ]
  },
  {
   "cell_type": "code",
   "execution_count": null,
   "metadata": {},
   "outputs": [],
   "source": [
    "# Add the second hidden layer\n",
    "nn.add(Dense(units=hidden_nodes_layer2, activation=\"relu\"))"
   ]
  },
  {
   "cell_type": "code",
   "execution_count": null,
   "metadata": {},
   "outputs": [],
   "source": [
    "# Add the output layer to the model specifying the number of output neurons and activation function\n",
    "nn.add(Dense(units=1, activation=\"sigmoid\"))"
   ]
  },
  {
   "cell_type": "code",
   "execution_count": null,
   "metadata": {},
   "outputs": [],
   "source": [
    "# Display the Sequential model summary\n",
    "nn.summary()"
   ]
  },
  {
   "cell_type": "markdown",
   "metadata": {},
   "source": [
    "### Step 2: Compile and fit the model using the `binary_crossentropy` loss function, the `adam` optimizer, and the `accuracy` evaluation metric.\n"
   ]
  },
  {
   "cell_type": "code",
   "execution_count": null,
   "metadata": {},
   "outputs": [],
   "source": [
    "# Compile the Sequential model\n",
    "nn.compile(loss=\"binary_crossentropy\", optimizer=\"adam\", metrics=[\"accuracy\"])"
   ]
  },
  {
   "cell_type": "code",
   "execution_count": null,
   "metadata": {},
   "outputs": [],
   "source": [
    "# Fit the model using 50 epochs and the training data\n",
    "fit_model = nn.fit(X_train_scaled, y_train, epochs=50)\n"
   ]
  },
  {
   "cell_type": "markdown",
   "metadata": {},
   "source": [
    "### Step 3: Evaluate the model using the test data to determine the model’s loss and accuracy.\n"
   ]
  },
  {
   "cell_type": "code",
   "execution_count": null,
   "metadata": {},
   "outputs": [],
   "source": [
    "# Evaluate the model loss and accuracy metrics using the evaluate method and the test data\n",
    "model_loss, model_accuracy = nn.evaluate(X_test_scaled,y_test,verbose=2)\n",
    "\n",
    "# Display the model loss and accuracy results\n",
    "print(f\"Loss: {model_loss}, Accuracy: {model_accuracy}\")"
   ]
  },
  {
   "cell_type": "markdown",
   "metadata": {},
   "source": [
    "### Step 4: Save and export your model to an HDF5 file, and name the file `AlphabetSoup.h5`. \n"
   ]
  },
  {
   "cell_type": "code",
   "execution_count": null,
   "metadata": {},
   "outputs": [],
   "source": [
    "# Set the model's file path \n",
    "file_path = Path(\"Resources/AlphabetSoup.h5\")   \n",
    "\n",
    "# initializing a random numpy array\n",
    "arr = np.random.randn(1000)\n",
    "\n",
    "# Export your model to a HDF5 file\n",
    "with h5py.File('AlphabetSoup.hdf5', 'w') as f:\n",
    "    dset = f.create_dataset(\"default\", data = arr)"
   ]
  },
  {
   "cell_type": "markdown",
   "metadata": {},
   "source": [
    "---\n",
    "\n",
    "## Optimize the neural network model\n"
   ]
  },
  {
   "cell_type": "markdown",
   "metadata": {},
   "source": [
    "### Step 1: Define at least three new deep neural network models (resulting in the original plus 3 optimization attempts). With each, try to improve on your first model’s predictive accuracy.\n",
    "\n",
    "> **Rewind** Recall that perfect accuracy has a value of 1, so accuracy improves as its value moves closer to 1. To optimize your model for a predictive accuracy as close to 1 as possible, you can use any or all of the following techniques:\n",
    ">\n",
    "> * Adjust the input data by dropping different features columns to ensure that no variables or outliers confuse the model.\n",
    ">\n",
    "> * Add more neurons (nodes) to a hidden layer.\n",
    ">\n",
    "> * Add more hidden layers.\n",
    ">\n",
    "> * Use different activation functions for the hidden layers.\n",
    ">\n",
    "> * Add to or reduce the number of epochs in the training regimen.\n"
   ]
  },
  {
   "cell_type": "markdown",
   "metadata": {},
   "source": [
    "### Alternative Model 1"
   ]
  },
  {
   "cell_type": "code",
   "execution_count": null,
   "metadata": {},
   "outputs": [],
   "source": [
    "# Define the the number of inputs (features) to the model\n",
    "number_input_features = len(X_train.iloc[0])\n",
    "\n",
    "# Review the number of features\n",
    "number_input_features"
   ]
  },
  {
   "cell_type": "code",
   "execution_count": null,
   "metadata": {},
   "outputs": [],
   "source": [
    "# Define the number of neurons in the output layer [Increased from 10 to 20]\n",
    "number_output_neurons_A1 = 20"
   ]
  },
  {
   "cell_type": "code",
   "execution_count": null,
   "metadata": {},
   "outputs": [],
   "source": [
    "# Define the number of hidden nodes for the first hidden layer\n",
    "hidden_nodes_layer1_A1 = (number_input_features + 1) // 2 \n",
    "\n",
    "# Review the number of hidden nodes in the first layer\n",
    "hidden_nodes_layer1_A1 "
   ]
  },
  {
   "cell_type": "code",
   "execution_count": null,
   "metadata": {},
   "outputs": [],
   "source": [
    "# Create the Sequential model instance\n",
    "nn_A1 = Sequential()"
   ]
  },
  {
   "cell_type": "code",
   "execution_count": null,
   "metadata": {},
   "outputs": [],
   "source": [
    "# First hidden layer\n",
    "nn_A1.add(Dense(units=hidden_nodes_layer1, input_dim=number_input_features, activation=\"relu\"))\n",
    "\n",
    "\n",
    "# Output layer\n",
    "nn_A1.add(Dense(units=1, activation=\"sigmoid\"))\n",
    "\n",
    "\n",
    "# Check the structure of the model\n",
    "nn_A1.summary()"
   ]
  },
  {
   "cell_type": "code",
   "execution_count": null,
   "metadata": {},
   "outputs": [],
   "source": [
    "# Compile the Sequential model\n",
    "nn_A1.compile(loss=\"binary_crossentropy\", optimizer=\"adam\", metrics=[\"accuracy\"])"
   ]
  },
  {
   "cell_type": "code",
   "execution_count": null,
   "metadata": {},
   "outputs": [],
   "source": [
    "# Fit the model using 50 epochs and the training data\n",
    "fit_model_A1 = nn_A1.fit(X_train_scaled, y_train, epochs=50)"
   ]
  },
  {
   "cell_type": "markdown",
   "metadata": {},
   "source": [
    "#### Alternative Model 2"
   ]
  },
  {
   "cell_type": "code",
   "execution_count": null,
   "metadata": {},
   "outputs": [],
   "source": [
    "# Define the the number of inputs (features) to the model\n",
    "number_input_features = len(X_train.iloc[0])\n",
    "\n",
    "# Review the number of features\n",
    "number_input_features"
   ]
  },
  {
   "cell_type": "code",
   "execution_count": null,
   "metadata": {},
   "outputs": [],
   "source": [
    "# Define the number of neurons in the output layer\n",
    "number_output_neurons_A2 = 10"
   ]
  },
  {
   "cell_type": "code",
   "execution_count": null,
   "metadata": {},
   "outputs": [],
   "source": [
    "# Define the number of hidden nodes for the first hidden layer\n",
    "hidden_nodes_layer1_A2 = (number_input_features + 1) // 2 \n",
    "\n",
    "# Review the number of hidden nodes in the first layer\n",
    "hidden_nodes_layer1_A2"
   ]
  },
  {
   "cell_type": "code",
   "execution_count": null,
   "metadata": {},
   "outputs": [],
   "source": [
    "# Create the Sequential model instance\n",
    "nn_A2 = Sequential()"
   ]
  },
  {
   "cell_type": "code",
   "execution_count": null,
   "metadata": {},
   "outputs": [],
   "source": [
    "# First hidden layer\n",
    "nn_A2.add(Dense(units=hidden_nodes_layer1, input_dim=number_input_features, activation=\"relu\"))\n",
    "\n",
    "\n",
    "# Output layer [Changed activation from sigmoid to softmax]\n",
    "nn_A2.add(Dense(units=1, activation=\"softmax\"))\n",
    "\n",
    "# Check the structure of the model\n",
    "nn_A2.summary()\n"
   ]
  },
  {
   "cell_type": "code",
   "execution_count": null,
   "metadata": {},
   "outputs": [],
   "source": [
    "# Compile the model\n",
    "nn_A2.compile(loss=\"binary_crossentropy\", optimizer=\"adam\", metrics=[\"accuracy\"])"
   ]
  },
  {
   "cell_type": "code",
   "execution_count": null,
   "metadata": {},
   "outputs": [],
   "source": [
    "# Fit the model\n",
    "fit_model_A2 = nn_A2.fit(X_train_scaled, y_train, epochs=50)\n"
   ]
  },
  {
   "cell_type": "markdown",
   "metadata": {},
   "source": [
    "### Step 2: After finishing your models, display the accuracy scores achieved by each model, and compare the results."
   ]
  },
  {
   "cell_type": "code",
   "execution_count": null,
   "metadata": {},
   "outputs": [],
   "source": [
    "print(\"Original Model Results\")\n",
    "\n",
    "# Evaluate the model loss and accuracy metrics using the evaluate method and the test data\n",
    "model_loss, model_accuracy = nn.evaluate(X_test_scaled,y_test,verbose=2)\n",
    "\n",
    "# Display the model loss and accuracy results\n",
    "print(f\"Loss: {model_loss}, Accuracy: {model_accuracy}\")"
   ]
  },
  {
   "cell_type": "code",
   "execution_count": null,
   "metadata": {},
   "outputs": [],
   "source": [
    "print(\"Alternative Model 1 Results\")\n",
    "\n",
    "# Evaluate the model loss and accuracy metrics using the evaluate method and the test data\n",
    "model_loss, model_accuracy = nn_A1.evaluate(X_test_scaled,y_test,verbose=2)\n",
    "\n",
    "# Display the model loss and accuracy results\n",
    "print(f\"Loss: {model_loss}, Accuracy: {model_accuracy}\")"
   ]
  },
  {
   "cell_type": "code",
   "execution_count": null,
   "metadata": {},
   "outputs": [],
   "source": [
    "print(\"Alternative Model 2 Results\")\n",
    "\n",
    "\n",
    "# Evaluate the model loss and accuracy metrics using the evaluate method and the test data\n",
    "model_loss, model_accuracy = nn_A2.evaluate(X_test_scaled,y_test,verbose=2)\n",
    "\n",
    "# Display the model loss and accuracy results\n",
    "print(f\"Loss: {model_loss}, Accuracy: {model_accuracy}\")"
   ]
  },
  {
   "cell_type": "markdown",
   "metadata": {},
   "source": [
    "### Step 3: Save each of your alternative models as an HDF5 file.\n"
   ]
  },
  {
   "cell_type": "code",
   "execution_count": null,
   "metadata": {},
   "outputs": [],
   "source": [
    "# Set the file path for the first alternative model\n",
    "file_path = Path(\"AlphabetSoup_A1.h5\")\n",
    "\n",
    "# Export your model to an HDF5 file\n",
    "nn_A1.save(file_path)\n"
   ]
  },
  {
   "cell_type": "code",
   "execution_count": null,
   "metadata": {},
   "outputs": [],
   "source": [
    "# Set the file path for the second alternative model\n",
    "file_path = Path(\"AlphabetSoup_A2.h5\")\n",
    "\n",
    "# Export your model to an HDF5 file\n",
    "nn_A2.save(file_path)"
   ]
  },
  {
   "cell_type": "code",
   "execution_count": null,
   "metadata": {},
   "outputs": [],
   "source": [
    "# Increasing the # of outer neurons moved the accuracy closer to 1, but not by a significant amount in Alternate1.\n",
    "# Alternate2 yielded worse results moving the accuracy further from 1 with a 'softmax' activation."
   ]
  },
  {
   "cell_type": "code",
   "execution_count": null,
   "metadata": {},
   "outputs": [],
   "source": []
  }
 ],
 "metadata": {
  "kernelspec": {
   "display_name": "Python 3 (ipykernel)",
   "language": "python",
   "name": "python3"
  },
  "language_info": {
   "codemirror_mode": {
    "name": "ipython",
    "version": 3
   },
   "file_extension": ".py",
   "mimetype": "text/x-python",
   "name": "python",
   "nbconvert_exporter": "python",
   "pygments_lexer": "ipython3",
   "version": "3.9.12"
  }
 },
 "nbformat": 4,
 "nbformat_minor": 4
}
