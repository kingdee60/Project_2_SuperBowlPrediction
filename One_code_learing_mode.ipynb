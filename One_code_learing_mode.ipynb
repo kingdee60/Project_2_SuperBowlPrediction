{
 "cells": [
  {
   "cell_type": "code",
   "execution_count": 23,
   "id": "c482f2be-72b7-44f1-9689-2032413c215a",
   "metadata": {},
   "outputs": [],
   "source": [
    "# Initial imports\n",
    "import pandas as pd\n",
    "import numpy as np\n",
    "from sklearn.datasets import make_moons\n",
    "from sklearn.model_selection import train_test_split\n",
    "from sklearn.preprocessing import StandardScaler\n",
    "from tensorflow.keras.models import Sequential\n",
    "from tensorflow.keras.layers import Dense\n"
   ]
  },
  {
   "cell_type": "code",
   "execution_count": 24,
   "id": "5d642f8c-2f66-46fa-9076-f669f3e913a4",
   "metadata": {},
   "outputs": [],
   "source": [
    "# # Create a OneHotEncoder instance\n",
    "# enc = OneHotEncoder(sparse=False)"
   ]
  },
  {
   "cell_type": "code",
   "execution_count": 25,
   "id": "502370d3-22ec-460e-bea1-afdc6aa97e19",
   "metadata": {},
   "outputs": [],
   "source": [
    "season_2021_2011= pd.read_csv(\"2021_2011_regular_ season_1.csv\", \n",
    "                          index_col=\"Years\",\n",
    "                          parse_dates = True, \n",
    "                          infer_datetime_format = True\n",
    ")"
   ]
  },
  {
   "cell_type": "code",
   "execution_count": 26,
   "id": "5b3f5487-6554-461f-b650-1227dc284191",
   "metadata": {},
   "outputs": [],
   "source": [
    "season_2021_2011[\"Teams_code\"]= season_2021_2011[\"Teams\"].astype(\"category\").cat.codes"
   ]
  },
  {
   "cell_type": "code",
   "execution_count": 27,
   "id": "374b39dc-bb6e-4d25-b73e-ada8a95df8c9",
   "metadata": {},
   "outputs": [],
   "source": [
    "#season_2021_2011[\"Teams_code\"]"
   ]
  },
  {
   "cell_type": "code",
   "execution_count": 28,
   "id": "d34c247d-133a-4e93-bd36-31486c985ef2",
   "metadata": {},
   "outputs": [],
   "source": [
    "season_2021_2011[\"win\"] = (season_2021_2011[\"W\"] >= 8).astype(\"int\")"
   ]
  },
  {
   "cell_type": "code",
   "execution_count": 39,
   "id": "f020b780-3c5e-49a4-93ec-de4a5838a8a6",
   "metadata": {},
   "outputs": [
    {
     "data": {
      "text/plain": [
       "Years\n",
       "2021-01-01    1\n",
       "2021-01-01    1\n",
       "2021-01-01    1\n",
       "2021-01-01    0\n",
       "2021-01-01    1\n",
       "             ..\n",
       "2011-01-01    0\n",
       "2011-01-01    1\n",
       "2011-01-01    1\n",
       "2011-01-01    0\n",
       "2011-01-01    0\n",
       "Name: win, Length: 352, dtype: int32"
      ]
     },
     "execution_count": 39,
     "metadata": {},
     "output_type": "execute_result"
    }
   ],
   "source": [
    "# Preview the output variable \n",
    "y = season_2021_2011[\"win\"]\n",
    "y"
   ]
  },
  {
   "cell_type": "code",
   "execution_count": 40,
   "id": "0798e37a-5fdd-4577-a7c9-c45fda74e386",
   "metadata": {},
   "outputs": [
    {
     "data": {
      "text/plain": [
       "array([1, 1, 1, 0, 1, 1, 1, 1, 1, 1, 0, 0, 1, 1, 1, 0, 1, 1, 0, 0, 1, 1,\n",
       "       0, 0, 1, 1, 0, 0, 1, 1, 1, 0, 0, 0, 1, 1, 1, 1, 1, 0, 1, 1, 0, 0,\n",
       "       1, 1, 0, 0, 0, 0, 0, 0, 1, 1, 0, 0, 1, 1, 0, 0, 1, 1, 1, 0, 1, 1,\n",
       "       0, 0, 1, 1, 0, 0, 1, 1, 0, 0, 1, 0, 0, 0, 1, 1, 0, 0, 1, 1, 1, 0,\n",
       "       1, 0, 0, 0, 1, 1, 1, 0, 1, 0, 0, 0, 1, 1, 0, 0, 1, 1, 1, 0, 1, 1,\n",
       "       0, 0, 1, 1, 0, 0, 1, 1, 0, 0, 1, 0, 0, 0, 1, 1, 0, 0, 1, 1, 0, 0,\n",
       "       1, 1, 0, 0, 1, 1, 0, 0, 1, 1, 0, 0, 1, 1, 0, 0, 1, 1, 0, 0, 1, 1,\n",
       "       1, 0, 1, 1, 1, 0, 1, 1, 0, 0, 1, 1, 0, 0, 1, 1, 1, 0, 1, 1, 1, 0,\n",
       "       1, 1, 1, 0, 1, 1, 1, 0, 1, 1, 0, 0, 1, 0, 0, 0, 1, 1, 1, 0, 1, 1,\n",
       "       0, 0, 1, 1, 0, 0, 1, 1, 0, 0, 1, 0, 0, 0, 1, 1, 0, 0, 1, 1, 0, 0,\n",
       "       1, 1, 0, 0, 1, 1, 1, 0, 1, 1, 1, 0, 1, 1, 0, 0, 1, 1, 1, 0, 1, 1,\n",
       "       0, 0, 1, 1, 0, 0, 0, 0, 0, 0, 1, 1, 1, 0, 1, 1, 1, 0, 1, 1, 1, 0,\n",
       "       1, 0, 0, 0, 1, 1, 1, 0, 1, 1, 0, 0, 1, 1, 0, 0, 1, 1, 0, 0, 1, 1,\n",
       "       1, 0, 1, 0, 0, 0, 1, 1, 1, 0, 1, 1, 0, 0, 1, 0, 0, 0, 1, 1, 1, 0,\n",
       "       1, 1, 1, 0, 1, 0, 0, 0, 1, 1, 0, 0, 1, 1, 0, 0, 1, 1, 1, 0, 1, 1,\n",
       "       0, 0, 1, 1, 1, 0, 1, 1, 1, 0, 1, 1, 1, 0, 1, 1, 0, 0, 1, 1, 0, 0],\n",
       "      dtype=int64)"
      ]
     },
     "execution_count": 40,
     "metadata": {},
     "output_type": "execute_result"
    }
   ],
   "source": [
    "# Encode earnings labels to integers\n",
    "from sklearn.preprocessing import LabelEncoder\n",
    "encoder = LabelEncoder()\n",
    "encoder.fit(y)\n",
    "encoded_y = encoder.transform(y)\n",
    "encoded_y"
   ]
  },
  {
   "cell_type": "code",
   "execution_count": 42,
   "id": "1cf4f36a-28ed-4f4c-ba96-bca7183071a4",
   "metadata": {},
   "outputs": [],
   "source": [
    "# Imports\n",
    "from sklearn.preprocessing import OneHotEncoder"
   ]
  },
  {
   "cell_type": "code",
   "execution_count": 48,
   "id": "27215048-71ce-4475-85fa-22ed80e2085d",
   "metadata": {},
   "outputs": [],
   "source": [
    "# Create a OneHotEncoder instance\n",
    "enc = OneHotEncoder(sparse=False)"
   ]
  },
  {
   "cell_type": "code",
   "execution_count": 50,
   "id": "7103bfcf-cfa3-4f2a-a735-c24973284b5c",
   "metadata": {},
   "outputs": [
    {
     "ename": "ValueError",
     "evalue": "Expected 2D array, got 1D array instead:\narray=['Bills' 'Dolphins' 'Patriots' 'Jets' 'Bengals' 'Steelers' 'Browns'\n 'Ravens' 'Titans' 'Colts' 'Texans' 'Jaguars' 'Chiefs' 'Raiders'\n 'Chargers' 'Broncos' 'Cowboys' 'Eagles' 'Redskins' 'Giants' 'Packers'\n 'Vikings' 'Bears' 'Lions' 'Buccaneers' 'Saints' 'Falcons' 'Panthers'\n 'Rams' 'Cardinals' '49ers' 'Seahawks' 'Jets' 'Patriots' 'Dolphins'\n 'Bills' 'Steelers' 'Ravens' 'Browns' 'Bengals' 'Titans' 'Colts' 'Texans'\n 'Jaguars' 'Chiefs' 'Raiders' 'Chargers' 'Broncos' 'Redskins' 'Giants'\n 'Cowboys' 'Eagles' 'Packers' 'Bears' 'Vikings' 'Lions' 'Saints'\n 'Buccaneers' 'Panthers' 'Falcons' 'Seahawks' 'Rams' 'Cardinals' '49ers'\n 'Patriots' 'Bills' 'Jets' 'Dolphins' 'Ravens' 'Steelers' 'Browns'\n 'Bengals' 'Texans' 'Titans' 'Colts' 'Jaguars' 'Chiefs' 'Broncos'\n 'Raiders' 'Chargers' 'Eagles' 'Cowboys' 'Giants' 'Redskins' 'Packers'\n 'Vikings' 'Bears' 'Lions' 'Saints' 'Falcons' 'Buccaneers' 'Panthers'\n '49ers' 'Seahawks' 'Rams' 'Cardinals' 'Patriots' 'Dolphins' 'Bills'\n 'Jets' 'Ravens' 'Steelers' 'Browns' 'Bengals' 'Texans' 'Colts' 'Titans'\n 'Jaguars' 'Chiefs' 'Chargers' 'Broncos' 'Raiders' 'Cowboys' 'Eagles'\n 'Redskins' 'Giants' 'Bears' 'Vikings' 'Packers' 'Lions' 'Saints'\n 'Falcons' 'Panthers' 'Buccaneers' 'Rams' 'Seahawks' '49ers' 'Cardinals'\n 'Patriots' 'Bills' 'Dolphins' 'Jets' 'Steelers' 'Ravens' 'Bengals'\n 'Browns' 'Jaguars' 'Titans' 'Colts' 'Texans' 'Chiefs' 'Chargers'\n 'Raiders' 'Broncos' 'Eagles' 'Cowboys' 'Redskins' 'Giants' 'Vikings'\n 'Lions' 'Packers' 'Bears' 'Saints' 'Panthers' 'Falcons' 'Buccaneers'\n 'Rams' 'Seahawks' 'Cardinals' '49ers' 'Patriots' 'Dolphins' 'Bills'\n 'Jets' 'Steelers' 'Ravens' 'Bengals' 'Browns' 'Texans' 'Titans' 'Colts'\n 'Jaguars' 'Chiefs' 'Raiders' 'Broncos' 'Chargers' 'Cowboys' 'Giants'\n 'Redskins' 'Eagles' 'Packers' 'Lions' 'Vikings' 'Bears' 'Falcons'\n 'Buccaneers' 'Saints' 'Panthers' 'Seahawks' 'Cardinals' 'Rams' '49ers'\n 'Patriots' 'Jets' 'Bills' 'Dolphins' 'Bengals' 'Steelers' 'Ravens'\n 'Browns' 'Texans' 'Colts' 'Jaguars' 'Titans' 'Broncos' 'Chiefs' 'Raiders'\n 'Chargers' 'Redskins' 'Eagles' 'Giants' 'Cowboys' 'Vikings' 'Packers'\n 'Lions' 'Bears' 'Panthers' 'Falcons' 'Saints' 'Buccaneers' 'Cardinals'\n 'Seahawks' 'Rams' '49ers' 'Patriots' 'Bills' 'Dolphins' 'Jets' 'Steelers'\n 'Bengals' 'Ravens' 'Browns' 'Colts' 'Texans' 'Jaguars' 'Titans' 'Broncos'\n 'Chiefs' 'Chargers' 'Raiders' 'Cowboys' 'Eagles' 'Giants' 'Redskins'\n 'Packers' 'Lions' 'Vikings' 'Bears' 'Panthers' 'Saints' 'Falcons'\n 'Buccaneers' 'Seahawks' 'Cardinals' '49ers' 'Rams' 'Patriots' 'Jets'\n 'Dolphins' 'Bills' 'Bengals' 'Steelers' 'Ravens' 'Browns' 'Colts'\n 'Titans' 'Jaguars' 'Texans' 'Broncos' 'Chiefs' 'Chargers' 'Raiders'\n 'Eagles' 'Cowboys' 'Giants' 'Redskins' 'Packers' 'Bears' 'Lions'\n 'Vikings' 'Panthers' 'Saints' 'Falcons' 'Buccaneers' 'Seahawks' '49ers'\n 'Cardinals' 'Rams' 'Patriots' 'Dolphins' 'Jets' 'Bills' 'Ravens'\n 'Bengals' 'Steelers' 'Browns' 'Texans' 'Colts' 'Titans' 'Jaguars'\n 'Broncos' 'Chargers' 'Raiders' 'Chiefs' 'Redskins' 'Giants' 'Cowboys'\n 'Eagles' 'Packers' 'Vikings' 'Bears' 'Lions' 'Falcons' 'Panthers'\n 'Saints' 'Buccaneers' '49ers' 'Seahawks' 'Rams' 'Cardinals' 'Patriots'\n 'Jets' 'Dolphins' 'Bills' 'Ravens' 'Steelers' 'Bengals' 'Browns' 'Texans'\n 'Titans' 'Jaguars' 'Colts' 'Broncos' 'Chargers' 'Raiders' 'Chiefs'\n 'Giants' 'Eagles' 'Cowboys' 'Redskins' 'Packers' 'Lions' 'Bears'\n 'Vikings' 'Saints' 'Falcons' 'Panthers' 'Buccaneers' '49ers' 'Cardinals'\n 'Seahawks' 'Rams'].\nReshape your data either using array.reshape(-1, 1) if your data has a single feature or array.reshape(1, -1) if it contains a single sample.",
     "output_type": "error",
     "traceback": [
      "\u001b[1;31m---------------------------------------------------------------------------\u001b[0m",
      "\u001b[1;31mValueError\u001b[0m                                Traceback (most recent call last)",
      "Input \u001b[1;32mIn [50]\u001b[0m, in \u001b[0;36m<cell line: 5>\u001b[1;34m()\u001b[0m\n\u001b[0;32m      2\u001b[0m Teams_code \u001b[38;5;241m=\u001b[39m season_2021_2011[\u001b[38;5;124m\"\u001b[39m\u001b[38;5;124mTeams\u001b[39m\u001b[38;5;124m\"\u001b[39m]\n\u001b[0;32m      4\u001b[0m \u001b[38;5;66;03m# Use the fit_transform method from the OneHotEncoder to encode the data\u001b[39;00m\n\u001b[1;32m----> 5\u001b[0m encoded_data \u001b[38;5;241m=\u001b[39m \u001b[43menc\u001b[49m\u001b[38;5;241;43m.\u001b[39;49m\u001b[43mfit_transform\u001b[49m\u001b[43m(\u001b[49m\u001b[43mTeams_code\u001b[49m\u001b[43m)\u001b[49m\n",
      "File \u001b[1;32m~\\anaconda3\\lib\\site-packages\\sklearn\\preprocessing\\_encoders.py:488\u001b[0m, in \u001b[0;36mOneHotEncoder.fit_transform\u001b[1;34m(self, X, y)\u001b[0m\n\u001b[0;32m    466\u001b[0m \u001b[38;5;124;03m\"\"\"\u001b[39;00m\n\u001b[0;32m    467\u001b[0m \u001b[38;5;124;03mFit OneHotEncoder to X, then transform X.\u001b[39;00m\n\u001b[0;32m    468\u001b[0m \n\u001b[1;32m   (...)\u001b[0m\n\u001b[0;32m    485\u001b[0m \u001b[38;5;124;03m    returned.\u001b[39;00m\n\u001b[0;32m    486\u001b[0m \u001b[38;5;124;03m\"\"\"\u001b[39;00m\n\u001b[0;32m    487\u001b[0m \u001b[38;5;28mself\u001b[39m\u001b[38;5;241m.\u001b[39m_validate_keywords()\n\u001b[1;32m--> 488\u001b[0m \u001b[38;5;28;01mreturn\u001b[39;00m \u001b[38;5;28;43msuper\u001b[39;49m\u001b[43m(\u001b[49m\u001b[43m)\u001b[49m\u001b[38;5;241;43m.\u001b[39;49m\u001b[43mfit_transform\u001b[49m\u001b[43m(\u001b[49m\u001b[43mX\u001b[49m\u001b[43m,\u001b[49m\u001b[43m \u001b[49m\u001b[43my\u001b[49m\u001b[43m)\u001b[49m\n",
      "File \u001b[1;32m~\\anaconda3\\lib\\site-packages\\sklearn\\base.py:852\u001b[0m, in \u001b[0;36mTransformerMixin.fit_transform\u001b[1;34m(self, X, y, **fit_params)\u001b[0m\n\u001b[0;32m    848\u001b[0m \u001b[38;5;66;03m# non-optimized default implementation; override when a better\u001b[39;00m\n\u001b[0;32m    849\u001b[0m \u001b[38;5;66;03m# method is possible for a given clustering algorithm\u001b[39;00m\n\u001b[0;32m    850\u001b[0m \u001b[38;5;28;01mif\u001b[39;00m y \u001b[38;5;129;01mis\u001b[39;00m \u001b[38;5;28;01mNone\u001b[39;00m:\n\u001b[0;32m    851\u001b[0m     \u001b[38;5;66;03m# fit method of arity 1 (unsupervised transformation)\u001b[39;00m\n\u001b[1;32m--> 852\u001b[0m     \u001b[38;5;28;01mreturn\u001b[39;00m \u001b[38;5;28mself\u001b[39m\u001b[38;5;241m.\u001b[39mfit(X, \u001b[38;5;241m*\u001b[39m\u001b[38;5;241m*\u001b[39mfit_params)\u001b[38;5;241m.\u001b[39mtransform(X)\n\u001b[0;32m    853\u001b[0m \u001b[38;5;28;01melse\u001b[39;00m:\n\u001b[0;32m    854\u001b[0m     \u001b[38;5;66;03m# fit method of arity 2 (supervised transformation)\u001b[39;00m\n\u001b[0;32m    855\u001b[0m     \u001b[38;5;28;01mreturn\u001b[39;00m \u001b[38;5;28mself\u001b[39m\u001b[38;5;241m.\u001b[39mfit(X, y, \u001b[38;5;241m*\u001b[39m\u001b[38;5;241m*\u001b[39mfit_params)\u001b[38;5;241m.\u001b[39mtransform(X)\n",
      "File \u001b[1;32m~\\anaconda3\\lib\\site-packages\\sklearn\\preprocessing\\_encoders.py:461\u001b[0m, in \u001b[0;36mOneHotEncoder.fit\u001b[1;34m(self, X, y)\u001b[0m\n\u001b[0;32m    443\u001b[0m \u001b[38;5;124;03m\"\"\"\u001b[39;00m\n\u001b[0;32m    444\u001b[0m \u001b[38;5;124;03mFit OneHotEncoder to X.\u001b[39;00m\n\u001b[0;32m    445\u001b[0m \n\u001b[1;32m   (...)\u001b[0m\n\u001b[0;32m    458\u001b[0m \u001b[38;5;124;03m    Fitted encoder.\u001b[39;00m\n\u001b[0;32m    459\u001b[0m \u001b[38;5;124;03m\"\"\"\u001b[39;00m\n\u001b[0;32m    460\u001b[0m \u001b[38;5;28mself\u001b[39m\u001b[38;5;241m.\u001b[39m_validate_keywords()\n\u001b[1;32m--> 461\u001b[0m \u001b[38;5;28;43mself\u001b[39;49m\u001b[38;5;241;43m.\u001b[39;49m\u001b[43m_fit\u001b[49m\u001b[43m(\u001b[49m\u001b[43mX\u001b[49m\u001b[43m,\u001b[49m\u001b[43m \u001b[49m\u001b[43mhandle_unknown\u001b[49m\u001b[38;5;241;43m=\u001b[39;49m\u001b[38;5;28;43mself\u001b[39;49m\u001b[38;5;241;43m.\u001b[39;49m\u001b[43mhandle_unknown\u001b[49m\u001b[43m,\u001b[49m\u001b[43m \u001b[49m\u001b[43mforce_all_finite\u001b[49m\u001b[38;5;241;43m=\u001b[39;49m\u001b[38;5;124;43m\"\u001b[39;49m\u001b[38;5;124;43mallow-nan\u001b[39;49m\u001b[38;5;124;43m\"\u001b[39;49m\u001b[43m)\u001b[49m\n\u001b[0;32m    462\u001b[0m \u001b[38;5;28mself\u001b[39m\u001b[38;5;241m.\u001b[39mdrop_idx_ \u001b[38;5;241m=\u001b[39m \u001b[38;5;28mself\u001b[39m\u001b[38;5;241m.\u001b[39m_compute_drop_idx()\n\u001b[0;32m    463\u001b[0m \u001b[38;5;28;01mreturn\u001b[39;00m \u001b[38;5;28mself\u001b[39m\n",
      "File \u001b[1;32m~\\anaconda3\\lib\\site-packages\\sklearn\\preprocessing\\_encoders.py:77\u001b[0m, in \u001b[0;36m_BaseEncoder._fit\u001b[1;34m(self, X, handle_unknown, force_all_finite)\u001b[0m\n\u001b[0;32m     75\u001b[0m \u001b[38;5;28mself\u001b[39m\u001b[38;5;241m.\u001b[39m_check_n_features(X, reset\u001b[38;5;241m=\u001b[39m\u001b[38;5;28;01mTrue\u001b[39;00m)\n\u001b[0;32m     76\u001b[0m \u001b[38;5;28mself\u001b[39m\u001b[38;5;241m.\u001b[39m_check_feature_names(X, reset\u001b[38;5;241m=\u001b[39m\u001b[38;5;28;01mTrue\u001b[39;00m)\n\u001b[1;32m---> 77\u001b[0m X_list, n_samples, n_features \u001b[38;5;241m=\u001b[39m \u001b[38;5;28;43mself\u001b[39;49m\u001b[38;5;241;43m.\u001b[39;49m\u001b[43m_check_X\u001b[49m\u001b[43m(\u001b[49m\n\u001b[0;32m     78\u001b[0m \u001b[43m    \u001b[49m\u001b[43mX\u001b[49m\u001b[43m,\u001b[49m\u001b[43m \u001b[49m\u001b[43mforce_all_finite\u001b[49m\u001b[38;5;241;43m=\u001b[39;49m\u001b[43mforce_all_finite\u001b[49m\n\u001b[0;32m     79\u001b[0m \u001b[43m\u001b[49m\u001b[43m)\u001b[49m\n\u001b[0;32m     80\u001b[0m \u001b[38;5;28mself\u001b[39m\u001b[38;5;241m.\u001b[39mn_features_in_ \u001b[38;5;241m=\u001b[39m n_features\n\u001b[0;32m     82\u001b[0m \u001b[38;5;28;01mif\u001b[39;00m \u001b[38;5;28mself\u001b[39m\u001b[38;5;241m.\u001b[39mcategories \u001b[38;5;241m!=\u001b[39m \u001b[38;5;124m\"\u001b[39m\u001b[38;5;124mauto\u001b[39m\u001b[38;5;124m\"\u001b[39m:\n",
      "File \u001b[1;32m~\\anaconda3\\lib\\site-packages\\sklearn\\preprocessing\\_encoders.py:44\u001b[0m, in \u001b[0;36m_BaseEncoder._check_X\u001b[1;34m(self, X, force_all_finite)\u001b[0m\n\u001b[0;32m     31\u001b[0m \u001b[38;5;124;03m\"\"\"\u001b[39;00m\n\u001b[0;32m     32\u001b[0m \u001b[38;5;124;03mPerform custom check_array:\u001b[39;00m\n\u001b[0;32m     33\u001b[0m \u001b[38;5;124;03m- convert list of strings to object dtype\u001b[39;00m\n\u001b[1;32m   (...)\u001b[0m\n\u001b[0;32m     40\u001b[0m \n\u001b[0;32m     41\u001b[0m \u001b[38;5;124;03m\"\"\"\u001b[39;00m\n\u001b[0;32m     42\u001b[0m \u001b[38;5;28;01mif\u001b[39;00m \u001b[38;5;129;01mnot\u001b[39;00m (\u001b[38;5;28mhasattr\u001b[39m(X, \u001b[38;5;124m\"\u001b[39m\u001b[38;5;124miloc\u001b[39m\u001b[38;5;124m\"\u001b[39m) \u001b[38;5;129;01mand\u001b[39;00m \u001b[38;5;28mgetattr\u001b[39m(X, \u001b[38;5;124m\"\u001b[39m\u001b[38;5;124mndim\u001b[39m\u001b[38;5;124m\"\u001b[39m, \u001b[38;5;241m0\u001b[39m) \u001b[38;5;241m==\u001b[39m \u001b[38;5;241m2\u001b[39m):\n\u001b[0;32m     43\u001b[0m     \u001b[38;5;66;03m# if not a dataframe, do normal check_array validation\u001b[39;00m\n\u001b[1;32m---> 44\u001b[0m     X_temp \u001b[38;5;241m=\u001b[39m \u001b[43mcheck_array\u001b[49m\u001b[43m(\u001b[49m\u001b[43mX\u001b[49m\u001b[43m,\u001b[49m\u001b[43m \u001b[49m\u001b[43mdtype\u001b[49m\u001b[38;5;241;43m=\u001b[39;49m\u001b[38;5;28;43;01mNone\u001b[39;49;00m\u001b[43m,\u001b[49m\u001b[43m \u001b[49m\u001b[43mforce_all_finite\u001b[49m\u001b[38;5;241;43m=\u001b[39;49m\u001b[43mforce_all_finite\u001b[49m\u001b[43m)\u001b[49m\n\u001b[0;32m     45\u001b[0m     \u001b[38;5;28;01mif\u001b[39;00m \u001b[38;5;129;01mnot\u001b[39;00m \u001b[38;5;28mhasattr\u001b[39m(X, \u001b[38;5;124m\"\u001b[39m\u001b[38;5;124mdtype\u001b[39m\u001b[38;5;124m\"\u001b[39m) \u001b[38;5;129;01mand\u001b[39;00m np\u001b[38;5;241m.\u001b[39missubdtype(X_temp\u001b[38;5;241m.\u001b[39mdtype, np\u001b[38;5;241m.\u001b[39mstr_):\n\u001b[0;32m     46\u001b[0m         X \u001b[38;5;241m=\u001b[39m check_array(X, dtype\u001b[38;5;241m=\u001b[39m\u001b[38;5;28mobject\u001b[39m, force_all_finite\u001b[38;5;241m=\u001b[39mforce_all_finite)\n",
      "File \u001b[1;32m~\\anaconda3\\lib\\site-packages\\sklearn\\utils\\validation.py:769\u001b[0m, in \u001b[0;36mcheck_array\u001b[1;34m(array, accept_sparse, accept_large_sparse, dtype, order, copy, force_all_finite, ensure_2d, allow_nd, ensure_min_samples, ensure_min_features, estimator)\u001b[0m\n\u001b[0;32m    767\u001b[0m     \u001b[38;5;66;03m# If input is 1D raise error\u001b[39;00m\n\u001b[0;32m    768\u001b[0m     \u001b[38;5;28;01mif\u001b[39;00m array\u001b[38;5;241m.\u001b[39mndim \u001b[38;5;241m==\u001b[39m \u001b[38;5;241m1\u001b[39m:\n\u001b[1;32m--> 769\u001b[0m         \u001b[38;5;28;01mraise\u001b[39;00m \u001b[38;5;167;01mValueError\u001b[39;00m(\n\u001b[0;32m    770\u001b[0m             \u001b[38;5;124m\"\u001b[39m\u001b[38;5;124mExpected 2D array, got 1D array instead:\u001b[39m\u001b[38;5;130;01m\\n\u001b[39;00m\u001b[38;5;124marray=\u001b[39m\u001b[38;5;132;01m{}\u001b[39;00m\u001b[38;5;124m.\u001b[39m\u001b[38;5;130;01m\\n\u001b[39;00m\u001b[38;5;124m\"\u001b[39m\n\u001b[0;32m    771\u001b[0m             \u001b[38;5;124m\"\u001b[39m\u001b[38;5;124mReshape your data either using array.reshape(-1, 1) if \u001b[39m\u001b[38;5;124m\"\u001b[39m\n\u001b[0;32m    772\u001b[0m             \u001b[38;5;124m\"\u001b[39m\u001b[38;5;124myour data has a single feature or array.reshape(1, -1) \u001b[39m\u001b[38;5;124m\"\u001b[39m\n\u001b[0;32m    773\u001b[0m             \u001b[38;5;124m\"\u001b[39m\u001b[38;5;124mif it contains a single sample.\u001b[39m\u001b[38;5;124m\"\u001b[39m\u001b[38;5;241m.\u001b[39mformat(array)\n\u001b[0;32m    774\u001b[0m         )\n\u001b[0;32m    776\u001b[0m \u001b[38;5;66;03m# make sure we actually converted to numeric:\u001b[39;00m\n\u001b[0;32m    777\u001b[0m \u001b[38;5;28;01mif\u001b[39;00m dtype_numeric \u001b[38;5;129;01mand\u001b[39;00m array\u001b[38;5;241m.\u001b[39mdtype\u001b[38;5;241m.\u001b[39mkind \u001b[38;5;129;01min\u001b[39;00m \u001b[38;5;124m\"\u001b[39m\u001b[38;5;124mOUSV\u001b[39m\u001b[38;5;124m\"\u001b[39m:\n",
      "\u001b[1;31mValueError\u001b[0m: Expected 2D array, got 1D array instead:\narray=['Bills' 'Dolphins' 'Patriots' 'Jets' 'Bengals' 'Steelers' 'Browns'\n 'Ravens' 'Titans' 'Colts' 'Texans' 'Jaguars' 'Chiefs' 'Raiders'\n 'Chargers' 'Broncos' 'Cowboys' 'Eagles' 'Redskins' 'Giants' 'Packers'\n 'Vikings' 'Bears' 'Lions' 'Buccaneers' 'Saints' 'Falcons' 'Panthers'\n 'Rams' 'Cardinals' '49ers' 'Seahawks' 'Jets' 'Patriots' 'Dolphins'\n 'Bills' 'Steelers' 'Ravens' 'Browns' 'Bengals' 'Titans' 'Colts' 'Texans'\n 'Jaguars' 'Chiefs' 'Raiders' 'Chargers' 'Broncos' 'Redskins' 'Giants'\n 'Cowboys' 'Eagles' 'Packers' 'Bears' 'Vikings' 'Lions' 'Saints'\n 'Buccaneers' 'Panthers' 'Falcons' 'Seahawks' 'Rams' 'Cardinals' '49ers'\n 'Patriots' 'Bills' 'Jets' 'Dolphins' 'Ravens' 'Steelers' 'Browns'\n 'Bengals' 'Texans' 'Titans' 'Colts' 'Jaguars' 'Chiefs' 'Broncos'\n 'Raiders' 'Chargers' 'Eagles' 'Cowboys' 'Giants' 'Redskins' 'Packers'\n 'Vikings' 'Bears' 'Lions' 'Saints' 'Falcons' 'Buccaneers' 'Panthers'\n '49ers' 'Seahawks' 'Rams' 'Cardinals' 'Patriots' 'Dolphins' 'Bills'\n 'Jets' 'Ravens' 'Steelers' 'Browns' 'Bengals' 'Texans' 'Colts' 'Titans'\n 'Jaguars' 'Chiefs' 'Chargers' 'Broncos' 'Raiders' 'Cowboys' 'Eagles'\n 'Redskins' 'Giants' 'Bears' 'Vikings' 'Packers' 'Lions' 'Saints'\n 'Falcons' 'Panthers' 'Buccaneers' 'Rams' 'Seahawks' '49ers' 'Cardinals'\n 'Patriots' 'Bills' 'Dolphins' 'Jets' 'Steelers' 'Ravens' 'Bengals'\n 'Browns' 'Jaguars' 'Titans' 'Colts' 'Texans' 'Chiefs' 'Chargers'\n 'Raiders' 'Broncos' 'Eagles' 'Cowboys' 'Redskins' 'Giants' 'Vikings'\n 'Lions' 'Packers' 'Bears' 'Saints' 'Panthers' 'Falcons' 'Buccaneers'\n 'Rams' 'Seahawks' 'Cardinals' '49ers' 'Patriots' 'Dolphins' 'Bills'\n 'Jets' 'Steelers' 'Ravens' 'Bengals' 'Browns' 'Texans' 'Titans' 'Colts'\n 'Jaguars' 'Chiefs' 'Raiders' 'Broncos' 'Chargers' 'Cowboys' 'Giants'\n 'Redskins' 'Eagles' 'Packers' 'Lions' 'Vikings' 'Bears' 'Falcons'\n 'Buccaneers' 'Saints' 'Panthers' 'Seahawks' 'Cardinals' 'Rams' '49ers'\n 'Patriots' 'Jets' 'Bills' 'Dolphins' 'Bengals' 'Steelers' 'Ravens'\n 'Browns' 'Texans' 'Colts' 'Jaguars' 'Titans' 'Broncos' 'Chiefs' 'Raiders'\n 'Chargers' 'Redskins' 'Eagles' 'Giants' 'Cowboys' 'Vikings' 'Packers'\n 'Lions' 'Bears' 'Panthers' 'Falcons' 'Saints' 'Buccaneers' 'Cardinals'\n 'Seahawks' 'Rams' '49ers' 'Patriots' 'Bills' 'Dolphins' 'Jets' 'Steelers'\n 'Bengals' 'Ravens' 'Browns' 'Colts' 'Texans' 'Jaguars' 'Titans' 'Broncos'\n 'Chiefs' 'Chargers' 'Raiders' 'Cowboys' 'Eagles' 'Giants' 'Redskins'\n 'Packers' 'Lions' 'Vikings' 'Bears' 'Panthers' 'Saints' 'Falcons'\n 'Buccaneers' 'Seahawks' 'Cardinals' '49ers' 'Rams' 'Patriots' 'Jets'\n 'Dolphins' 'Bills' 'Bengals' 'Steelers' 'Ravens' 'Browns' 'Colts'\n 'Titans' 'Jaguars' 'Texans' 'Broncos' 'Chiefs' 'Chargers' 'Raiders'\n 'Eagles' 'Cowboys' 'Giants' 'Redskins' 'Packers' 'Bears' 'Lions'\n 'Vikings' 'Panthers' 'Saints' 'Falcons' 'Buccaneers' 'Seahawks' '49ers'\n 'Cardinals' 'Rams' 'Patriots' 'Dolphins' 'Jets' 'Bills' 'Ravens'\n 'Bengals' 'Steelers' 'Browns' 'Texans' 'Colts' 'Titans' 'Jaguars'\n 'Broncos' 'Chargers' 'Raiders' 'Chiefs' 'Redskins' 'Giants' 'Cowboys'\n 'Eagles' 'Packers' 'Vikings' 'Bears' 'Lions' 'Falcons' 'Panthers'\n 'Saints' 'Buccaneers' '49ers' 'Seahawks' 'Rams' 'Cardinals' 'Patriots'\n 'Jets' 'Dolphins' 'Bills' 'Ravens' 'Steelers' 'Bengals' 'Browns' 'Texans'\n 'Titans' 'Jaguars' 'Colts' 'Broncos' 'Chargers' 'Raiders' 'Chiefs'\n 'Giants' 'Eagles' 'Cowboys' 'Redskins' 'Packers' 'Lions' 'Bears'\n 'Vikings' 'Saints' 'Falcons' 'Panthers' 'Buccaneers' '49ers' 'Cardinals'\n 'Seahawks' 'Rams'].\nReshape your data either using array.reshape(-1, 1) if your data has a single feature or array.reshape(1, -1) if it contains a single sample."
     ]
    }
   ],
   "source": [
    "# Create a list of the columns with categorical variables\n",
    "Teams_code = season_2021_2011[\"Teams\"]\n",
    "\n",
    "# Use the fit_transform method from the OneHotEncoder to encode the data\n",
    "encoded_data = enc.fit_transform(Teams_code)"
   ]
  },
  {
   "cell_type": "code",
   "execution_count": 43,
   "id": "7bf3604e-1e94-423d-bb9a-e930880228d0",
   "metadata": {},
   "outputs": [],
   "source": [
    "# # Split the data into X (features) and y (target)\n",
    "\n",
    "# # The y variable should focus on the target column\n",
    "# y = season_2021_2011[\"win\"]\n",
    "\n",
    "# The X variable should include all features except the target\n",
    "X = season_2021_2011[\"Teams_code\"]\n"
   ]
  },
  {
   "cell_type": "code",
   "execution_count": 44,
   "id": "27703562-e224-46e4-a979-769a1da3e0cb",
   "metadata": {},
   "outputs": [],
   "source": [
    "# Split into testing and training sets using train_test_split\n",
    "X_train, X_test, y_train, y_test = train_test_split(X, y)"
   ]
  },
  {
   "cell_type": "code",
   "execution_count": 45,
   "id": "56c053ce-fcae-46b3-8303-cae4c0e11e38",
   "metadata": {},
   "outputs": [],
   "source": [
    "from sklearn.linear_model import LogisticRegression"
   ]
  },
  {
   "cell_type": "code",
   "execution_count": 46,
   "id": "d648025b-b40c-45bc-bacc-8d2bf2a51c9e",
   "metadata": {},
   "outputs": [
    {
     "ename": "ValueError",
     "evalue": "Expected 2D array, got 1D array instead:\narray=[ 0. 12. 14.  6.  9.  0.  3. 13. 23. 30.  7. 21. 13.  7.  2.  8. 15.  2.\n 27. 28. 31. 15. 28.  4. 19. 13.  1.  9. 12.  5.  1.  2. 16. 14. 25.  0.\n  5. 19. 13. 26. 25. 18.  9.  5. 20. 17. 23.  4.  5.  9. 15. 16. 16. 22.\n 20. 29. 10. 21. 23.  1. 20. 23. 10. 19.  3.  5.  0. 29. 31.  9. 26. 20.\n 17.  8. 29. 12. 23.  6.  7. 31. 31. 29. 16. 14. 22. 10. 21. 30. 17.  3.\n 27.  1. 30. 11.  1. 10. 23. 13.  2. 18. 13. 14.  6.  0.  3. 25. 24. 20.\n 11. 26. 26. 25. 28.  2. 11.  4. 10.  9. 28. 27. 22.  4. 11. 11. 24. 28.\n 22. 11. 15. 19. 26. 12.  5.  0.  6.  7. 22. 16. 16. 20. 29. 16.  6. 15.\n 19. 20. 20. 15. 28.  6.  5. 15. 11.  7. 23. 25. 24. 24.  6. 17.  1.  3.\n 18. 29. 14. 30. 19.  6. 11. 22.  8. 26. 23. 27. 21. 12. 18. 25. 18. 26.\n 26. 22. 30. 10.  8.  3. 18. 10.  3. 22. 24. 24. 28. 25.  7. 17. 13.  7.\n 27.  5. 13. 21. 27. 21. 14.  9.  4. 14. 12. 22. 18. 20. 17. 10.  4.  0.\n  6. 15. 12. 20. 31. 13. 30. 30.  2.  5. 25.  6.  8. 24. 14. 24. 24. 13.\n 14. 27.  4. 12. 26.  4. 27. 12. 27.  2. 23. 29.  2.  5. 19.  0.  2. 26.\n 28. 16.  6. 22. 21.  3.  2.  9. 20.  9. 18. 16.].\nReshape your data either using array.reshape(-1, 1) if your data has a single feature or array.reshape(1, -1) if it contains a single sample.",
     "output_type": "error",
     "traceback": [
      "\u001b[1;31m---------------------------------------------------------------------------\u001b[0m",
      "\u001b[1;31mValueError\u001b[0m                                Traceback (most recent call last)",
      "Input \u001b[1;32mIn [46]\u001b[0m, in \u001b[0;36m<cell line: 6>\u001b[1;34m()\u001b[0m\n\u001b[0;32m      3\u001b[0m logistic_regression_model \u001b[38;5;241m=\u001b[39m LogisticRegression(random_state\u001b[38;5;241m=\u001b[39m\u001b[38;5;241m9\u001b[39m)\n\u001b[0;32m      5\u001b[0m \u001b[38;5;66;03m# Fit and save the logistic regression model using the training data\u001b[39;00m\n\u001b[1;32m----> 6\u001b[0m lr_model \u001b[38;5;241m=\u001b[39m \u001b[43mlogistic_regression_model\u001b[49m\u001b[38;5;241;43m.\u001b[39;49m\u001b[43mfit\u001b[49m\u001b[43m(\u001b[49m\u001b[43mX_train\u001b[49m\u001b[43m,\u001b[49m\u001b[43m \u001b[49m\u001b[43my_train\u001b[49m\u001b[43m)\u001b[49m\n",
      "File \u001b[1;32m~\\anaconda3\\lib\\site-packages\\sklearn\\linear_model\\_logistic.py:1508\u001b[0m, in \u001b[0;36mLogisticRegression.fit\u001b[1;34m(self, X, y, sample_weight)\u001b[0m\n\u001b[0;32m   1505\u001b[0m \u001b[38;5;28;01melse\u001b[39;00m:\n\u001b[0;32m   1506\u001b[0m     _dtype \u001b[38;5;241m=\u001b[39m [np\u001b[38;5;241m.\u001b[39mfloat64, np\u001b[38;5;241m.\u001b[39mfloat32]\n\u001b[1;32m-> 1508\u001b[0m X, y \u001b[38;5;241m=\u001b[39m \u001b[38;5;28;43mself\u001b[39;49m\u001b[38;5;241;43m.\u001b[39;49m\u001b[43m_validate_data\u001b[49m\u001b[43m(\u001b[49m\n\u001b[0;32m   1509\u001b[0m \u001b[43m    \u001b[49m\u001b[43mX\u001b[49m\u001b[43m,\u001b[49m\n\u001b[0;32m   1510\u001b[0m \u001b[43m    \u001b[49m\u001b[43my\u001b[49m\u001b[43m,\u001b[49m\n\u001b[0;32m   1511\u001b[0m \u001b[43m    \u001b[49m\u001b[43maccept_sparse\u001b[49m\u001b[38;5;241;43m=\u001b[39;49m\u001b[38;5;124;43m\"\u001b[39;49m\u001b[38;5;124;43mcsr\u001b[39;49m\u001b[38;5;124;43m\"\u001b[39;49m\u001b[43m,\u001b[49m\n\u001b[0;32m   1512\u001b[0m \u001b[43m    \u001b[49m\u001b[43mdtype\u001b[49m\u001b[38;5;241;43m=\u001b[39;49m\u001b[43m_dtype\u001b[49m\u001b[43m,\u001b[49m\n\u001b[0;32m   1513\u001b[0m \u001b[43m    \u001b[49m\u001b[43morder\u001b[49m\u001b[38;5;241;43m=\u001b[39;49m\u001b[38;5;124;43m\"\u001b[39;49m\u001b[38;5;124;43mC\u001b[39;49m\u001b[38;5;124;43m\"\u001b[39;49m\u001b[43m,\u001b[49m\n\u001b[0;32m   1514\u001b[0m \u001b[43m    \u001b[49m\u001b[43maccept_large_sparse\u001b[49m\u001b[38;5;241;43m=\u001b[39;49m\u001b[43msolver\u001b[49m\u001b[43m \u001b[49m\u001b[38;5;129;43;01mnot\u001b[39;49;00m\u001b[43m \u001b[49m\u001b[38;5;129;43;01min\u001b[39;49;00m\u001b[43m \u001b[49m\u001b[43m[\u001b[49m\u001b[38;5;124;43m\"\u001b[39;49m\u001b[38;5;124;43mliblinear\u001b[39;49m\u001b[38;5;124;43m\"\u001b[39;49m\u001b[43m,\u001b[49m\u001b[43m \u001b[49m\u001b[38;5;124;43m\"\u001b[39;49m\u001b[38;5;124;43msag\u001b[39;49m\u001b[38;5;124;43m\"\u001b[39;49m\u001b[43m,\u001b[49m\u001b[43m \u001b[49m\u001b[38;5;124;43m\"\u001b[39;49m\u001b[38;5;124;43msaga\u001b[39;49m\u001b[38;5;124;43m\"\u001b[39;49m\u001b[43m]\u001b[49m\u001b[43m,\u001b[49m\n\u001b[0;32m   1515\u001b[0m \u001b[43m\u001b[49m\u001b[43m)\u001b[49m\n\u001b[0;32m   1516\u001b[0m check_classification_targets(y)\n\u001b[0;32m   1517\u001b[0m \u001b[38;5;28mself\u001b[39m\u001b[38;5;241m.\u001b[39mclasses_ \u001b[38;5;241m=\u001b[39m np\u001b[38;5;241m.\u001b[39munique(y)\n",
      "File \u001b[1;32m~\\anaconda3\\lib\\site-packages\\sklearn\\base.py:581\u001b[0m, in \u001b[0;36mBaseEstimator._validate_data\u001b[1;34m(self, X, y, reset, validate_separately, **check_params)\u001b[0m\n\u001b[0;32m    579\u001b[0m         y \u001b[38;5;241m=\u001b[39m check_array(y, \u001b[38;5;241m*\u001b[39m\u001b[38;5;241m*\u001b[39mcheck_y_params)\n\u001b[0;32m    580\u001b[0m     \u001b[38;5;28;01melse\u001b[39;00m:\n\u001b[1;32m--> 581\u001b[0m         X, y \u001b[38;5;241m=\u001b[39m check_X_y(X, y, \u001b[38;5;241m*\u001b[39m\u001b[38;5;241m*\u001b[39mcheck_params)\n\u001b[0;32m    582\u001b[0m     out \u001b[38;5;241m=\u001b[39m X, y\n\u001b[0;32m    584\u001b[0m \u001b[38;5;28;01mif\u001b[39;00m \u001b[38;5;129;01mnot\u001b[39;00m no_val_X \u001b[38;5;129;01mand\u001b[39;00m check_params\u001b[38;5;241m.\u001b[39mget(\u001b[38;5;124m\"\u001b[39m\u001b[38;5;124mensure_2d\u001b[39m\u001b[38;5;124m\"\u001b[39m, \u001b[38;5;28;01mTrue\u001b[39;00m):\n",
      "File \u001b[1;32m~\\anaconda3\\lib\\site-packages\\sklearn\\utils\\validation.py:964\u001b[0m, in \u001b[0;36mcheck_X_y\u001b[1;34m(X, y, accept_sparse, accept_large_sparse, dtype, order, copy, force_all_finite, ensure_2d, allow_nd, multi_output, ensure_min_samples, ensure_min_features, y_numeric, estimator)\u001b[0m\n\u001b[0;32m    961\u001b[0m \u001b[38;5;28;01mif\u001b[39;00m y \u001b[38;5;129;01mis\u001b[39;00m \u001b[38;5;28;01mNone\u001b[39;00m:\n\u001b[0;32m    962\u001b[0m     \u001b[38;5;28;01mraise\u001b[39;00m \u001b[38;5;167;01mValueError\u001b[39;00m(\u001b[38;5;124m\"\u001b[39m\u001b[38;5;124my cannot be None\u001b[39m\u001b[38;5;124m\"\u001b[39m)\n\u001b[1;32m--> 964\u001b[0m X \u001b[38;5;241m=\u001b[39m \u001b[43mcheck_array\u001b[49m\u001b[43m(\u001b[49m\n\u001b[0;32m    965\u001b[0m \u001b[43m    \u001b[49m\u001b[43mX\u001b[49m\u001b[43m,\u001b[49m\n\u001b[0;32m    966\u001b[0m \u001b[43m    \u001b[49m\u001b[43maccept_sparse\u001b[49m\u001b[38;5;241;43m=\u001b[39;49m\u001b[43maccept_sparse\u001b[49m\u001b[43m,\u001b[49m\n\u001b[0;32m    967\u001b[0m \u001b[43m    \u001b[49m\u001b[43maccept_large_sparse\u001b[49m\u001b[38;5;241;43m=\u001b[39;49m\u001b[43maccept_large_sparse\u001b[49m\u001b[43m,\u001b[49m\n\u001b[0;32m    968\u001b[0m \u001b[43m    \u001b[49m\u001b[43mdtype\u001b[49m\u001b[38;5;241;43m=\u001b[39;49m\u001b[43mdtype\u001b[49m\u001b[43m,\u001b[49m\n\u001b[0;32m    969\u001b[0m \u001b[43m    \u001b[49m\u001b[43morder\u001b[49m\u001b[38;5;241;43m=\u001b[39;49m\u001b[43morder\u001b[49m\u001b[43m,\u001b[49m\n\u001b[0;32m    970\u001b[0m \u001b[43m    \u001b[49m\u001b[43mcopy\u001b[49m\u001b[38;5;241;43m=\u001b[39;49m\u001b[43mcopy\u001b[49m\u001b[43m,\u001b[49m\n\u001b[0;32m    971\u001b[0m \u001b[43m    \u001b[49m\u001b[43mforce_all_finite\u001b[49m\u001b[38;5;241;43m=\u001b[39;49m\u001b[43mforce_all_finite\u001b[49m\u001b[43m,\u001b[49m\n\u001b[0;32m    972\u001b[0m \u001b[43m    \u001b[49m\u001b[43mensure_2d\u001b[49m\u001b[38;5;241;43m=\u001b[39;49m\u001b[43mensure_2d\u001b[49m\u001b[43m,\u001b[49m\n\u001b[0;32m    973\u001b[0m \u001b[43m    \u001b[49m\u001b[43mallow_nd\u001b[49m\u001b[38;5;241;43m=\u001b[39;49m\u001b[43mallow_nd\u001b[49m\u001b[43m,\u001b[49m\n\u001b[0;32m    974\u001b[0m \u001b[43m    \u001b[49m\u001b[43mensure_min_samples\u001b[49m\u001b[38;5;241;43m=\u001b[39;49m\u001b[43mensure_min_samples\u001b[49m\u001b[43m,\u001b[49m\n\u001b[0;32m    975\u001b[0m \u001b[43m    \u001b[49m\u001b[43mensure_min_features\u001b[49m\u001b[38;5;241;43m=\u001b[39;49m\u001b[43mensure_min_features\u001b[49m\u001b[43m,\u001b[49m\n\u001b[0;32m    976\u001b[0m \u001b[43m    \u001b[49m\u001b[43mestimator\u001b[49m\u001b[38;5;241;43m=\u001b[39;49m\u001b[43mestimator\u001b[49m\u001b[43m,\u001b[49m\n\u001b[0;32m    977\u001b[0m \u001b[43m\u001b[49m\u001b[43m)\u001b[49m\n\u001b[0;32m    979\u001b[0m y \u001b[38;5;241m=\u001b[39m _check_y(y, multi_output\u001b[38;5;241m=\u001b[39mmulti_output, y_numeric\u001b[38;5;241m=\u001b[39my_numeric)\n\u001b[0;32m    981\u001b[0m check_consistent_length(X, y)\n",
      "File \u001b[1;32m~\\anaconda3\\lib\\site-packages\\sklearn\\utils\\validation.py:769\u001b[0m, in \u001b[0;36mcheck_array\u001b[1;34m(array, accept_sparse, accept_large_sparse, dtype, order, copy, force_all_finite, ensure_2d, allow_nd, ensure_min_samples, ensure_min_features, estimator)\u001b[0m\n\u001b[0;32m    767\u001b[0m     \u001b[38;5;66;03m# If input is 1D raise error\u001b[39;00m\n\u001b[0;32m    768\u001b[0m     \u001b[38;5;28;01mif\u001b[39;00m array\u001b[38;5;241m.\u001b[39mndim \u001b[38;5;241m==\u001b[39m \u001b[38;5;241m1\u001b[39m:\n\u001b[1;32m--> 769\u001b[0m         \u001b[38;5;28;01mraise\u001b[39;00m \u001b[38;5;167;01mValueError\u001b[39;00m(\n\u001b[0;32m    770\u001b[0m             \u001b[38;5;124m\"\u001b[39m\u001b[38;5;124mExpected 2D array, got 1D array instead:\u001b[39m\u001b[38;5;130;01m\\n\u001b[39;00m\u001b[38;5;124marray=\u001b[39m\u001b[38;5;132;01m{}\u001b[39;00m\u001b[38;5;124m.\u001b[39m\u001b[38;5;130;01m\\n\u001b[39;00m\u001b[38;5;124m\"\u001b[39m\n\u001b[0;32m    771\u001b[0m             \u001b[38;5;124m\"\u001b[39m\u001b[38;5;124mReshape your data either using array.reshape(-1, 1) if \u001b[39m\u001b[38;5;124m\"\u001b[39m\n\u001b[0;32m    772\u001b[0m             \u001b[38;5;124m\"\u001b[39m\u001b[38;5;124myour data has a single feature or array.reshape(1, -1) \u001b[39m\u001b[38;5;124m\"\u001b[39m\n\u001b[0;32m    773\u001b[0m             \u001b[38;5;124m\"\u001b[39m\u001b[38;5;124mif it contains a single sample.\u001b[39m\u001b[38;5;124m\"\u001b[39m\u001b[38;5;241m.\u001b[39mformat(array)\n\u001b[0;32m    774\u001b[0m         )\n\u001b[0;32m    776\u001b[0m \u001b[38;5;66;03m# make sure we actually converted to numeric:\u001b[39;00m\n\u001b[0;32m    777\u001b[0m \u001b[38;5;28;01mif\u001b[39;00m dtype_numeric \u001b[38;5;129;01mand\u001b[39;00m array\u001b[38;5;241m.\u001b[39mdtype\u001b[38;5;241m.\u001b[39mkind \u001b[38;5;129;01min\u001b[39;00m \u001b[38;5;124m\"\u001b[39m\u001b[38;5;124mOUSV\u001b[39m\u001b[38;5;124m\"\u001b[39m:\n",
      "\u001b[1;31mValueError\u001b[0m: Expected 2D array, got 1D array instead:\narray=[ 0. 12. 14.  6.  9.  0.  3. 13. 23. 30.  7. 21. 13.  7.  2.  8. 15.  2.\n 27. 28. 31. 15. 28.  4. 19. 13.  1.  9. 12.  5.  1.  2. 16. 14. 25.  0.\n  5. 19. 13. 26. 25. 18.  9.  5. 20. 17. 23.  4.  5.  9. 15. 16. 16. 22.\n 20. 29. 10. 21. 23.  1. 20. 23. 10. 19.  3.  5.  0. 29. 31.  9. 26. 20.\n 17.  8. 29. 12. 23.  6.  7. 31. 31. 29. 16. 14. 22. 10. 21. 30. 17.  3.\n 27.  1. 30. 11.  1. 10. 23. 13.  2. 18. 13. 14.  6.  0.  3. 25. 24. 20.\n 11. 26. 26. 25. 28.  2. 11.  4. 10.  9. 28. 27. 22.  4. 11. 11. 24. 28.\n 22. 11. 15. 19. 26. 12.  5.  0.  6.  7. 22. 16. 16. 20. 29. 16.  6. 15.\n 19. 20. 20. 15. 28.  6.  5. 15. 11.  7. 23. 25. 24. 24.  6. 17.  1.  3.\n 18. 29. 14. 30. 19.  6. 11. 22.  8. 26. 23. 27. 21. 12. 18. 25. 18. 26.\n 26. 22. 30. 10.  8.  3. 18. 10.  3. 22. 24. 24. 28. 25.  7. 17. 13.  7.\n 27.  5. 13. 21. 27. 21. 14.  9.  4. 14. 12. 22. 18. 20. 17. 10.  4.  0.\n  6. 15. 12. 20. 31. 13. 30. 30.  2.  5. 25.  6.  8. 24. 14. 24. 24. 13.\n 14. 27.  4. 12. 26.  4. 27. 12. 27.  2. 23. 29.  2.  5. 19.  0.  2. 26.\n 28. 16.  6. 22. 21.  3.  2.  9. 20.  9. 18. 16.].\nReshape your data either using array.reshape(-1, 1) if your data has a single feature or array.reshape(1, -1) if it contains a single sample."
     ]
    }
   ],
   "source": [
    "# Declare a logistic regression model.\n",
    "# Apply a random_state of 9 to the model\n",
    "logistic_regression_model = LogisticRegression(random_state=9)\n",
    "\n",
    "# Fit and save the logistic regression model using the training data\n",
    "lr_model = logistic_regression_model.fit(X_train, y_train)"
   ]
  },
  {
   "cell_type": "code",
   "execution_count": null,
   "id": "dfc54d25-4222-48f0-8225-112bb86784f1",
   "metadata": {},
   "outputs": [],
   "source": []
  }
 ],
 "metadata": {
  "kernelspec": {
   "display_name": "Python 3 (ipykernel)",
   "language": "python",
   "name": "python3"
  },
  "language_info": {
   "codemirror_mode": {
    "name": "ipython",
    "version": 3
   },
   "file_extension": ".py",
   "mimetype": "text/x-python",
   "name": "python",
   "nbconvert_exporter": "python",
   "pygments_lexer": "ipython3",
   "version": "3.9.12"
  }
 },
 "nbformat": 4,
 "nbformat_minor": 5
}
