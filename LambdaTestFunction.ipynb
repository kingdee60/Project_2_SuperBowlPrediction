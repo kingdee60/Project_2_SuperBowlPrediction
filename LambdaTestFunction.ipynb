import json
import requests
def lambda_handler(event, context):
    rapid_api_url = "https://sportspage-feeds.p.rapidapi.com/games"
    headers = {
    	"X-RapidAPI-Key": "5af28a6049msh7a0f5dc3983d02ep1bb5e6jsn385271c4cfc2",
    	"X-RapidAPI-Host": "sportspage-feeds.p.rapidapi.com"
    }
    querystring = {"league":"NFL","date":"2022-09-25"}
    score = {}
    response = requests.get(rapid_api_url, headers = headers, params = querystring)
    response_json = response.json()["results"]
    length = len(response_json)
    # return length
    for i in range(length):
        score[int(str(i))]= {
            "away_score" : response_json[i]["scoreboard"]["score"]["away"],
            "home_score" : response_json[i]["scoreboard"]["score"]["home"],
            "away_team" : response_json[i]["teams"]["away"]["team"],
            "home_team" : response_json[i]["teams"]["home"]["team"],
        }
    return score
